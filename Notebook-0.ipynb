{
    "metadata": {
        "kernelspec": {
            "name": "SQL",
            "display_name": "SQL",
            "language": "sql"
        },
        "language_info": {
            "name": "sql",
            "version": ""
        },
        "extensions": {
            "azuredatastudio": {
                "version": 1,
                "views": []
            }
        }
    },
    "nbformat_minor": 2,
    "nbformat": 4,
    "cells": [
        {
            "cell_type": "markdown",
            "source": [
                "# SQL Part 4 Studio\n",
                "\n",
                "For this studio, you will be working in small groups and using the BooksDB.  One group member should screen share while fellow group members code along in their own notebooks.  Each group member will submit a link to their studio notebook.\n",
                "\n",
                "You are back at the bookstore helping employees with their inventory of books.   Four employees need your help with finding books to create in-store displays.  Read their requests and decide if you want to use a correlated subquery, nested subquery, UNION operator, EXCEPT operator, or INTERSECT operator.  You may not use any joins or add multiple statements to the WHERE clause unless explicitly asked."
            ],
            "metadata": {
                "azdata_cell_guid": "3ea3f8a2-b444-4354-be8b-eebc139b3c13"
            },
            "attachments": {}
        },
        {
            "cell_type": "markdown",
            "source": [
                "## QUESTION 1:  Willow\n",
                "\n",
                "Willow wants a list of book titles that have multiple authors attributed to them.  Write a query to return her desired results."
            ],
            "metadata": {
                "azdata_cell_guid": "5c8b1c77-0878-4dc6-8e79-7f64e5e1df0d"
            },
            "attachments": {}
        },
        {
            "cell_type": "code",
            "source": [
                "-- Code here:\n",
                "SELECT TOP 20 title, authors FROM BooksDB.dbo.books \n",
                "WHERE authors LIKE '%,%'"
            ],
            "metadata": {
                "azdata_cell_guid": "46c76d2f-acbc-4fd2-9c2a-367044fda616",
                "tags": [],
                "language": "sql"
            },
            "outputs": [
                {
                    "output_type": "display_data",
                    "data": {
                        "text/html": "(20 rows affected)"
                    },
                    "metadata": {}
                },
                {
                    "output_type": "display_data",
                    "data": {
                        "text/html": "Total execution time: 00:00:00.040"
                    },
                    "metadata": {}
                },
                {
                    "output_type": "execute_result",
                    "execution_count": 6,
                    "data": {
                        "application/vnd.dataresource+json": {
                            "schema": {
                                "fields": [
                                    {
                                        "name": "title"
                                    },
                                    {
                                        "name": "authors"
                                    }
                                ]
                            },
                            "data": [
                                {
                                    "title": "Harry Potter and the Sorcerer's Stone (Harry Potter, #1)",
                                    "authors": "J.K. Rowling, Mary GrandPré"
                                },
                                {
                                    "title": "1984",
                                    "authors": "George Orwell, Erich Fromm, Celâl Üster"
                                },
                                {
                                    "title": "The Diary of a Young Girl",
                                    "authors": "Anne Frank, Eleanor Roosevelt, B.M. Mooyaart-Doubleday"
                                },
                                {
                                    "title": "The Girl with the Dragon Tattoo (Millennium, #1)",
                                    "authors": "Stieg Larsson, Reg Keeland"
                                },
                                {
                                    "title": "Harry Potter and the Prisoner of Azkaban (Harry Potter, #3)",
                                    "authors": "J.K. Rowling, Mary GrandPré, Rufus Beck"
                                },
                                {
                                    "title": "Harry Potter and the Order of the Phoenix (Harry Potter, #5)",
                                    "authors": "J.K. Rowling, Mary GrandPré"
                                },
                                {
                                    "title": "Harry Potter and the Chamber of Secrets (Harry Potter, #2)",
                                    "authors": "J.K. Rowling, Mary GrandPré"
                                },
                                {
                                    "title": "Harry Potter and the Goblet of Fire (Harry Potter, #4)",
                                    "authors": "J.K. Rowling, Mary GrandPré"
                                },
                                {
                                    "title": "Harry Potter and the Deathly Hallows (Harry Potter, #7)",
                                    "authors": "J.K. Rowling, Mary GrandPré"
                                },
                                {
                                    "title": "Harry Potter and the Half-Blood Prince (Harry Potter, #6)",
                                    "authors": "J.K. Rowling, Mary GrandPré"
                                },
                                {
                                    "title": "Romeo and Juliet",
                                    "authors": "William Shakespeare, Robert           Jackson"
                                },
                                {
                                    "title": "The Alchemist",
                                    "authors": "Paulo Coelho, Alan R. Clarke"
                                },
                                {
                                    "title": "Jane Eyre",
                                    "authors": "Charlotte Brontë, Michael Mason"
                                },
                                {
                                    "title": "The Adventures of Huckleberry Finn",
                                    "authors": "Mark Twain, John Seelye, Guy Cardwell"
                                },
                                {
                                    "title": "Charlotte's Web",
                                    "authors": "E.B. White, Garth Williams, Rosemary Wells"
                                },
                                {
                                    "title": "Wuthering Heights",
                                    "authors": "Emily Brontë, Richard J. Dunn"
                                },
                                {
                                    "title": "Frankenstein",
                                    "authors": "Mary Wollstonecraft Shelley, Percy Bysshe Shelley, Maurice Hindle"
                                },
                                {
                                    "title": "Sense and Sensibility",
                                    "authors": "Jane Austen, Tony Tanner, Ros Ballaster"
                                },
                                {
                                    "title": "Holes (Holes, #1)",
                                    "authors": "Louis Sachar, Louis Sachar"
                                },
                                {
                                    "title": "The Odyssey",
                                    "authors": "Homer, Robert Fagles, E.V. Rieu, Frédéric Mugler, Bernard Knox"
                                }
                            ]
                        },
                        "text/html": "<table><tr><th>title</th><th>authors</th></tr><tr><td>Harry Potter and the Sorcerer&#39;s Stone (Harry Potter, #1)</td><td>J.K. Rowling, Mary GrandPré</td></tr><tr><td>1984</td><td>George Orwell, Erich Fromm, Celâl Üster</td></tr><tr><td>The Diary of a Young Girl</td><td>Anne Frank, Eleanor Roosevelt, B.M. Mooyaart-Doubleday</td></tr><tr><td>The Girl with the Dragon Tattoo (Millennium, #1)</td><td>Stieg Larsson, Reg Keeland</td></tr><tr><td>Harry Potter and the Prisoner of Azkaban (Harry Potter, #3)</td><td>J.K. Rowling, Mary GrandPré, Rufus Beck</td></tr><tr><td>Harry Potter and the Order of the Phoenix (Harry Potter, #5)</td><td>J.K. Rowling, Mary GrandPré</td></tr><tr><td>Harry Potter and the Chamber of Secrets (Harry Potter, #2)</td><td>J.K. Rowling, Mary GrandPré</td></tr><tr><td>Harry Potter and the Goblet of Fire (Harry Potter, #4)</td><td>J.K. Rowling, Mary GrandPré</td></tr><tr><td>Harry Potter and the Deathly Hallows (Harry Potter, #7)</td><td>J.K. Rowling, Mary GrandPré</td></tr><tr><td>Harry Potter and the Half-Blood Prince (Harry Potter, #6)</td><td>J.K. Rowling, Mary GrandPré</td></tr><tr><td>Romeo and Juliet</td><td>William Shakespeare, Robert           Jackson</td></tr><tr><td>The Alchemist</td><td>Paulo Coelho, Alan R. Clarke</td></tr><tr><td>Jane Eyre</td><td>Charlotte Brontë, Michael Mason</td></tr><tr><td>The Adventures of Huckleberry Finn</td><td>Mark Twain, John Seelye, Guy Cardwell</td></tr><tr><td>Charlotte&#39;s Web</td><td>E.B. White, Garth Williams, Rosemary Wells</td></tr><tr><td>Wuthering Heights</td><td>Emily Brontë, Richard J. Dunn</td></tr><tr><td>Frankenstein</td><td>Mary Wollstonecraft Shelley, Percy Bysshe Shelley, Maurice Hindle</td></tr><tr><td>Sense and Sensibility</td><td>Jane Austen, Tony Tanner, Ros Ballaster</td></tr><tr><td>Holes (Holes, #1)</td><td>Louis Sachar, Louis Sachar</td></tr><tr><td>The Odyssey</td><td>Homer, Robert Fagles, E.V. Rieu, Frédéric Mugler, Bernard Knox</td></tr></table>"
                    },
                    "metadata": {}
                }
            ],
            "execution_count": 6
        },
        {
            "cell_type": "markdown",
            "source": [
                "## QUESTION 2: Ira\n",
                "\n",
                "Ira was asked by a customer for titles that have been tagged \"Meditation\".  As you create a query for Ira, think about how the tables in BooksDB are organized as you write your query."
            ],
            "metadata": {
                "azdata_cell_guid": "06f2a08a-a54e-484e-8053-c74594da9db2"
            },
            "attachments": {}
        },
        {
            "cell_type": "code",
            "source": [
                "-- Code here:\n",
                "SELECT title FROM BooksDB.dbo.books\n",
                "WHERE best_book_id IN (SELECT goodreads_book_id FROM BooksDB.dbo.book_tags \n",
                "    WHERE tag_id IN (SELECT tag_id FROM BooksDB.dbo.tags WHERE tag_name LIKE '%meditation%' )\n",
                " )"
            ],
            "metadata": {
                "azdata_cell_guid": "552924f9-a1cc-4979-8f53-15ba959550c2",
                "tags": [],
                "language": "sql"
            },
            "outputs": [
                {
                    "output_type": "display_data",
                    "data": {
                        "text/html": "(42 rows affected)"
                    },
                    "metadata": {}
                },
                {
                    "output_type": "display_data",
                    "data": {
                        "text/html": "Total execution time: 00:00:00.397"
                    },
                    "metadata": {}
                },
                {
                    "output_type": "execute_result",
                    "execution_count": 7,
                    "data": {
                        "application/vnd.dataresource+json": {
                            "schema": {
                                "fields": [
                                    {
                                        "name": "title"
                                    }
                                ]
                            },
                            "data": [
                                {
                                    "title": "A New Earth: Awakening to Your Life's Purpose"
                                },
                                {
                                    "title": "The Power of Now: A Guide to Spiritual Enlightenment"
                                },
                                {
                                    "title": "The Four Agreements: A Practical Guide to Personal Freedom"
                                },
                                {
                                    "title": "The Art of Happiness"
                                },
                                {
                                    "title": "Meditations"
                                },
                                {
                                    "title": "Way of the Peaceful Warrior: A Book That Changes Lives"
                                },
                                {
                                    "title": "Simple Abundance:  A Daybook of Comfort and Joy"
                                },
                                {
                                    "title": "Practicing the Power of Now: Essential Teachings, Meditations, and Exercises from the Power of Now"
                                },
                                {
                                    "title": "Autobiography of a Yogi"
                                },
                                {
                                    "title": "10% Happier: How I Tamed the Voice in My Head, Reduced Stress Without Losing My Edge, and Found Self-Help That Actually Works"
                                },
                                {
                                    "title": "The Seat of the Soul"
                                },
                                {
                                    "title": "The Teachings of Don Juan: A Yaqui Way of Knowledge "
                                },
                                {
                                    "title": "The Essential Rumi"
                                },
                                {
                                    "title": "Zen Mind, Beginner's Mind: Informal Talks on Zen Meditation and Practice"
                                },
                                {
                                    "title": "A Course in Miracles"
                                },
                                {
                                    "title": "The Power of Intention: Learning to Co-create Your World Your Way"
                                },
                                {
                                    "title": "The Practice of the Presence of God"
                                },
                                {
                                    "title": "Wherever You Go, There You Are: Mindfulness Meditation in Everyday Life"
                                },
                                {
                                    "title": "When Things Fall Apart: Heart Advice for Difficult Times"
                                },
                                {
                                    "title": "Be Here Now"
                                },
                                {
                                    "title": "Peace Is Every Step: The Path of Mindfulness in Everyday Life"
                                },
                                {
                                    "title": "Creative Visualization: Use the Power of Your Imagination to Create What You Want in Your Life"
                                },
                                {
                                    "title": "The Tibetan Book of Living and Dying"
                                },
                                {
                                    "title": "Zen of Seeing: Seeing/Drawing as Meditation"
                                },
                                {
                                    "title": "The Dhammapada"
                                },
                                {
                                    "title": "The Untethered Soul: The Journey Beyond Yourself"
                                },
                                {
                                    "title": "Waking Up: A Guide to Spirituality Without Religion"
                                },
                                {
                                    "title": "The I Ching or Book of Changes"
                                },
                                {
                                    "title": "The Happiness Hypothesis: Finding Modern Truth in Ancient Wisdom"
                                },
                                {
                                    "title": "Loving What Is: Four Questions That Can Change Your Life"
                                },
                                {
                                    "title": "The Imitation of Christ"
                                },
                                {
                                    "title": "The Miracle of Mindfulness: An Introduction to the Practice of Meditation"
                                },
                                {
                                    "title": "Care of the Soul: A Guide for Cultivating Depth and Sacredness in Everyday Life"
                                },
                                {
                                    "title": "Change Your Thoughts - Change Your Life: Living the Wisdom of the Tao"
                                },
                                {
                                    "title": "The Way of Zen"
                                },
                                {
                                    "title": "Living Buddha, Living Christ"
                                },
                                {
                                    "title": "Awakening the Buddha Within: Tibetan Wisdom for the Western World"
                                },
                                {
                                    "title": "The Book on the Taboo Against Knowing Who You Are"
                                },
                                {
                                    "title": "The Tenth Insight: Holding the Vision (Celestine Prophecy, #2)"
                                },
                                {
                                    "title": "The Upanishads: Translations from the Sanskrit"
                                },
                                {
                                    "title": "Thrive: The Third Metric to Redefining Success and Creating a Life of Well-Being, Wisdom, and Wonder"
                                },
                                {
                                    "title": "The Places That Scare You: A Guide to Fearlessness in Difficult Times"
                                }
                            ]
                        },
                        "text/html": "<table><tr><th>title</th></tr><tr><td>A New Earth: Awakening to Your Life&#39;s Purpose</td></tr><tr><td>The Power of Now: A Guide to Spiritual Enlightenment</td></tr><tr><td>The Four Agreements: A Practical Guide to Personal Freedom</td></tr><tr><td>The Art of Happiness</td></tr><tr><td>Meditations</td></tr><tr><td>Way of the Peaceful Warrior: A Book That Changes Lives</td></tr><tr><td>Simple Abundance:  A Daybook of Comfort and Joy</td></tr><tr><td>Practicing the Power of Now: Essential Teachings, Meditations, and Exercises from the Power of Now</td></tr><tr><td>Autobiography of a Yogi</td></tr><tr><td>10% Happier: How I Tamed the Voice in My Head, Reduced Stress Without Losing My Edge, and Found Self-Help That Actually Works</td></tr><tr><td>The Seat of the Soul</td></tr><tr><td>The Teachings of Don Juan: A Yaqui Way of Knowledge </td></tr><tr><td>The Essential Rumi</td></tr><tr><td>Zen Mind, Beginner&#39;s Mind: Informal Talks on Zen Meditation and Practice</td></tr><tr><td>A Course in Miracles</td></tr><tr><td>The Power of Intention: Learning to Co-create Your World Your Way</td></tr><tr><td>The Practice of the Presence of God</td></tr><tr><td>Wherever You Go, There You Are: Mindfulness Meditation in Everyday Life</td></tr><tr><td>When Things Fall Apart: Heart Advice for Difficult Times</td></tr><tr><td>Be Here Now</td></tr><tr><td>Peace Is Every Step: The Path of Mindfulness in Everyday Life</td></tr><tr><td>Creative Visualization: Use the Power of Your Imagination to Create What You Want in Your Life</td></tr><tr><td>The Tibetan Book of Living and Dying</td></tr><tr><td>Zen of Seeing: Seeing/Drawing as Meditation</td></tr><tr><td>The Dhammapada</td></tr><tr><td>The Untethered Soul: The Journey Beyond Yourself</td></tr><tr><td>Waking Up: A Guide to Spirituality Without Religion</td></tr><tr><td>The I Ching or Book of Changes</td></tr><tr><td>The Happiness Hypothesis: Finding Modern Truth in Ancient Wisdom</td></tr><tr><td>Loving What Is: Four Questions That Can Change Your Life</td></tr><tr><td>The Imitation of Christ</td></tr><tr><td>The Miracle of Mindfulness: An Introduction to the Practice of Meditation</td></tr><tr><td>Care of the Soul: A Guide for Cultivating Depth and Sacredness in Everyday Life</td></tr><tr><td>Change Your Thoughts - Change Your Life: Living the Wisdom of the Tao</td></tr><tr><td>The Way of Zen</td></tr><tr><td>Living Buddha, Living Christ</td></tr><tr><td>Awakening the Buddha Within: Tibetan Wisdom for the Western World</td></tr><tr><td>The Book on the Taboo Against Knowing Who You Are</td></tr><tr><td>The Tenth Insight: Holding the Vision (Celestine Prophecy, #2)</td></tr><tr><td>The Upanishads: Translations from the Sanskrit</td></tr><tr><td>Thrive: The Third Metric to Redefining Success and Creating a Life of Well-Being, Wisdom, and Wonder</td></tr><tr><td>The Places That Scare You: A Guide to Fearlessness in Difficult Times</td></tr></table>"
                    },
                    "metadata": {}
                }
            ],
            "execution_count": 7
        },
        {
            "cell_type": "markdown",
            "source": [
                "## QUESTION 3:  Alyce\n",
                "\n",
                "Alyce wants to create a display of books with an average rating of 4.2 or higher, but she only wants books that share both title and original title.  Write a query that displays both the original title and title for Alyce, in descending order by rating.  Make sure that none of the original titles contain NULL values either."
            ],
            "metadata": {
                "azdata_cell_guid": "1d758d74-b4f0-4836-bdfe-d7280b5b4592"
            },
            "attachments": {}
        },
        {
            "cell_type": "code",
            "source": [
                "-- Code here:\n",
                "SELECT title, original_title, average_rating FROM BooksDB.dbo.books\n",
                "WHERE average_rating >= 4.2\n",
                "INTERSECT\n",
                "SELECT title, original_title, average_rating FROM BooksDB.dbo.books\n",
                "WHERE title LIKE original_title\n",
                "EXCEPT\n",
                "SELECT title, original_title, average_rating FROM BooksDB.dbo.books\n",
                "WHERE original_title IS NULL\n",
                "ORDER BY average_rating DESC"
            ],
            "metadata": {
                "azdata_cell_guid": "2c693b4e-6987-4c49-ba55-61094e677608",
                "tags": [],
                "language": "sql"
            },
            "outputs": [
                {
                    "output_type": "display_data",
                    "data": {
                        "text/html": "(633 rows affected)"
                    },
                    "metadata": {}
                },
                {
                    "output_type": "display_data",
                    "data": {
                        "text/html": "Total execution time: 00:00:00.174"
                    },
                    "metadata": {}
                },
                {
                    "output_type": "execute_result",
                    "metadata": {},
                    "execution_count": 8,
                    "data": {
                        "application/vnd.dataresource+json": {
                            "schema": {
                                "fields": [
                                    {
                                        "name": "title"
                                    },
                                    {
                                        "name": "original_title"
                                    },
                                    {
                                        "name": "average_rating"
                                    }
                                ]
                            },
                            "data": [
                                {
                                    "title": "The Complete Calvin and Hobbes",
                                    "original_title": "The Complete Calvin and Hobbes",
                                    "average_rating": "4.82"
                                },
                                {
                                    "title": "Mark of the Lion Trilogy",
                                    "original_title": "Mark of the Lion Trilogy",
                                    "average_rating": "4.76"
                                },
                                {
                                    "title": "It's a Magical World: A Calvin and Hobbes Collection",
                                    "original_title": "It's a Magical World: A Calvin and Hobbes Collection",
                                    "average_rating": "4.75"
                                },
                                {
                                    "title": "There's Treasure Everywhere: A Calvin and Hobbes Collection",
                                    "original_title": "There's Treasure Everywhere: A Calvin and Hobbes Collection",
                                    "average_rating": "4.74"
                                },
                                {
                                    "title": "Harry Potter Collection (Harry Potter, #1-6)",
                                    "original_title": "Harry Potter Collection (Harry Potter, #1-6)",
                                    "average_rating": "4.73"
                                },
                                {
                                    "title": "Homicidal Psycho Jungle Cat: A Calvin and Hobbes Collection",
                                    "original_title": "Homicidal Psycho Jungle Cat: A Calvin and Hobbes Collection",
                                    "average_rating": "4.71"
                                },
                                {
                                    "title": "The Days Are Just Packed: A Calvin and Hobbes Collection",
                                    "original_title": "The Days Are Just Packed: A Calvin and Hobbes Collection",
                                    "average_rating": "4.68"
                                },
                                {
                                    "title": "The Calvin and Hobbes Lazy Sunday Book",
                                    "original_title": "The Calvin and Hobbes Lazy Sunday Book",
                                    "average_rating": "4.66"
                                },
                                {
                                    "title": "The Absolute Sandman, Volume One",
                                    "original_title": "The Absolute Sandman, Volume One",
                                    "average_rating": "4.65"
                                },
                                {
                                    "title": "The Essential Calvin and Hobbes: A Calvin and Hobbes Treasury",
                                    "original_title": "The Essential Calvin and Hobbes: A Calvin and Hobbes Treasury",
                                    "average_rating": "4.65"
                                },
                                {
                                    "title": "The Calvin and Hobbes Tenth Anniversary Book",
                                    "original_title": "The Calvin and Hobbes Tenth Anniversary Book",
                                    "average_rating": "4.63"
                                },
                                {
                                    "title": "The Hate U Give",
                                    "original_title": "The Hate U Give",
                                    "average_rating": "4.62"
                                },
                                {
                                    "title": "Calvin and Hobbes",
                                    "original_title": "Calvin and Hobbes",
                                    "average_rating": "4.61"
                                },
                                {
                                    "title": "Harry Potter and the Chamber of Secrets: Sheet Music for Flute with C.D",
                                    "original_title": "Harry Potter and the Chamber of Secrets: Sheet Music for Flute with C.D",
                                    "average_rating": "4.61"
                                },
                                {
                                    "title": "Holy Bible: New International Version",
                                    "original_title": "Holy Bible: New International Version",
                                    "average_rating": "4.61"
                                },
                                {
                                    "title": "Standing for Something: 10 Neglected Virtues That Will Heal Our Hearts and Homes",
                                    "original_title": "Standing for Something: 10 Neglected Virtues That Will Heal Our Hearts and Homes",
                                    "average_rating": "4.61"
                                },
                                {
                                    "title": "The Sandman: King of Dreams",
                                    "original_title": "The Sandman: King of Dreams",
                                    "average_rating": "4.61"
                                },
                                {
                                    "title": "An Echo in the Darkness (Mark of the Lion, #2)",
                                    "original_title": "An Echo in the Darkness (Mark of the Lion, #2)",
                                    "average_rating": "4.6"
                                },
                                {
                                    "title": "The Lord of the Rings: The Art of The Fellowship of the Ring",
                                    "original_title": "The Lord of the Rings: The Art of The Fellowship of the Ring",
                                    "average_rating": "4.59"
                                },
                                {
                                    "title": "Just Mercy: A Story of Justice and Redemption",
                                    "original_title": "Just Mercy: A Story of Justice and Redemption",
                                    "average_rating": "4.58"
                                },
                                {
                                    "title": "Harry Potter Page to Screen: The Complete Filmmaking Journey",
                                    "original_title": "Harry Potter Page to Screen: The Complete Filmmaking Journey",
                                    "average_rating": "4.56"
                                },
                                {
                                    "title": "The Green Mile, Part 6: Coffey on the Mile",
                                    "original_title": "The Green Mile, Part 6: Coffey on the Mile",
                                    "average_rating": "4.55"
                                },
                                {
                                    "title": "The Constitution of the United States of America",
                                    "original_title": "The Constitution of the United States of America",
                                    "average_rating": "4.54"
                                },
                                {
                                    "title": "The Nightingale",
                                    "original_title": "The Nightingale",
                                    "average_rating": "4.54"
                                },
                                {
                                    "title": "Courageous",
                                    "original_title": "Courageous",
                                    "average_rating": "4.53"
                                },
                                {
                                    "title": "The Lord of the Rings: Weapons and Warfare",
                                    "original_title": "The Lord of the Rings: Weapons and Warfare",
                                    "average_rating": "4.53"
                                },
                                {
                                    "title": "Thank You, Mr. Falker",
                                    "original_title": "Thank You, Mr. Falker",
                                    "average_rating": "4.52"
                                },
                                {
                                    "title": "The Green Mile, Part 4: The Bad Death of Eduard Delacroix",
                                    "original_title": "The Green Mile, Part 4: The Bad Death of Eduard Delacroix",
                                    "average_rating": "4.52"
                                },
                                {
                                    "title": "Believing Christ: The Parable of the Bicycle and Other Good News",
                                    "original_title": "Believing Christ: The Parable of the Bicycle and Other Good News",
                                    "average_rating": "4.51"
                                },
                                {
                                    "title": "The Green Mile, Part 5: Night Journey",
                                    "original_title": "The Green Mile, Part 5: Night Journey",
                                    "average_rating": "4.51"
                                },
                                {
                                    "title": "Humans of New York: Stories",
                                    "original_title": "Humans of New York: Stories",
                                    "average_rating": "4.5"
                                },
                                {
                                    "title": "Locke & Key, Vol. 6: Alpha & Omega",
                                    "original_title": "Locke & Key, Vol. 6: Alpha & Omega",
                                    "average_rating": "4.5"
                                },
                                {
                                    "title": "The Complete Sherlock Holmes",
                                    "original_title": "The Complete Sherlock Holmes",
                                    "average_rating": "4.5"
                                },
                                {
                                    "title": "The Green Mile, Part 3: Coffey's Hands",
                                    "original_title": "The Green Mile, Part 3: Coffey's Hands",
                                    "average_rating": "4.5"
                                },
                                {
                                    "title": "Kürk Mantolu Madonna",
                                    "original_title": "Kürk Mantolu Madonna",
                                    "average_rating": "4.49"
                                },
                                {
                                    "title": "The Complete Works",
                                    "original_title": "The Complete Works",
                                    "average_rating": "4.49"
                                },
                                {
                                    "title": "The Green Mile, Part 1: The Two Dead Girls",
                                    "original_title": "The Green Mile, Part 1: The Two Dead Girls",
                                    "average_rating": "4.49"
                                },
                                {
                                    "title": "The New Jim Crow: Mass Incarceration in the Age of Colorblindness",
                                    "original_title": "The New Jim Crow: Mass Incarceration in the Age of Colorblindness",
                                    "average_rating": "4.49"
                                },
                                {
                                    "title": "Assata: An Autobiography",
                                    "original_title": "Assata: An Autobiography",
                                    "average_rating": "4.48"
                                },
                                {
                                    "title": "Evicted: Poverty and Profit in the American City",
                                    "original_title": "Evicted: Poverty and Profit in the American City",
                                    "average_rating": "4.48"
                                },
                                {
                                    "title": "Harry Potter: Film Wizardry",
                                    "original_title": "Harry Potter: Film Wizardry",
                                    "average_rating": "4.48"
                                },
                                {
                                    "title": "On Food and Cooking: The Science and Lore of the Kitchen",
                                    "original_title": "On Food and Cooking: The Science and Lore of the Kitchen",
                                    "average_rating": "4.48"
                                },
                                {
                                    "title": "The Chronicles of Narnia - The Lion, the Witch, and the Wardrobe Official Illustrated Movie Companion",
                                    "original_title": "The Chronicles of Narnia - The Lion, the Witch, and the Wardrobe Official Illustrated Movie Companion",
                                    "average_rating": "4.48"
                                },
                                {
                                    "title": "Darkest Powers Trilogy (Darkest Powers, #1-3)",
                                    "original_title": "Darkest Powers Trilogy (Darkest Powers, #1-3)",
                                    "average_rating": "4.47"
                                },
                                {
                                    "title": "Ficciones",
                                    "original_title": "Ficciones",
                                    "average_rating": "4.47"
                                },
                                {
                                    "title": "Finding Nemo",
                                    "original_title": "Finding Nemo",
                                    "average_rating": "4.47"
                                },
                                {
                                    "title": "Fireproof",
                                    "original_title": "Fireproof",
                                    "average_rating": "4.47"
                                },
                                {
                                    "title": "Hamilton: The Revolution",
                                    "original_title": "Hamilton: The Revolution",
                                    "average_rating": "4.47"
                                },
                                {
                                    "title": "Lonesome Dove",
                                    "original_title": "Lonesome Dove",
                                    "average_rating": "4.47"
                                },
                                {
                                    "title": "The Coldest Winter Ever",
                                    "original_title": "The Coldest Winter Ever",
                                    "average_rating": "4.47"
                                },
                                {
                                    "title": "The Green Mile, Part 2: The Mouse on the Mile",
                                    "original_title": "The Green Mile, Part 2: The Mouse on the Mile",
                                    "average_rating": "4.47"
                                },
                                {
                                    "title": "The Gruffalo",
                                    "original_title": "The Gruffalo",
                                    "average_rating": "4.47"
                                },
                                {
                                    "title": "Tramp for the Lord",
                                    "original_title": "Tramp for the Lord",
                                    "average_rating": "4.47"
                                },
                                {
                                    "title": "We Should All Be Feminists",
                                    "original_title": "We Should All Be Feminists",
                                    "average_rating": "4.47"
                                },
                                {
                                    "title": "Shoe Dog: A Memoir by the Creator of NIKE",
                                    "original_title": "Shoe Dog: A Memoir by the Creator of Nike",
                                    "average_rating": "4.46"
                                },
                                {
                                    "title": "The Complete Adventures of Peter Rabbit",
                                    "original_title": "The Complete Adventures of Peter Rabbit",
                                    "average_rating": "4.46"
                                },
                                {
                                    "title": "Archer's Voice",
                                    "original_title": "Archer's Voice",
                                    "average_rating": "4.45"
                                },
                                {
                                    "title": "Harry Potter and Philosophy: If Aristotle Ran Hogwarts",
                                    "original_title": "Harry Potter and Philosophy: If Aristotle Ran Hogwarts",
                                    "average_rating": "4.45"
                                },
                                {
                                    "title": "Lover Awakened (Black Dagger Brotherhood, #3)",
                                    "original_title": "Lover Awakened (Black Dagger Brotherhood, #3)",
                                    "average_rating": "4.45"
                                },
                                {
                                    "title": "Miss Rumphius",
                                    "original_title": "Miss Rumphius",
                                    "average_rating": "4.45"
                                },
                                {
                                    "title": "Praying God's Word: Breaking Free From Spiritual Strongholds",
                                    "original_title": "Praying God's Word: Breaking Free From Spiritual Strongholds",
                                    "average_rating": "4.45"
                                },
                                {
                                    "title": "Sherlock Holmes: The Complete Novels and Stories, Volume I",
                                    "original_title": "Sherlock Holmes: The Complete Novels and Stories, Volume I",
                                    "average_rating": "4.45"
                                },
                                {
                                    "title": "The Far Side Gallery 3",
                                    "original_title": "The Far Side Gallery 3",
                                    "average_rating": "4.45"
                                },
                                {
                                    "title": "The Fire Next Time",
                                    "original_title": "The Fire Next Time",
                                    "average_rating": "4.45"
                                },
                                {
                                    "title": "The Help",
                                    "original_title": "The Help",
                                    "average_rating": "4.45"
                                },
                                {
                                    "title": "The Monster at the End of this Book",
                                    "original_title": "The Monster at the End of This Book",
                                    "average_rating": "4.45"
                                },
                                {
                                    "title": "Wicked - Piano/Vocal Arrangement",
                                    "original_title": "Wicked - Piano/Vocal Arrangement",
                                    "average_rating": "4.45"
                                },
                                {
                                    "title": "Ignite Me (Shatter Me, #3)",
                                    "original_title": "Ignite Me (Shatter Me, #3)",
                                    "average_rating": "4.44"
                                },
                                {
                                    "title": "It Ends with Us",
                                    "original_title": "It Ends with Us",
                                    "average_rating": "4.44"
                                },
                                {
                                    "title": "Locke & Key, Vol. 4: Keys to the Kingdom",
                                    "original_title": "Locke & Key, Vol. 4: Keys to the Kingdom",
                                    "average_rating": "4.44"
                                },
                                {
                                    "title": "The Complete Stories",
                                    "original_title": "The Complete Stories",
                                    "average_rating": "4.44"
                                },
                                {
                                    "title": "The Poetry of Pablo Neruda",
                                    "original_title": "The Poetry of Pablo Neruda",
                                    "average_rating": "4.44"
                                },
                                {
                                    "title": "Left to Tell: Discovering God Amidst the Rwandan Holocaust",
                                    "original_title": "Left to Tell: Discovering God Amidst the Rwandan Holocaust",
                                    "average_rating": "4.43"
                                },
                                {
                                    "title": "The Wheel of Time: Boxed Set #1 (Wheel of Time, #1-3)",
                                    "original_title": "The Wheel of Time: Boxed Set #1 (Wheel of Time, #1-3)",
                                    "average_rating": "4.43"
                                },
                                {
                                    "title": "Wonder",
                                    "original_title": "Wonder",
                                    "average_rating": "4.43"
                                },
                                {
                                    "title": "رباعيات صلاح جاهين",
                                    "original_title": "رباعيات صلاح جاهين",
                                    "average_rating": "4.43"
                                },
                                {
                                    "title": "Band of Brothers: E Company, 506th Regiment, 101st Airborne from Normandy to Hitler's Eagle's Nest",
                                    "original_title": "Band of Brothers: E Company, 506th Regiment, 101st Airborne from Normandy to Hitler's Eagle's Nest",
                                    "average_rating": "4.42"
                                },
                                {
                                    "title": "Ina May's Guide to Childbirth",
                                    "original_title": "Ina May's Guide to Childbirth",
                                    "average_rating": "4.42"
                                },
                                {
                                    "title": "Nothing to Envy: Ordinary Lives in North Korea",
                                    "original_title": "Nothing to Envy: Ordinary Lives in North Korea",
                                    "average_rating": "4.42"
                                },
                                {
                                    "title": "The Far Side Gallery",
                                    "original_title": "The Far Side Gallery",
                                    "average_rating": "4.42"
                                },
                                {
                                    "title": "The Green Mile",
                                    "original_title": "The Green Mile",
                                    "average_rating": "4.42"
                                },
                                {
                                    "title": "Fantastic Beasts and Where to Find Them: The Original Screenplay",
                                    "original_title": "Fantastic Beasts and Where to Find Them: The Original Screenplay",
                                    "average_rating": "4.41"
                                },
                                {
                                    "title": "Homegoing",
                                    "original_title": "Homegoing",
                                    "average_rating": "4.41"
                                },
                                {
                                    "title": "November 9",
                                    "original_title": "November 9",
                                    "average_rating": "4.41"
                                },
                                {
                                    "title": "Scott Pilgrim, Volume 6: Scott Pilgrim's Finest Hour",
                                    "original_title": "Scott Pilgrim, Volume 6: Scott Pilgrim's Finest Hour",
                                    "average_rating": "4.41"
                                },
                                {
                                    "title": "The Cat in the Hat and Other Dr. Seuss Favorites",
                                    "original_title": "The Cat in the Hat and Other Dr. Seuss Favorites",
                                    "average_rating": "4.41"
                                },
                                {
                                    "title": "The Day the Crayons Quit",
                                    "original_title": "The Day the Crayons Quit",
                                    "average_rating": "4.41"
                                },
                                {
                                    "title": "The Kissing Hand",
                                    "original_title": "The Kissing Hand",
                                    "average_rating": "4.41"
                                },
                                {
                                    "title": "The Peacegiver: How Christ Offers to Heal Our Hearts and Homes",
                                    "original_title": "The Peacegiver: How Christ Offers to Heal Our Hearts and Homes",
                                    "average_rating": "4.41"
                                },
                                {
                                    "title": "The Story of Ruby Bridges",
                                    "original_title": "The Story of Ruby Bridges",
                                    "average_rating": "4.41"
                                },
                                {
                                    "title": "The Weight of Glory",
                                    "original_title": "The Weight of Glory",
                                    "average_rating": "4.41"
                                },
                                {
                                    "title": "Being Mortal: Medicine and What Matters in the End",
                                    "original_title": "Being Mortal: Medicine and What Matters in the End",
                                    "average_rating": "4.4"
                                },
                                {
                                    "title": "Between the World and Me",
                                    "original_title": "Between the World and Me",
                                    "average_rating": "4.4"
                                },
                                {
                                    "title": "Gates of Fire: An Epic Novel of the Battle of Thermopylae",
                                    "original_title": "Gates of Fire: An Epic Novel of the Battle of Thermopylae",
                                    "average_rating": "4.4"
                                },
                                {
                                    "title": "The Exploits of Sherlock Holmes",
                                    "original_title": "The Exploits of Sherlock Holmes",
                                    "average_rating": "4.4"
                                },
                                {
                                    "title": "The Royal Ranger (Ranger's Apprentice, #12)",
                                    "original_title": "The Royal Ranger (Ranger's Apprentice, #12)",
                                    "average_rating": "4.4"
                                },
                                {
                                    "title": "The Sunne in Splendour",
                                    "original_title": "The Sunne in Splendour",
                                    "average_rating": "4.4"
                                },
                                {
                                    "title": "Unbroken: A World War II Story of Survival, Resilience, and Redemption",
                                    "original_title": "Unbroken: A World War II Story of Survival, Resilience, and Redemption",
                                    "average_rating": "4.4"
                                },
                                {
                                    "title": "With the Old Breed: At Peleliu and Okinawa",
                                    "original_title": "With The Old Breed: At Peleliu And Okinawa",
                                    "average_rating": "4.4"
                                },
                                {
                                    "title": "As Sure as the Dawn (Mark of the Lion, #3)",
                                    "original_title": "As Sure as the Dawn (Mark of the Lion, #3)",
                                    "average_rating": "4.39"
                                },
                                {
                                    "title": "Beauty and the Beast",
                                    "original_title": "Beauty and the Beast",
                                    "average_rating": "4.39"
                                },
                                {
                                    "title": "Every Thing on It",
                                    "original_title": "Every Thing On It",
                                    "average_rating": "4.39"
                                },
                                {
                                    "title": "I Love You Through and Through",
                                    "original_title": "I Love You Through And Through",
                                    "average_rating": "4.39"
                                },
                                {
                                    "title": "I Want My Hat Back",
                                    "original_title": "I Want My Hat Back",
                                    "average_rating": "4.39"
                                },
                                {
                                    "title": "Martin Eden",
                                    "original_title": "Martin Eden",
                                    "average_rating": "4.39"
                                },
                                {
                                    "title": "My Utmost for His Highest",
                                    "original_title": "My Utmost for His Highest",
                                    "average_rating": "4.39"
                                },
                                {
                                    "title": "Red Notice: A True Story of High Finance, Murder, and One Man’s Fight for Justice",
                                    "original_title": "Red Notice: A True Story of High Finance, Murder, and One Man’s Fight for Justice",
                                    "average_rating": "4.39"
                                },
                                {
                                    "title": "Stand Tall, Molly Lou Melon",
                                    "original_title": "Stand Tall, Molly Lou Melon",
                                    "average_rating": "4.39"
                                },
                                {
                                    "title": "Streams in the Desert",
                                    "original_title": "Streams in the Desert",
                                    "average_rating": "4.39"
                                },
                                {
                                    "title": "The Brothers K",
                                    "original_title": "The Brothers K",
                                    "average_rating": "4.39"
                                },
                                {
                                    "title": "The Lord God Made Them All",
                                    "original_title": "The Lord God Made Them All",
                                    "average_rating": "4.39"
                                },
                                {
                                    "title": "The Martian",
                                    "original_title": "The Martian",
                                    "average_rating": "4.39"
                                },
                                {
                                    "title": "The Truth Seeker (O'Malley #3)",
                                    "original_title": "The Truth Seeker (O'Malley #3)",
                                    "average_rating": "4.39"
                                },
                                {
                                    "title": "Homicide: A Year on the Killing Streets",
                                    "original_title": "Homicide: A Year on the Killing Streets",
                                    "average_rating": "4.38"
                                },
                                {
                                    "title": "Love You to Death: The Unofficial Companion to the Vampire Diaries",
                                    "original_title": "Love You to Death: The Unofficial Companion to The Vampire Diaries",
                                    "average_rating": "4.38"
                                },
                                {
                                    "title": "Survivor In Death (In Death, #20)",
                                    "original_title": "Survivor in Death (In Death, #20)",
                                    "average_rating": "4.38"
                                },
                                {
                                    "title": "The Beatles Anthology",
                                    "original_title": "The Beatles Anthology",
                                    "average_rating": "4.38"
                                },
                                {
                                    "title": "The Giving Tree",
                                    "original_title": "The Giving Tree",
                                    "average_rating": "4.38"
                                },
                                {
                                    "title": "The Looming Tower: Al-Qaeda and the Road to 9/11",
                                    "original_title": "The Looming Tower: Al-Qaeda and the Road to 9/11",
                                    "average_rating": "4.38"
                                },
                                {
                                    "title": "The Power of a Praying Woman",
                                    "original_title": "The Power of a Praying Woman",
                                    "average_rating": "4.38"
                                },
                                {
                                    "title": "The Return of the Prodigal Son: A Story of Homecoming",
                                    "original_title": "The Return of the Prodigal Son: A Story of Homecoming",
                                    "average_rating": "4.38"
                                },
                                {
                                    "title": "The Sandman: The Dream Hunters",
                                    "original_title": "The Sandman: The Dream Hunters",
                                    "average_rating": "4.38"
                                },
                                {
                                    "title": "Through Gates of Splendor",
                                    "original_title": "Through Gates of Splendor",
                                    "average_rating": "4.38"
                                },
                                {
                                    "title": "Twilight and History",
                                    "original_title": "Twilight and History",
                                    "average_rating": "4.38"
                                },
                                {
                                    "title": "A Gentleman in Moscow",
                                    "original_title": "A Gentleman in Moscow",
                                    "average_rating": "4.37"
                                },
                                {
                                    "title": "And the Band Played On: Politics, People, and the AIDS Epidemic",
                                    "original_title": "And the Band Played On: Politics, People, and the AIDS Epidemic",
                                    "average_rating": "4.37"
                                },
                                {
                                    "title": "Bumi Manusia",
                                    "original_title": "Bumi Manusia",
                                    "average_rating": "4.37"
                                },
                                {
                                    "title": "Out of My Mind",
                                    "original_title": "Out of My Mind",
                                    "average_rating": "4.37"
                                },
                                {
                                    "title": "The Improbable Adventures of Sherlock Holmes",
                                    "original_title": "The Improbable Adventures of Sherlock Holmes",
                                    "average_rating": "4.37"
                                },
                                {
                                    "title": "The Miracle of Forgiveness",
                                    "original_title": "The Miracle of Forgiveness",
                                    "average_rating": "4.37"
                                },
                                {
                                    "title": "The Pigeon Wants a Puppy!",
                                    "original_title": "The Pigeon Wants a Puppy!",
                                    "average_rating": "4.37"
                                },
                                {
                                    "title": "The Wheel of Time: Boxed Set  (Wheel of Time, #1-8)",
                                    "original_title": "The Wheel of Time: Boxed Set  (Wheel of Time, #1-8)",
                                    "average_rating": "4.37"
                                },
                                {
                                    "title": "Wicked Deeds on a Winter's Night (Immortals After Dark #4)",
                                    "original_title": "Wicked Deeds on a Winter's Night (Immortals After Dark #4)",
                                    "average_rating": "4.37"
                                },
                                {
                                    "title": "A Work in Progress",
                                    "original_title": "A Work in Progress",
                                    "average_rating": "4.36"
                                },
                                {
                                    "title": "Between Shades of Gray",
                                    "original_title": "Between Shades of Gray",
                                    "average_rating": "4.36"
                                },
                                {
                                    "title": "Echo",
                                    "original_title": "Echo",
                                    "average_rating": "4.36"
                                },
                                {
                                    "title": "Endurance: Shackleton's Incredible Voyage",
                                    "original_title": "Endurance: Shackleton's incredible voyage",
                                    "average_rating": "4.36"
                                },
                                {
                                    "title": "Guess How Much I Love You",
                                    "original_title": "Guess How Much I Love You",
                                    "average_rating": "4.36"
                                },
                                {
                                    "title": "How the Grinch Stole Christmas!",
                                    "original_title": "How the Grinch Stole Christmas!",
                                    "average_rating": "4.36"
                                },
                                {
                                    "title": "Innocent in Death (In Death, #24)",
                                    "original_title": "Innocent in Death (In Death, #24)",
                                    "average_rating": "4.36"
                                },
                                {
                                    "title": "Making Faces",
                                    "original_title": "Making Faces",
                                    "average_rating": "4.36"
                                },
                                {
                                    "title": "Salt to the Sea",
                                    "original_title": "Salt to the Sea",
                                    "average_rating": "4.36"
                                },
                                {
                                    "title": "The Book Thief",
                                    "original_title": "The Book Thief",
                                    "average_rating": "4.36"
                                },
                                {
                                    "title": "The Godfather",
                                    "original_title": "The Godfather",
                                    "average_rating": "4.36"
                                },
                                {
                                    "title": "The Power of the Dog",
                                    "original_title": "The Power of the Dog",
                                    "average_rating": "4.36"
                                },
                                {
                                    "title": "Y: The Last Man - The Deluxe Edition Book One",
                                    "original_title": "Y: The Last Man - The Deluxe Edition Book One",
                                    "average_rating": "4.36"
                                },
                                {
                                    "title": "Chasing the Prophecy (Beyonders, #3)",
                                    "original_title": "Chasing the Prophecy (Beyonders, #3)",
                                    "average_rating": "4.35"
                                },
                                {
                                    "title": "Cosmos",
                                    "original_title": "Cosmos",
                                    "average_rating": "4.35"
                                },
                                {
                                    "title": "Don't Let the Pigeon Stay Up Late!",
                                    "original_title": "Don't Let the Pigeon Stay Up Late!",
                                    "average_rating": "4.35"
                                },
                                {
                                    "title": "Lover Eternal (Black Dagger Brotherhood, #2)",
                                    "original_title": "Lover Eternal (Black Dagger Brotherhood, #2)",
                                    "average_rating": "4.35"
                                },
                                {
                                    "title": "On the Night You Were Born",
                                    "original_title": "On the Night You Were Born",
                                    "average_rating": "4.35"
                                },
                                {
                                    "title": "The Holiness of God",
                                    "original_title": "The Holiness of God",
                                    "average_rating": "4.35"
                                },
                                {
                                    "title": "The Lorax",
                                    "original_title": "The Lorax",
                                    "average_rating": "4.35"
                                },
                                {
                                    "title": "The Mauritius Command",
                                    "original_title": "The Mauritius Command",
                                    "average_rating": "4.35"
                                },
                                {
                                    "title": "The Pigeon Finds a Hot Dog!",
                                    "original_title": "The Pigeon Finds a Hot Dog!",
                                    "average_rating": "4.35"
                                },
                                {
                                    "title": "The Story of Ferdinand",
                                    "original_title": "The Story of Ferdinand",
                                    "average_rating": "4.35"
                                },
                                {
                                    "title": "Watchmen",
                                    "original_title": "Watchmen",
                                    "average_rating": "4.35"
                                },
                                {
                                    "title": "A Fine Balance",
                                    "original_title": "A Fine Balance",
                                    "average_rating": "4.34"
                                },
                                {
                                    "title": "A Light in the Attic",
                                    "original_title": "A Light in the Attic",
                                    "average_rating": "4.34"
                                },
                                {
                                    "title": "A Thousand Splendid Suns",
                                    "original_title": "A Thousand Splendid Suns",
                                    "average_rating": "4.34"
                                },
                                {
                                    "title": "Different Seasons",
                                    "original_title": "Different Seasons",
                                    "average_rating": "4.34"
                                },
                                {
                                    "title": "Drums of Autumn (Outlander, #4)",
                                    "original_title": "Drums of Autumn (Outlander, #4)",
                                    "average_rating": "4.34"
                                },
                                {
                                    "title": "Identical",
                                    "original_title": "Identical",
                                    "average_rating": "4.34"
                                },
                                {
                                    "title": "India After Gandhi: The History of the World's Largest Democracy",
                                    "original_title": "India After Gandhi: The History of the World's Largest Democracy",
                                    "average_rating": "4.34"
                                },
                                {
                                    "title": "Janet Evanovich Three and Four Two-Book Set (Stephanie Plum, #3-4)",
                                    "original_title": "Janet Evanovich Three and Four Two-Book Set (Stephanie Plum, #3-4)",
                                    "average_rating": "4.34"
                                },
                                {
                                    "title": "Lone Survivor: The Eyewitness Account of Operation Redwing and the Lost Heroes of SEAL Team 10",
                                    "original_title": "Lone Survivor: The Eyewitness Account of Operation Redwing and the Lost Heroes of SEAL Team 10",
                                    "average_rating": "4.34"
                                },
                                {
                                    "title": "Love You Forever",
                                    "original_title": "Love You Forever",
                                    "average_rating": "4.34"
                                },
                                {
                                    "title": "Oh, The Places You'll Go!",
                                    "original_title": "Oh, the Places You'll Go!",
                                    "average_rating": "4.34"
                                },
                                {
                                    "title": "Peace Is Every Step: The Path of Mindfulness in Everyday Life",
                                    "original_title": "Peace Is Every Step: The Path of Mindfulness in Everyday Life",
                                    "average_rating": "4.34"
                                },
                                {
                                    "title": "The Book with No Pictures",
                                    "original_title": "The Book with No Pictures",
                                    "average_rating": "4.34"
                                },
                                {
                                    "title": "The Last Seven Months of Anne Frank",
                                    "original_title": "The Last Seven Months of Anne Frank",
                                    "average_rating": "4.34"
                                },
                                {
                                    "title": "The Miraculous Journey of Edward Tulane",
                                    "original_title": "The Miraculous Journey of Edward Tulane",
                                    "average_rating": "4.34"
                                },
                                {
                                    "title": "The Sandman: Endless Nights",
                                    "original_title": "The Sandman: Endless Nights",
                                    "average_rating": "4.34"
                                },
                                {
                                    "title": "The Sea of Tranquility",
                                    "original_title": "The Sea of Tranquility",
                                    "average_rating": "4.34"
                                },
                                {
                                    "title": "The Stand",
                                    "original_title": "The Stand",
                                    "average_rating": "4.34"
                                },
                                {
                                    "title": "The Wall of Winnipeg and Me",
                                    "original_title": "The Wall of Winnipeg and Me",
                                    "average_rating": "4.34"
                                },
                                {
                                    "title": "All-Star Superman, Vol. 2",
                                    "original_title": "All-Star Superman, Vol. 2",
                                    "average_rating": "4.33"
                                },
                                {
                                    "title": "Amazing Grace",
                                    "original_title": "Amazing Grace",
                                    "average_rating": "4.33"
                                },
                                {
                                    "title": "Batman, Volume 3: Death of the Family",
                                    "original_title": "Batman, Volume 3: Death of the Family",
                                    "average_rating": "4.33"
                                },
                                {
                                    "title": "Battlefield of the Mind: Winning the Battle in Your Mind",
                                    "original_title": "Battlefield of the Mind: Winning the Battle in Your Mind",
                                    "average_rating": "4.33"
                                },
                                {
                                    "title": "Born in Death (In Death, #23)",
                                    "original_title": "Born in Death (In Death, #23)",
                                    "average_rating": "4.33"
                                },
                                {
                                    "title": "Crush",
                                    "original_title": "Crush",
                                    "average_rating": "4.33"
                                },
                                {
                                    "title": "Exodus",
                                    "original_title": "Exodus",
                                    "average_rating": "4.33"
                                },
                                {
                                    "title": "Falling Up",
                                    "original_title": "Falling Up",
                                    "average_rating": "4.33"
                                },
                                {
                                    "title": "Last Chance to See",
                                    "original_title": "Last Chance to See",
                                    "average_rating": "4.33"
                                },
                                {
                                    "title": "Mastering the Art of French Cooking",
                                    "original_title": "Mastering the Art of French Cooking",
                                    "average_rating": "4.33"
                                },
                                {
                                    "title": "Preacher, Volume 8: All Hell's a-Coming",
                                    "original_title": "Preacher, Volume 8: All Hell's a-Coming",
                                    "average_rating": "4.33"
                                },
                                {
                                    "title": "SantaLand Diaries",
                                    "original_title": "SantaLand Diaries",
                                    "average_rating": "4.33"
                                },
                                {
                                    "title": "Scott Pilgrim, Volume 5: Scott Pilgrim Vs. the Universe",
                                    "original_title": "Scott Pilgrim, Volume 5: Scott Pilgrim Vs. the Universe",
                                    "average_rating": "4.33"
                                },
                                {
                                    "title": "Taken at Dusk (Shadow Falls, #3)",
                                    "original_title": "Taken at Dusk (Shadow Falls, #3)",
                                    "average_rating": "4.33"
                                },
                                {
                                    "title": "The Arrival",
                                    "original_title": "The Arrival",
                                    "average_rating": "4.33"
                                },
                                {
                                    "title": "The Dragonslayer (Bone, #4)",
                                    "original_title": "The Dragonslayer (Bone, #4)",
                                    "average_rating": "4.33"
                                },
                                {
                                    "title": "The Emperor's Soul",
                                    "original_title": "The Emperor's Soul",
                                    "average_rating": "4.33"
                                },
                                {
                                    "title": "The Heavenly Man: The Remarkable True Story of Chinese Christian Brother Yun",
                                    "original_title": "The Heavenly Man: The Remarkable True Story of Chinese Christian Brother Yun",
                                    "average_rating": "4.33"
                                },
                                {
                                    "title": "The Real Mother Goose",
                                    "original_title": "The Real Mother Goose",
                                    "average_rating": "4.33"
                                },
                                {
                                    "title": "Visions in Death (In Death, #19)",
                                    "original_title": "Visions in Death (In Death, #19)",
                                    "average_rating": "4.33"
                                },
                                {
                                    "title": "A Higher Call: An Incredible True Story of Combat and Chivalry in the War-Torn Skies of World War II",
                                    "original_title": "A Higher Call: An Incredible True Story of Combat and Chivalry in the War-Torn Skies of World War II",
                                    "average_rating": "4.32"
                                },
                                {
                                    "title": "Battle Cry of Freedom",
                                    "original_title": "Battle Cry of Freedom",
                                    "average_rating": "4.32"
                                },
                                {
                                    "title": "Black Lies",
                                    "original_title": "Black Lies",
                                    "average_rating": "4.32"
                                },
                                {
                                    "title": "Boy's Life",
                                    "original_title": "Boy's Life",
                                    "average_rating": "4.32"
                                },
                                {
                                    "title": "Counterfeit Gods: The Empty Promises of Money, Sex, and Power, and the Only Hope that Matters",
                                    "original_title": "Counterfeit Gods: The Empty Promises of Money, Sex, and Power, and the Only Hope That Matters",
                                    "average_rating": "4.32"
                                },
                                {
                                    "title": "Divided in Death (In Death, #18)",
                                    "original_title": "Divided in Death (In Death, #18)",
                                    "average_rating": "4.32"
                                },
                                {
                                    "title": "God's Smuggler",
                                    "original_title": "God's Smuggler",
                                    "average_rating": "4.32"
                                },
                                {
                                    "title": "If I Die (Soul Screamers, #5)",
                                    "original_title": "If I Die (Soul Screamers, #5)",
                                    "average_rating": "4.32"
                                },
                                {
                                    "title": "Mufaro's Beautiful Daughters: An African Tale",
                                    "original_title": "Mufaro's Beautiful Daughters: An African Tale",
                                    "average_rating": "4.32"
                                },
                                {
                                    "title": "Out of Breath (Breathing, #3)",
                                    "original_title": "Out of Breath (Breathing, #3)",
                                    "average_rating": "4.32"
                                },
                                {
                                    "title": "Pale Blue Dot: A Vision of the Human Future in Space",
                                    "original_title": "Pale Blue Dot: A Vision of the Human Future in Space",
                                    "average_rating": "4.32"
                                },
                                {
                                    "title": "Plenty",
                                    "original_title": "Plenty",
                                    "average_rating": "4.32"
                                },
                                {
                                    "title": "Scott Pilgrim, Volume 4: Scott Pilgrim Gets It Together",
                                    "original_title": "Scott Pilgrim, Volume 4: Scott Pilgrim Gets It Together",
                                    "average_rating": "4.32"
                                },
                                {
                                    "title": "The Auschwitz Escape",
                                    "original_title": "The Auschwitz Escape",
                                    "average_rating": "4.32"
                                },
                                {
                                    "title": "The Battle for Skandia (Ranger's Apprentice, #4)",
                                    "original_title": "The Battle for Skandia (Ranger's Apprentice, #4)",
                                    "average_rating": "4.32"
                                },
                                {
                                    "title": "The Black Dagger Brotherhood: An Insider's Guide",
                                    "original_title": "The Black Dagger Brotherhood: An Insider's Guide",
                                    "average_rating": "4.32"
                                },
                                {
                                    "title": "The Boys in the Boat: Nine Americans and Their Epic Quest for Gold at the 1936 Berlin Olympics",
                                    "original_title": "The Boys in the Boat: Nine Americans and Their Epic Quest for Gold at the 1936 Berlin Olympics",
                                    "average_rating": "4.32"
                                },
                                {
                                    "title": "The Darkest Lie (Lords of the Underworld #6)",
                                    "original_title": "The Darkest Lie (Lords of the Underworld #6)",
                                    "average_rating": "4.32"
                                },
                                {
                                    "title": "The Everafter War (The Sisters Grimm, #7)",
                                    "original_title": "The Everafter War (The Sisters Grimm, #7)",
                                    "average_rating": "4.32"
                                },
                                {
                                    "title": "The Love Song of J. Alfred Prufrock and Other Poems",
                                    "original_title": "The Love Song of J. Alfred Prufrock and Other Poems",
                                    "average_rating": "4.32"
                                },
                                {
                                    "title": "The Magic Strings of Frankie Presto",
                                    "original_title": "The Magic Strings of Frankie Presto",
                                    "average_rating": "4.32"
                                },
                                {
                                    "title": "The Making of the Atomic Bomb",
                                    "original_title": "The Making of the Atomic Bomb",
                                    "average_rating": "4.32"
                                },
                                {
                                    "title": "The Memoirs of Sherlock Holmes",
                                    "original_title": "The Memoirs of Sherlock Holmes",
                                    "average_rating": "4.32"
                                },
                                {
                                    "title": "The Paper Bag Princess",
                                    "original_title": "The Paper Bag Princess",
                                    "average_rating": "4.32"
                                },
                                {
                                    "title": "The Practice of the Presence of God",
                                    "original_title": "The Practice of the Presence of God",
                                    "average_rating": "4.32"
                                },
                                {
                                    "title": "The Realms of the Gods (Immortals, #4)",
                                    "original_title": "The Realms of the Gods (Immortals, #4)",
                                    "average_rating": "4.32"
                                },
                                {
                                    "title": "The Secret Race: Inside the Hidden World of the Tour de France: Doping, Cover-ups, and Winning at All Costs",
                                    "original_title": "The Secret Race: Inside the Hidden World of the Tour de France: Doping, Cover-ups, and Winning at All Costs",
                                    "average_rating": "4.32"
                                },
                                {
                                    "title": "When Breath Becomes Air",
                                    "original_title": "When Breath Becomes Air",
                                    "average_rating": "4.32"
                                },
                                {
                                    "title": "Wild Magic (Immortals, #1)",
                                    "original_title": "Wild Magic (Immortals, #1)",
                                    "average_rating": "4.32"
                                },
                                {
                                    "title": "Women's Bodies, Women's Wisdom: Creating Physical and Emotional Health and Healing",
                                    "original_title": "Women's Bodies, Women's Wisdom: Creating Physical and Emotional Health and Healing",
                                    "average_rating": "4.32"
                                },
                                {
                                    "title": "عائد إلى حيفا",
                                    "original_title": "عائد إلى حيفا",
                                    "average_rating": "4.32"
                                },
                                {
                                    "title": "Anne Frank : The Biography",
                                    "original_title": "Anne Frank : The Biography",
                                    "average_rating": "4.31"
                                },
                                {
                                    "title": "Chrysanthemum",
                                    "original_title": "Chrysanthemum",
                                    "average_rating": "4.31"
                                },
                                {
                                    "title": "Daytripper",
                                    "original_title": "Daytripper",
                                    "average_rating": "4.31"
                                },
                                {
                                    "title": "Financial Peace Revisited",
                                    "original_title": "Financial Peace Revisited",
                                    "average_rating": "4.31"
                                },
                                {
                                    "title": "Half the Sky: Turning Oppression into Opportunity for Women Worldwide",
                                    "original_title": "Half the Sky: Turning Oppression into Opportunity for Women Worldwide",
                                    "average_rating": "4.31"
                                },
                                {
                                    "title": "Infinite Jest",
                                    "original_title": "Infinite Jest",
                                    "average_rating": "4.31"
                                },
                                {
                                    "title": "Knowing God",
                                    "original_title": "Knowing God",
                                    "average_rating": "4.31"
                                },
                                {
                                    "title": "Lilac Girls",
                                    "original_title": "Lilac Girls",
                                    "average_rating": "4.31"
                                },
                                {
                                    "title": "Mere Christianity",
                                    "original_title": "Mere Christianity",
                                    "average_rating": "4.31"
                                },
                                {
                                    "title": "On Writing: A Memoir of the Craft",
                                    "original_title": "On Writing: A Memoir of the Craft",
                                    "average_rating": "4.31"
                                },
                                {
                                    "title": "The America's Test Kitchen Family Cookbook",
                                    "original_title": "The America's Test Kitchen Family Cookbook",
                                    "average_rating": "4.31"
                                },
                                {
                                    "title": "The Autobiography of Martin Luther King, Jr.",
                                    "original_title": "The Autobiography of Martin Luther King, Jr.",
                                    "average_rating": "4.31"
                                },
                                {
                                    "title": "The Endurance: Shackleton's Legendary Antarctic Expedition",
                                    "original_title": "The Endurance: Shackleton's legendary Antarctic expedition",
                                    "average_rating": "4.31"
                                },
                                {
                                    "title": "The Little Mouse, the Red Ripe Strawberry, and the Big Hungry Bear",
                                    "original_title": "The Little Mouse, the Red Ripe Strawberry, and the Big Hungry Bear",
                                    "average_rating": "4.31"
                                },
                                {
                                    "title": "The Longest Day",
                                    "original_title": "The Longest Day",
                                    "average_rating": "4.31"
                                },
                                {
                                    "title": "The Power of a Praying Wife",
                                    "original_title": "The Power of a Praying Wife",
                                    "average_rating": "4.31"
                                },
                                {
                                    "title": "The Pragmatic Programmer: From Journeyman to Master",
                                    "original_title": "The Pragmatic Programmer: From Journeyman to Master",
                                    "average_rating": "4.31"
                                },
                                {
                                    "title": "The Sneetches and Other Stories",
                                    "original_title": "The Sneetches and Other Stories",
                                    "average_rating": "4.31"
                                },
                                {
                                    "title": "The Way to Cook",
                                    "original_title": "The Way to Cook",
                                    "average_rating": "4.31"
                                },
                                {
                                    "title": "Three Day Road",
                                    "original_title": "Three Day Road",
                                    "average_rating": "4.31"
                                },
                                {
                                    "title": "A Child's Garden of Verses",
                                    "original_title": "A Child's Garden of Verses",
                                    "average_rating": "4.3"
                                },
                                {
                                    "title": "Batman, Volume 1: The Court of Owls",
                                    "original_title": "Batman, Volume 1: The Court of Owls",
                                    "average_rating": "4.3"
                                },
                                {
                                    "title": "Binge",
                                    "original_title": "Binge",
                                    "average_rating": "4.3"
                                },
                                {
                                    "title": "Cathedral",
                                    "original_title": "Cathedral",
                                    "average_rating": "4.3"
                                },
                                {
                                    "title": "Citizen: An American Lyric",
                                    "original_title": "Citizen: An American Lyric",
                                    "average_rating": "4.3"
                                },
                                {
                                    "title": "Copper Sun",
                                    "original_title": "Copper Sun",
                                    "average_rating": "4.3"
                                },
                                {
                                    "title": "Emperor Mage (Immortals, #3)",
                                    "original_title": "Emperor Mage (Immortals, #3)",
                                    "average_rating": "4.3"
                                },
                                {
                                    "title": "Gödel, Escher, Bach: An Eternal Golden Braid",
                                    "original_title": "Gödel, Escher, Bach: An Eternal Golden Braid",
                                    "average_rating": "4.3"
                                },
                                {
                                    "title": "Hinds' Feet on High Places",
                                    "original_title": "Hinds' Feet on High Places",
                                    "average_rating": "4.3"
                                },
                                {
                                    "title": "Judas Unchained",
                                    "original_title": "Judas Unchained",
                                    "average_rating": "4.3"
                                },
                                {
                                    "title": "Little Bear's Friend",
                                    "original_title": "Little Bear's Friend",
                                    "average_rating": "4.3"
                                },
                                {
                                    "title": "Rudolph the Red-Nosed Reindeer",
                                    "original_title": "Rudolph the Red-Nosed Reindeer",
                                    "average_rating": "4.3"
                                },
                                {
                                    "title": "Still Alice",
                                    "original_title": "Still Alice",
                                    "average_rating": "4.3"
                                },
                                {
                                    "title": "Tatiana and Alexander (The Bronze Horseman, #2)",
                                    "original_title": "Tatiana and Alexander (The Bronze Horseman, #2)",
                                    "average_rating": "4.3"
                                },
                                {
                                    "title": "Team of Rivals: The Political Genius of Abraham Lincoln",
                                    "original_title": "Team of Rivals: The Political Genius of Abraham Lincoln",
                                    "average_rating": "4.3"
                                },
                                {
                                    "title": "Term Limits",
                                    "original_title": "Term Limits",
                                    "average_rating": "4.3"
                                },
                                {
                                    "title": "The Places That Scare You: A Guide to Fearlessness in Difficult Times",
                                    "original_title": "The Places That Scare You: A Guide to Fearlessness in Difficult Times",
                                    "average_rating": "4.3"
                                },
                                {
                                    "title": "The Power of Myth",
                                    "original_title": "The Power of Myth",
                                    "average_rating": "4.3"
                                },
                                {
                                    "title": "The Raven and other poems",
                                    "original_title": "The Raven and Other Poems",
                                    "average_rating": "4.3"
                                },
                                {
                                    "title": "The Return of Sherlock Holmes",
                                    "original_title": "The Return of Sherlock Holmes",
                                    "average_rating": "4.3"
                                },
                                {
                                    "title": "The Source",
                                    "original_title": "The Source",
                                    "average_rating": "4.3"
                                },
                                {
                                    "title": "The Sweet Gum Tree",
                                    "original_title": "The Sweet Gum Tree",
                                    "average_rating": "4.3"
                                },
                                {
                                    "title": "Ugly Love",
                                    "original_title": "Ugly Love",
                                    "average_rating": "4.3"
                                },
                                {
                                    "title": "We Wish to Inform You That Tomorrow We Will Be Killed with Our Families",
                                    "original_title": "We Wish to Inform You That Tomorrow We Will Be Killed with Our Families",
                                    "average_rating": "4.3"
                                },
                                {
                                    "title": "11/22/63",
                                    "original_title": "11/22/63",
                                    "average_rating": "4.29"
                                },
                                {
                                    "title": "A Pocket for Corduroy",
                                    "original_title": "A Pocket for Corduroy",
                                    "average_rating": "4.29"
                                },
                                {
                                    "title": "A Return to Love: Reflections on the Principles of \"A Course in Miracles\"",
                                    "original_title": "A Return to Love: Reflections on the Principles of \"A Course in Miracles\"",
                                    "average_rating": "4.29"
                                },
                                {
                                    "title": "A Thousand Boy Kisses",
                                    "original_title": "A Thousand Boy Kisses",
                                    "average_rating": "4.29"
                                },
                                {
                                    "title": "A Woman After God's Own Heart",
                                    "original_title": "A Woman After God's Own Heart",
                                    "average_rating": "4.29"
                                },
                                {
                                    "title": "Batman: The Black Mirror",
                                    "original_title": "Batman: The Black Mirror",
                                    "average_rating": "4.29"
                                },
                                {
                                    "title": "Batman: The Long Halloween",
                                    "original_title": "Batman: The Long Halloween",
                                    "average_rating": "4.29"
                                },
                                {
                                    "title": "Fallout (Crank, #3)",
                                    "original_title": "Fallout (Crank, #3)",
                                    "average_rating": "4.29"
                                },
                                {
                                    "title": "Green Eggs and Ham",
                                    "original_title": "Green Eggs and Ham",
                                    "average_rating": "4.29"
                                },
                                {
                                    "title": "Matilda",
                                    "original_title": "Matilda",
                                    "average_rating": "4.29"
                                },
                                {
                                    "title": "Mistress of the Empire (The Empire Trilogy, #3)",
                                    "original_title": "Mistress of the Empire (The Empire Trilogy, #3)",
                                    "average_rating": "4.29"
                                },
                                {
                                    "title": "Momo",
                                    "original_title": "Momo",
                                    "average_rating": "4.29"
                                },
                                {
                                    "title": "Scott Pilgrim, Volume 3: Scott Pilgrim & The Infinite Sadness",
                                    "original_title": "Scott Pilgrim, Volume 3: Scott Pilgrim & The Infinite Sadness",
                                    "average_rating": "4.29"
                                },
                                {
                                    "title": "Sisters",
                                    "original_title": "Sisters",
                                    "average_rating": "4.29"
                                },
                                {
                                    "title": "Stalingrad: The Fateful Siege, 1942–1943",
                                    "original_title": "Stalingrad: The Fateful Siege, 1942–1943",
                                    "average_rating": "4.29"
                                },
                                {
                                    "title": "The Adventures of Sherlock Holmes",
                                    "original_title": "The Adventures of Sherlock Holmes",
                                    "average_rating": "4.29"
                                },
                                {
                                    "title": "The Autobiography of Malcolm X",
                                    "original_title": "The Autobiography of Malcolm X",
                                    "average_rating": "4.29"
                                },
                                {
                                    "title": "The Complete Phantom of the Opera",
                                    "original_title": "The Complete Phantom of the Opera",
                                    "average_rating": "4.29"
                                },
                                {
                                    "title": "The Emperor of All Maladies: A Biography of Cancer",
                                    "original_title": "The Emperor of All Maladies: A Biography of Cancer",
                                    "average_rating": "4.29"
                                },
                                {
                                    "title": "The Little House",
                                    "original_title": "The Little House",
                                    "average_rating": "4.29"
                                },
                                {
                                    "title": "The Polar Express",
                                    "original_title": "The Polar Express",
                                    "average_rating": "4.29"
                                },
                                {
                                    "title": "The Road to the Dark Tower: Exploring Stephen King's Magnum Opus",
                                    "original_title": "The Road to the Dark Tower: Exploring Stephen King's Magnum Opus",
                                    "average_rating": "4.29"
                                },
                                {
                                    "title": "The Total Money Makeover: A Proven Plan for Financial Fitness",
                                    "original_title": "The Total Money Makeover: A Proven Plan for Financial Fitness",
                                    "average_rating": "4.29"
                                },
                                {
                                    "title": "The Velveteen Rabbit",
                                    "original_title": "The Velveteen Rabbit",
                                    "average_rating": "4.29"
                                },
                                {
                                    "title": "The Walking Dead, Vol. 10: What We Become",
                                    "original_title": "The Walking Dead, Vol. 10: What We Become",
                                    "average_rating": "4.29"
                                },
                                {
                                    "title": "Tiny Beautiful Things: Advice on Love and Life from Dear Sugar",
                                    "original_title": "Tiny Beautiful Things: Advice on Love and Life from Dear Sugar",
                                    "average_rating": "4.29"
                                },
                                {
                                    "title": "We Were Soldiers Once... and Young: Ia Drang - The Battle that Changed the War in Vietnam",
                                    "original_title": "We Were Soldiers Once... and Young: Ia Drang - the Battle That Changed the War in Vietnam",
                                    "average_rating": "4.29"
                                },
                                {
                                    "title": "When Things Fall Apart: Heart Advice for Difficult Times",
                                    "original_title": "When Things Fall Apart: Heart Advice for Difficult Times",
                                    "average_rating": "4.29"
                                },
                                {
                                    "title": "Will You Please Be Quiet, Please?",
                                    "original_title": "Will You Please Be Quiet, Please?",
                                    "average_rating": "4.29"
                                },
                                {
                                    "title": "ثلاثية غرناطة",
                                    "original_title": "ثلاثية غرناطة",
                                    "average_rating": "4.29"
                                },
                                {
                                    "title": "Animalia",
                                    "original_title": "Animalia",
                                    "average_rating": "4.28"
                                },
                                {
                                    "title": "Black Hawk Down",
                                    "original_title": "Black Hawk Down",
                                    "average_rating": "4.28"
                                },
                                {
                                    "title": "City of Thieves",
                                    "original_title": "City of Thieves",
                                    "average_rating": "4.28"
                                },
                                {
                                    "title": "Corduroy",
                                    "original_title": "Corduroy",
                                    "average_rating": "4.28"
                                },
                                {
                                    "title": "Curious George Takes a Job",
                                    "original_title": "Curious George Takes a Job",
                                    "average_rating": "4.28"
                                },
                                {
                                    "title": "Cutting for Stone",
                                    "original_title": "Cutting for Stone",
                                    "average_rating": "4.28"
                                },
                                {
                                    "title": "Fish in a Tree",
                                    "original_title": "Fish In A Tree",
                                    "average_rating": "4.28"
                                },
                                {
                                    "title": "Flotsam",
                                    "original_title": "Flotsam",
                                    "average_rating": "4.28"
                                },
                                {
                                    "title": "Glass (Crank, #2)",
                                    "original_title": "Glass (Crank, #2)",
                                    "average_rating": "4.28"
                                },
                                {
                                    "title": "Gone with the Wind",
                                    "original_title": "Gone with the Wind",
                                    "average_rating": "4.28"
                                },
                                {
                                    "title": "Good Night, Mr. Tom",
                                    "original_title": "Good Night, Mr. Tom",
                                    "average_rating": "4.28"
                                },
                                {
                                    "title": "Hairy Maclary from Donaldson's Dairy",
                                    "original_title": "Hairy Maclary from Donaldson's Dairy",
                                    "average_rating": "4.28"
                                },
                                {
                                    "title": "Half of a Yellow Sun",
                                    "original_title": "Half of a Yellow Sun",
                                    "average_rating": "4.28"
                                },
                                {
                                    "title": "Her Mother's Hope (Marta's Legacy, #1)",
                                    "original_title": "Her Mother's Hope (Marta's Legacy, #1)",
                                    "average_rating": "4.28"
                                },
                                {
                                    "title": "Llama Llama Mad at Mama",
                                    "original_title": "Llama Llama Mad at Mama",
                                    "average_rating": "4.28"
                                },
                                {
                                    "title": "Loving Mr. Daniels",
                                    "original_title": "Loving Mr. Daniels",
                                    "average_rating": "4.28"
                                },
                                {
                                    "title": "Once We Were Brothers",
                                    "original_title": "Once We Were Brothers",
                                    "average_rating": "4.28"
                                },
                                {
                                    "title": "Starlight (Warriors: The New Prophecy, #4)",
                                    "original_title": "Starlight (Warriors: The New Prophecy, #4)",
                                    "average_rating": "4.28"
                                },
                                {
                                    "title": "Stone Soup",
                                    "original_title": "Stone Soup",
                                    "average_rating": "4.28"
                                },
                                {
                                    "title": "Stoner",
                                    "original_title": "Stoner",
                                    "average_rating": "4.28"
                                },
                                {
                                    "title": "Swan Song",
                                    "original_title": "Swan Song",
                                    "average_rating": "4.28"
                                },
                                {
                                    "title": "The Book on the Taboo Against Knowing Who You Are",
                                    "original_title": "The Book on the Taboo Against Knowing Who You Are",
                                    "average_rating": "4.28"
                                },
                                {
                                    "title": "The Cartel",
                                    "original_title": "The Cartel",
                                    "average_rating": "4.28"
                                },
                                {
                                    "title": "The Great Divorce",
                                    "original_title": "The Great Divorce",
                                    "average_rating": "4.28"
                                },
                                {
                                    "title": "The Lords of Discipline",
                                    "original_title": "The Lords of Discipline",
                                    "average_rating": "4.28"
                                },
                                {
                                    "title": "The Pursuit of Holiness",
                                    "original_title": "The Pursuit of Holiness",
                                    "average_rating": "4.28"
                                },
                                {
                                    "title": "The Raven",
                                    "original_title": "The Raven",
                                    "average_rating": "4.28"
                                },
                                {
                                    "title": "The Snowman",
                                    "original_title": "The Snowman",
                                    "average_rating": "4.28"
                                },
                                {
                                    "title": "This Side of the Grave (Night Huntress, #5)",
                                    "original_title": "This Side of the Grave (Night Huntress, #5)",
                                    "average_rating": "4.28"
                                },
                                {
                                    "title": "Unravel Me (Shatter Me, #2)",
                                    "original_title": "Unravel Me (Shatter Me, #2)",
                                    "average_rating": "4.28"
                                },
                                {
                                    "title": "A Little Life",
                                    "original_title": "A Little Life",
                                    "average_rating": "4.27"
                                },
                                {
                                    "title": "Amelia Bedelia and the Surprise Shower",
                                    "original_title": "Amelia Bedelia and the Surprise Shower",
                                    "average_rating": "4.27"
                                },
                                {
                                    "title": "Angle of Repose",
                                    "original_title": "Angle of Repose",
                                    "average_rating": "4.27"
                                },
                                {
                                    "title": "Be Here Now",
                                    "original_title": "Be Here Now",
                                    "average_rating": "4.27"
                                },
                                {
                                    "title": "Born to Run: A Hidden Tribe, Superathletes, and the Greatest Race the World Has Never Seen",
                                    "original_title": "Born to Run: A Hidden Tribe, Superathletes, and the Greatest Race the World Has Never Seen",
                                    "average_rating": "4.27"
                                },
                                {
                                    "title": "Coming Home",
                                    "original_title": "Coming Home",
                                    "average_rating": "4.27"
                                },
                                {
                                    "title": "Eragon & Eldest (Inheritance, #1-2)",
                                    "original_title": "Eragon & Eldest (Inheritance, #1-2)",
                                    "average_rating": "4.27"
                                },
                                {
                                    "title": "Hark! A Vagrant",
                                    "original_title": "Hark! A Vagrant",
                                    "average_rating": "4.27"
                                },
                                {
                                    "title": "Hawkeye, Volume 2: Little Hits",
                                    "original_title": "Hawkeye, Volume 2: Little Hits",
                                    "average_rating": "4.27"
                                },
                                {
                                    "title": "Madeline and the Bad Hat",
                                    "original_title": "Madeline and the Bad Hat",
                                    "average_rating": "4.27"
                                },
                                {
                                    "title": "Mastery",
                                    "original_title": "Mastery",
                                    "average_rating": "4.27"
                                },
                                {
                                    "title": "Mila 18",
                                    "original_title": "Mila 18",
                                    "average_rating": "4.27"
                                },
                                {
                                    "title": "Milk and Honey",
                                    "original_title": "milk and honey",
                                    "average_rating": "4.27"
                                },
                                {
                                    "title": "Roller Girl",
                                    "original_title": "Roller Girl",
                                    "average_rating": "4.27"
                                },
                                {
                                    "title": "Servant of the Empire (The Empire Trilogy, #2)",
                                    "original_title": "Servant of the Empire (The Empire Trilogy, #2)",
                                    "average_rating": "4.27"
                                },
                                {
                                    "title": "Stone Butch Blues",
                                    "original_title": "Stone Butch Blues",
                                    "average_rating": "4.27"
                                },
                                {
                                    "title": "Taken by Midnight (Midnight Breed, #8)",
                                    "original_title": "Taken by Midnight (Midnight Breed, #8)",
                                    "average_rating": "4.27"
                                },
                                {
                                    "title": "The Demon-Haunted World: Science as a Candle in the Dark",
                                    "original_title": "The Demon-Haunted World: Science as a Candle in the Dark",
                                    "average_rating": "4.27"
                                },
                                {
                                    "title": "The Hidden Messages in Water",
                                    "original_title": "The Hidden Messages in Water",
                                    "average_rating": "4.27"
                                },
                                {
                                    "title": "The Lions of Al-Rassan",
                                    "original_title": "The Lions of Al-Rassan",
                                    "average_rating": "4.27"
                                },
                                {
                                    "title": "The Missing Piece",
                                    "original_title": "The Missing Piece",
                                    "average_rating": "4.27"
                                },
                                {
                                    "title": "The Napping House",
                                    "original_title": "The Napping House",
                                    "average_rating": "4.27"
                                },
                                {
                                    "title": "The Song of Achilles",
                                    "original_title": "The Song of Achilles",
                                    "average_rating": "4.27"
                                },
                                {
                                    "title": "The Stories of John Cheever",
                                    "original_title": "The Stories of John Cheever",
                                    "average_rating": "4.27"
                                },
                                {
                                    "title": "We're Going on a Bear Hunt",
                                    "original_title": "We're Going on a Bear Hunt",
                                    "average_rating": "4.27"
                                },
                                {
                                    "title": "13 Hours: The Inside Account of What Really Happened In Benghazi",
                                    "original_title": "13 Hours: The Inside Account of What Really Happened In Benghazi",
                                    "average_rating": "4.26"
                                },
                                {
                                    "title": "A Grief Observed",
                                    "original_title": "A Grief Observed",
                                    "average_rating": "4.26"
                                },
                                {
                                    "title": "Addicted",
                                    "original_title": "Addicted",
                                    "average_rating": "4.26"
                                },
                                {
                                    "title": "Alexander Hamilton",
                                    "original_title": "Alexander Hamilton",
                                    "average_rating": "4.26"
                                },
                                {
                                    "title": "Americanah",
                                    "original_title": "Americanah",
                                    "average_rating": "4.26"
                                },
                                {
                                    "title": "Any Human Heart",
                                    "original_title": "Any Human Heart",
                                    "average_rating": "4.26"
                                },
                                {
                                    "title": "Barefoot Contessa Family Style: Easy Ideas and Recipes That Make Everyone Feel Like Family",
                                    "original_title": "Barefoot Contessa Family Style: Easy Ideas and Recipes That Make Everyone Feel Like Family",
                                    "average_rating": "4.26"
                                },
                                {
                                    "title": "Batman, Volume 2: The City of Owls",
                                    "original_title": "Batman, Volume 2: The City of Owls",
                                    "average_rating": "4.26"
                                },
                                {
                                    "title": "Bloodhound (Beka Cooper, #2)",
                                    "original_title": "Bloodhound (Beka Cooper, #2)",
                                    "average_rating": "4.26"
                                },
                                {
                                    "title": "Columbine",
                                    "original_title": "Columbine",
                                    "average_rating": "4.26"
                                },
                                {
                                    "title": "Essentials of Classic Italian Cooking",
                                    "original_title": "Essentials of Classic Italian Cooking",
                                    "average_rating": "4.26"
                                },
                                {
                                    "title": "Far from the Tree: Parents, Children, and the Search for Identity",
                                    "original_title": "Far from the Tree: Parents, Children, and the Search for Identity",
                                    "average_rating": "4.26"
                                },
                                {
                                    "title": "Fried Green Tomatoes at the Whistle Stop Cafe",
                                    "original_title": "Fried Green Tomatoes at the Whistle Stop Cafe",
                                    "average_rating": "4.26"
                                },
                                {
                                    "title": "Go the Fuck to Sleep",
                                    "original_title": "Go the Fuck to Sleep",
                                    "average_rating": "4.26"
                                },
                                {
                                    "title": "Lamb: The Gospel According to Biff, Christ's Childhood Pal",
                                    "original_title": "Lamb: The Gospel According to Biff, Christ's Childhood Pal",
                                    "average_rating": "4.26"
                                },
                                {
                                    "title": "Les Fleurs du Mal",
                                    "original_title": "Les Fleurs du mal",
                                    "average_rating": "4.26"
                                },
                                {
                                    "title": "Shantaram",
                                    "original_title": "Shantaram",
                                    "average_rating": "4.26"
                                },
                                {
                                    "title": "Simon vs. the Homo Sapiens Agenda",
                                    "original_title": "Simon vs. the Homo Sapiens Agenda",
                                    "average_rating": "4.26"
                                },
                                {
                                    "title": "The Atonement Child",
                                    "original_title": "The Atonement Child",
                                    "average_rating": "4.26"
                                },
                                {
                                    "title": "The Big Short: Inside the Doomsday Machine",
                                    "original_title": "The Big Short: Inside the Doomsday Machine",
                                    "average_rating": "4.26"
                                },
                                {
                                    "title": "The Charm School",
                                    "original_title": "The Charm School",
                                    "average_rating": "4.26"
                                },
                                {
                                    "title": "The Dot",
                                    "original_title": "The Dot",
                                    "average_rating": "4.26"
                                },
                                {
                                    "title": "The Fault in Our Stars",
                                    "original_title": "The Fault in Our Stars",
                                    "average_rating": "4.26"
                                },
                                {
                                    "title": "The Field of Swords (Emperor, #3)",
                                    "original_title": "The Field of Swords (Emperor, #3)",
                                    "average_rating": "4.26"
                                },
                                {
                                    "title": "The Lord of the Rings Sketchbook",
                                    "original_title": "The Lord of the Rings Sketchbook",
                                    "average_rating": "4.26"
                                },
                                {
                                    "title": "The Storyteller",
                                    "original_title": "The Storyteller",
                                    "average_rating": "4.26"
                                },
                                {
                                    "title": "Unveiled: Tamar (Lineage of Grace #1)",
                                    "original_title": "Unveiled: Tamar (Lineage of Grace #1)",
                                    "average_rating": "4.26"
                                },
                                {
                                    "title": "Very Good Lives: The Fringe Benefits of Failure and the Importance of Imagination",
                                    "original_title": "Very Good Lives: The Fringe Benefits of Failure and the Importance of Imagination",
                                    "average_rating": "4.26"
                                },
                                {
                                    "title": "A Bargain for Frances",
                                    "original_title": "A Bargain for Frances",
                                    "average_rating": "4.25"
                                },
                                {
                                    "title": "A Color of His Own",
                                    "original_title": "A Color of His Own",
                                    "average_rating": "4.25"
                                },
                                {
                                    "title": "A Sick Day for Amos McGee",
                                    "original_title": "A Sick Day for Amos McGee",
                                    "average_rating": "4.25"
                                },
                                {
                                    "title": "Anne Frank: Beyond the Diary - A Photographic Remembrance",
                                    "original_title": "Anne Frank: Beyond the Diary - A Photographic Remembrance",
                                    "average_rating": "4.25"
                                },
                                {
                                    "title": "Barnyard Dance",
                                    "original_title": "Barnyard Dance",
                                    "average_rating": "4.25"
                                },
                                {
                                    "title": "Bear Snores On",
                                    "original_title": "Bear Snores On",
                                    "average_rating": "4.25"
                                },
                                {
                                    "title": "Betty Crocker's Cookbook",
                                    "original_title": "Betty Crocker's Cookbook",
                                    "average_rating": "4.25"
                                },
                                {
                                    "title": "Come Back, Amelia Bedelia",
                                    "original_title": "Come Back, Amelia Bedelia",
                                    "average_rating": "4.25"
                                },
                                {
                                    "title": "Cryptonomicon",
                                    "original_title": "Cryptonomicon",
                                    "average_rating": "4.25"
                                },
                                {
                                    "title": "Curious George Visits the Library",
                                    "original_title": "Curious George Visits the Library",
                                    "average_rating": "4.25"
                                },
                                {
                                    "title": "Foxe's Book of Martyrs",
                                    "original_title": "Foxe's Book of Martyrs",
                                    "average_rating": "4.25"
                                },
                                {
                                    "title": "Frosty the Snow Man",
                                    "original_title": "Frosty the Snow Man",
                                    "average_rating": "4.25"
                                },
                                {
                                    "title": "Good Omens: The Nice and Accurate Prophecies of Agnes Nutter, Witch",
                                    "original_title": "Good Omens: The Nice and Accurate Prophecies of Agnes Nutter, Witch",
                                    "average_rating": "4.25"
                                },
                                {
                                    "title": "How I Raised Myself from Failure to Success in Selling",
                                    "original_title": "How I Raised Myself from Failure to Success in Selling",
                                    "average_rating": "4.25"
                                },
                                {
                                    "title": "In Harm's Way: The Sinking of the U.S.S. Indianapolis and the Extraordinary Story of Its Survivors",
                                    "original_title": "In Harm's Way: The Sinking of the U.S.S. Indianapolis and the Extraordinary Story of Its Survivors",
                                    "average_rating": "4.25"
                                },
                                {
                                    "title": "Justice: What's the Right Thing to Do?",
                                    "original_title": "Justice: What's the Right Thing to Do?",
                                    "average_rating": "4.25"
                                },
                                {
                                    "title": "Little Princes: One Man's Promise to Bring Home the Lost Children of Nepal",
                                    "original_title": "Little Princes: One Man's Promise to Bring Home the Lost Children of Nepal",
                                    "average_rating": "4.25"
                                },
                                {
                                    "title": "Magician: Master (The Riftwar Saga, #2)",
                                    "original_title": "Magician: Master (The Riftwar Saga, #2)",
                                    "average_rating": "4.25"
                                },
                                {
                                    "title": "Mystery Man (Dream Man, #1)",
                                    "original_title": "Mystery Man (Dream Man, #1)",
                                    "average_rating": "4.25"
                                },
                                {
                                    "title": "Nicholas and Alexandra",
                                    "original_title": "Nicholas and Alexandra",
                                    "average_rating": "4.25"
                                },
                                {
                                    "title": "One Grave at a Time (Night Huntress, #6)",
                                    "original_title": "One Grave at a Time (Night Huntress, #6)",
                                    "average_rating": "4.25"
                                },
                                {
                                    "title": "Owen",
                                    "original_title": "Owen",
                                    "average_rating": "4.25"
                                },
                                {
                                    "title": "Phantoms in the Brain: Probing the Mysteries of the Human Mind",
                                    "original_title": "Phantoms in the Brain: Probing the Mysteries of the Human Mind",
                                    "average_rating": "4.25"
                                },
                                {
                                    "title": "Practicing the Power of Now: Essential Teachings, Meditations, and Exercises from the Power of Now",
                                    "original_title": "Practicing the Power of Now: Essential Teachings, Meditations, and Exercises from The Power of Now",
                                    "average_rating": "4.25"
                                },
                                {
                                    "title": "Saving Grace",
                                    "original_title": "Saving Grace",
                                    "average_rating": "4.25"
                                },
                                {
                                    "title": "Seeds of Rebellion (Beyonders, #2)",
                                    "original_title": "Seeds of Rebellion (Beyonders, #2)",
                                    "average_rating": "4.25"
                                },
                                {
                                    "title": "Skippyjon Jones",
                                    "original_title": "Skippyjon Jones",
                                    "average_rating": "4.25"
                                },
                                {
                                    "title": "The Call of Cthulhu and Other Weird Stories",
                                    "original_title": "The Call of Cthulhu and Other Weird Stories",
                                    "average_rating": "4.25"
                                },
                                {
                                    "title": "The Collected Poems of W.B. Yeats",
                                    "original_title": "The Collected Poems of W.B. Yeats",
                                    "average_rating": "4.25"
                                },
                                {
                                    "title": "The Day of the Jackal",
                                    "original_title": "The Day of the Jackal",
                                    "average_rating": "4.25"
                                },
                                {
                                    "title": "The Death of Kings (Emperor, #2)",
                                    "original_title": "The Death of Kings (Emperor, #2)",
                                    "average_rating": "4.25"
                                },
                                {
                                    "title": "The Earthsea Trilogy",
                                    "original_title": "The Earthsea Trilogy",
                                    "average_rating": "4.25"
                                },
                                {
                                    "title": "The Evolutionary Void",
                                    "original_title": "The Evolutionary Void",
                                    "average_rating": "4.25"
                                },
                                {
                                    "title": "The Hat",
                                    "original_title": "The Hat",
                                    "average_rating": "4.25"
                                },
                                {
                                    "title": "The Last Lecture",
                                    "original_title": "The Last Lecture",
                                    "average_rating": "4.25"
                                },
                                {
                                    "title": "The Little Old Lady Who Was Not Afraid of Anything",
                                    "original_title": "The Little Old Lady Who Was Not Afraid of Anything",
                                    "average_rating": "4.25"
                                },
                                {
                                    "title": "The Taste of Home Cookbook",
                                    "original_title": "The Taste of Home Cookbook",
                                    "average_rating": "4.25"
                                },
                                {
                                    "title": "There are No Children Here: The Story of Two Boys Growing Up in the Other America",
                                    "original_title": "There Are No Children Here: The Story of Two Boys Growing Up in the Other America",
                                    "average_rating": "4.25"
                                },
                                {
                                    "title": "To Kill a Mockingbird",
                                    "original_title": "To Kill a Mockingbird",
                                    "average_rating": "4.25"
                                },
                                {
                                    "title": "V for Vendetta",
                                    "original_title": "V for Vendetta",
                                    "average_rating": "4.25"
                                },
                                {
                                    "title": "What the Bleep Do We Know!?: Discovering the Endless Possibilities for Altering Your Everyday Reality",
                                    "original_title": "What the Bleep Do We Know!?: Discovering the Endless Possibilities for Altering Your Everyday Reality",
                                    "average_rating": "4.25"
                                },
                                {
                                    "title": "A Bad Case of Stripes",
                                    "original_title": "A Bad Case of Stripes",
                                    "average_rating": "4.24"
                                },
                                {
                                    "title": "A Bridge Too Far",
                                    "original_title": "A Bridge Too Far",
                                    "average_rating": "4.24"
                                },
                                {
                                    "title": "A Leaf on the Wind of All Hallows (Outlander, #8.5)",
                                    "original_title": "A Leaf on the Wind of All Hallows (Outlander, #8.5)",
                                    "average_rating": "4.24"
                                },
                                {
                                    "title": "All My Friends Are Dead",
                                    "original_title": "All My Friends Are Dead",
                                    "average_rating": "4.24"
                                },
                                {
                                    "title": "Beyond Band of Brothers: The War Memoirs of Major Dick Winters",
                                    "original_title": "Beyond Band of Brothers: The War Memoirs of Major Dick Winters",
                                    "average_rating": "4.24"
                                },
                                {
                                    "title": "Change Your Thoughts - Change Your Life: Living the Wisdom of the Tao",
                                    "original_title": "Change Your Thoughts - Change Your Life: Living the Wisdom of the Tao",
                                    "average_rating": "4.24"
                                },
                                {
                                    "title": "Creativity, Inc.: Overcoming the Unseen Forces That Stand in the Way of True Inspiration",
                                    "original_title": "Creativity, Inc.: Overcoming the Unseen Forces That Stand in the Way of True Inspiration",
                                    "average_rating": "4.24"
                                },
                                {
                                    "title": "Curious George Rides a Bike",
                                    "original_title": "Curious George Rides a Bike",
                                    "average_rating": "4.24"
                                },
                                {
                                    "title": "Dispatches",
                                    "original_title": "Dispatches",
                                    "average_rating": "4.24"
                                },
                                {
                                    "title": "Dom Casmurro",
                                    "original_title": "Dom Casmurro",
                                    "average_rating": "4.24"
                                },
                                {
                                    "title": "Driving Miss Daisy",
                                    "original_title": "Driving Miss Daisy",
                                    "average_rating": "4.24"
                                },
                                {
                                    "title": "Each Peach Pear Plum",
                                    "original_title": "Each Peach Pear Plum",
                                    "average_rating": "4.24"
                                },
                                {
                                    "title": "Glory over Everything: Beyond The Kitchen House",
                                    "original_title": "Glory over Everything: Beyond The Kitchen House",
                                    "average_rating": "4.24"
                                },
                                {
                                    "title": "Harold and the Purple Crayon",
                                    "original_title": "Harold and the Purple Crayon",
                                    "average_rating": "4.24"
                                },
                                {
                                    "title": "If You Give a Mouse a Cookie",
                                    "original_title": "If You Give a Mouse a Cookie",
                                    "average_rating": "4.24"
                                },
                                {
                                    "title": "Jitterbug Perfume",
                                    "original_title": "Jitterbug Perfume",
                                    "average_rating": "4.24"
                                },
                                {
                                    "title": "Just Me in the Tub (Mercer Mayer's Little Critter)",
                                    "original_title": "Just Me in the Tub (Mercer Mayer's Little Critter)",
                                    "average_rating": "4.24"
                                },
                                {
                                    "title": "Kingdom Come",
                                    "original_title": "Kingdom Come",
                                    "average_rating": "4.24"
                                },
                                {
                                    "title": "Madeline's Rescue",
                                    "original_title": "Madeline's Rescue",
                                    "average_rating": "4.24"
                                },
                                {
                                    "title": "Money, and the Law of Attraction: Learning to Attract Wealth, Health, and Happiness",
                                    "original_title": "Money, and the Law of Attraction: Learning to Attract Wealth, Health, and Happiness",
                                    "average_rating": "4.24"
                                },
                                {
                                    "title": "Moneyball: The Art of Winning an Unfair Game",
                                    "original_title": "Moneyball: The Art of Winning an Unfair Game",
                                    "average_rating": "4.24"
                                },
                                {
                                    "title": "Once Burned (Night Prince, #1)",
                                    "original_title": "Once Burned (Night Prince, #1)",
                                    "average_rating": "4.24"
                                },
                                {
                                    "title": "Pandora's Star",
                                    "original_title": "Pandora's Star",
                                    "average_rating": "4.24"
                                },
                                {
                                    "title": "Pride and Prejudice",
                                    "original_title": "Pride and Prejudice",
                                    "average_rating": "4.24"
                                },
                                {
                                    "title": "Sailing Alone Around the Room: New and Selected Poems",
                                    "original_title": "Sailing Alone Around the Room: New and Selected Poems",
                                    "average_rating": "4.24"
                                },
                                {
                                    "title": "Scott Pilgrim, Volume 2: Scott Pilgrim vs. The World",
                                    "original_title": "Scott Pilgrim, Volume 2: Scott Pilgrim vs. The World",
                                    "average_rating": "4.24"
                                },
                                {
                                    "title": "Smiley's People",
                                    "original_title": "Smiley's People",
                                    "average_rating": "4.24"
                                },
                                {
                                    "title": "Sometimes a Great Notion",
                                    "original_title": "Sometimes a Great Notion",
                                    "average_rating": "4.24"
                                },
                                {
                                    "title": "The Glass Castle",
                                    "original_title": "The Glass Castle",
                                    "average_rating": "4.24"
                                },
                                {
                                    "title": "The Hating Game",
                                    "original_title": "The Hating Game",
                                    "average_rating": "4.24"
                                },
                                {
                                    "title": "The Hero With a Thousand Faces",
                                    "original_title": "The Hero with a Thousand Faces",
                                    "average_rating": "4.24"
                                },
                                {
                                    "title": "The One and Only Ivan",
                                    "original_title": "The One and Only Ivan",
                                    "average_rating": "4.24"
                                },
                                {
                                    "title": "The Orenda",
                                    "original_title": "The Orenda",
                                    "average_rating": "4.24"
                                },
                                {
                                    "title": "The River Why",
                                    "original_title": "The River Why",
                                    "average_rating": "4.24"
                                },
                                {
                                    "title": "The Souls of Black Folk",
                                    "original_title": "The Souls of Black Folk",
                                    "average_rating": "4.24"
                                },
                                {
                                    "title": "The Temporal Void",
                                    "original_title": "The Temporal Void",
                                    "average_rating": "4.24"
                                },
                                {
                                    "title": "Where the Mountain Meets the Moon",
                                    "original_title": "Where the Mountain Meets the Moon",
                                    "average_rating": "4.24"
                                },
                                {
                                    "title": "A Knight in Shining Armor",
                                    "original_title": "A Knight in Shining Armor",
                                    "average_rating": "4.23"
                                },
                                {
                                    "title": "Ariel",
                                    "original_title": "Ariel",
                                    "average_rating": "4.23"
                                },
                                {
                                    "title": "Barefoot Contessa Back to Basics",
                                    "original_title": "Barefoot Contessa Back to Basics",
                                    "average_rating": "4.23"
                                },
                                {
                                    "title": "Batman: Year One",
                                    "original_title": "Batman: Year One",
                                    "average_rating": "4.23"
                                },
                                {
                                    "title": "Bonhoeffer: Pastor, Martyr, Prophet, Spy",
                                    "original_title": "Bonhoeffer: Pastor, Martyr, Prophet, Spy",
                                    "average_rating": "4.23"
                                },
                                {
                                    "title": "Click, Clack, Moo: Cows That Type",
                                    "original_title": "Click, Clack, Moo: Cows That Type",
                                    "average_rating": "4.23"
                                },
                                {
                                    "title": "Complications: A Surgeon's Notes on an Imperfect Science",
                                    "original_title": "Complications: A Surgeon's Notes on an Imperfect Science",
                                    "average_rating": "4.23"
                                },
                                {
                                    "title": "If You Give a Pig a Pancake ",
                                    "original_title": "If You Give a Pig a Pancake ",
                                    "average_rating": "4.23"
                                },
                                {
                                    "title": "Memórias Póstumas de Brás Cubas",
                                    "original_title": "Memórias Póstumas de Brás Cubas",
                                    "average_rating": "4.23"
                                },
                                {
                                    "title": "On Writing Well: The Classic Guide to Writing Nonfiction",
                                    "original_title": "On Writing Well: The Classic Guide to Writing Nonfiction",
                                    "average_rating": "4.23"
                                },
                                {
                                    "title": "Orthodoxy",
                                    "original_title": "Orthodoxy",
                                    "average_rating": "4.23"
                                },
                                {
                                    "title": "QED: The Strange Theory of Light and Matter",
                                    "original_title": "QED: The Strange Theory of Light and Matter",
                                    "average_rating": "4.23"
                                },
                                {
                                    "title": "Random Family: Love, Drugs, Trouble, and Coming of Age in the Bronx",
                                    "original_title": "Random Family: Love, Drugs, Trouble, and Coming of Age in the Bronx",
                                    "average_rating": "4.23"
                                },
                                {
                                    "title": "Savage Inequalities: Children in America's Schools",
                                    "original_title": "Savage Inequalities: Children in America's Schools",
                                    "average_rating": "4.23"
                                },
                                {
                                    "title": "Snowmen at Night",
                                    "original_title": "Snowmen at Night",
                                    "average_rating": "4.23"
                                },
                                {
                                    "title": "Systematic Theology: An Introduction to Biblical Doctrine",
                                    "original_title": "Systematic Theology: An Introduction to Biblical Doctrine",
                                    "average_rating": "4.23"
                                },
                                {
                                    "title": "The Caine Mutiny",
                                    "original_title": "The Caine Mutiny",
                                    "average_rating": "4.23"
                                },
                                {
                                    "title": "The Complete Adventures of Curious George",
                                    "original_title": "The Complete Adventures of Curious George",
                                    "average_rating": "4.23"
                                },
                                {
                                    "title": "The Five Love Languages: How to Express Heartfelt Commitment to Your Mate",
                                    "original_title": "The Five Love Languages: How to Express Heartfelt Commitment to Your Mate",
                                    "average_rating": "4.23"
                                },
                                {
                                    "title": "The Invention of Hugo Cabret",
                                    "original_title": "The Invention of Hugo Cabret",
                                    "average_rating": "4.23"
                                },
                                {
                                    "title": "The Invention of Wings",
                                    "original_title": "The Invention of Wings",
                                    "average_rating": "4.23"
                                },
                                {
                                    "title": "The Jordan Rules",
                                    "original_title": "The Jordan Rules",
                                    "average_rating": "4.23"
                                },
                                {
                                    "title": "The Ragamuffin Gospel: Good News for the Bedraggled, Beat-Up, and Burnt Out",
                                    "original_title": "The Ragamuffin Gospel: Good News for the Bedraggled, Beat-Up, and Burnt Out",
                                    "average_rating": "4.23"
                                },
                                {
                                    "title": "The Right Stuff",
                                    "original_title": "The Right Stuff",
                                    "average_rating": "4.23"
                                },
                                {
                                    "title": "The Tiger Who Came to Tea",
                                    "original_title": "The Tiger Who Came to Tea",
                                    "average_rating": "4.23"
                                },
                                {
                                    "title": "The Vampire Prince (Cirque Du Freak, #6)",
                                    "original_title": "The Vampire Prince (Cirque Du Freak, #6)",
                                    "average_rating": "4.23"
                                },
                                {
                                    "title": "The Walking Dead, Vol. 13: Too Far Gone",
                                    "original_title": "The Walking Dead, Vol. 13: Too Far Gone",
                                    "average_rating": "4.23"
                                },
                                {
                                    "title": "The Waste Land and Other Poems",
                                    "original_title": "The Waste Land and Other Poems",
                                    "average_rating": "4.23"
                                },
                                {
                                    "title": "This is Not My Hat",
                                    "original_title": "This is Not My Hat",
                                    "average_rating": "4.23"
                                },
                                {
                                    "title": "Twilight: The Complete Illustrated Movie Companion",
                                    "original_title": "Twilight: The Complete Illustrated Movie Companion",
                                    "average_rating": "4.23"
                                },
                                {
                                    "title": "When Crickets Cry",
                                    "original_title": "When Crickets Cry",
                                    "average_rating": "4.23"
                                },
                                {
                                    "title": "Wild Swans: Three Daughters of China",
                                    "original_title": "Wild Swans: Three Daughters of China",
                                    "average_rating": "4.23"
                                },
                                {
                                    "title": "A Different Blue",
                                    "original_title": "A Different Blue",
                                    "average_rating": "4.22"
                                },
                                {
                                    "title": "A Mango-Shaped Space",
                                    "original_title": "A Mango-Shaped Space",
                                    "average_rating": "4.22"
                                },
                                {
                                    "title": "A Prayer for Owen Meany",
                                    "original_title": "A Prayer for Owen Meany",
                                    "average_rating": "4.22"
                                },
                                {
                                    "title": "Alexander and the Terrible, Horrible, No Good, Very Bad Day",
                                    "original_title": "Alexander and the Terrible, Horrible, No Good, Very Bad Day",
                                    "average_rating": "4.22"
                                },
                                {
                                    "title": "America's First Daughter",
                                    "original_title": "America's First Daughter",
                                    "average_rating": "4.22"
                                },
                                {
                                    "title": "Autobiography of a Yogi",
                                    "original_title": "Autobiography of a Yogi",
                                    "average_rating": "4.22"
                                },
                                {
                                    "title": "Barbarians at the Gate: The Fall of RJR Nabisco",
                                    "original_title": "Barbarians at the Gate: The Fall of RJR Nabisco",
                                    "average_rating": "4.22"
                                },
                                {
                                    "title": "Bird by Bird: Some Instructions on Writing and Life",
                                    "original_title": "Bird by Bird: Some Instructions on Writing and Life",
                                    "average_rating": "4.22"
                                },
                                {
                                    "title": "Cinderella",
                                    "original_title": "Cinderella",
                                    "average_rating": "4.22"
                                },
                                {
                                    "title": "CivilWarLand in Bad Decline",
                                    "original_title": "CivilWarLand in Bad Decline",
                                    "average_rating": "4.22"
                                },
                                {
                                    "title": "Curious George Goes to the Hospital",
                                    "original_title": "Curious George Goes to the Hospital",
                                    "average_rating": "4.22"
                                },
                                {
                                    "title": "David Gets In Trouble",
                                    "original_title": "David Gets in Trouble",
                                    "average_rating": "4.22"
                                },
                                {
                                    "title": "Desert Solitaire",
                                    "original_title": "Desert Solitaire",
                                    "average_rating": "4.22"
                                },
                                {
                                    "title": "Do No Harm: Stories of Life, Death and Brain Surgery",
                                    "original_title": "Do No Harm: Stories of Life, Death and Brain Surgery",
                                    "average_rating": "4.22"
                                },
                                {
                                    "title": "Dragon Slippers (Dragon Slippers, #1)",
                                    "original_title": "Dragon Slippers (Dragon Slippers, #1)",
                                    "average_rating": "4.22"
                                },
                                {
                                    "title": "Fermat's Enigma: The Epic Quest to Solve the World's Greatest Mathematical Problem",
                                    "original_title": "Fermat's Enigma: The Epic Quest to Solve the World's Greatest Mathematical Problem",
                                    "average_rating": "4.22"
                                },
                                {
                                    "title": "Hand, Hand, Fingers, Thumb",
                                    "original_title": "Hand, Hand, Fingers, Thumb",
                                    "average_rating": "4.22"
                                },
                                {
                                    "title": "Honor's Splendour",
                                    "original_title": "Honor's Splendour",
                                    "average_rating": "4.22"
                                },
                                {
                                    "title": "Just Go to Bed",
                                    "original_title": "Just Go to Bed",
                                    "average_rating": "4.22"
                                },
                                {
                                    "title": "Killers of the Dawn (Cirque Du Freak, #9)",
                                    "original_title": "Killers of the Dawn (Cirque Du Freak, #9)",
                                    "average_rating": "4.22"
                                },
                                {
                                    "title": "Little Bear",
                                    "original_title": "Little Bear",
                                    "average_rating": "4.22"
                                },
                                {
                                    "title": "Lord of the Shadows (Cirque Du Freak, #11)",
                                    "original_title": "Lord of the Shadows (Cirque Du Freak, #11)",
                                    "average_rating": "4.22"
                                },
                                {
                                    "title": "Love Comes Softly (Love Comes Softly, #1)",
                                    "original_title": "Love Comes Softly (Love Comes Softly, #1)",
                                    "average_rating": "4.22"
                                },
                                {
                                    "title": "Manufacturing Consent: The Political Economy of the Mass Media",
                                    "original_title": "Manufacturing Consent: The Political Economy of the Mass Media",
                                    "average_rating": "4.22"
                                },
                                {
                                    "title": "Marching Powder: A True Story of Friendship, Cocaine, and South America's Strangest Jail",
                                    "original_title": "Marching Powder: A True Story of Friendship, Cocaine, and South America's Strangest Jail",
                                    "average_rating": "4.22"
                                },
                                {
                                    "title": "Punk 57",
                                    "original_title": "Punk 57",
                                    "average_rating": "4.22"
                                },
                                {
                                    "title": "Rome (Marked Men, #3)",
                                    "original_title": "Rome (Marked Men, #3)",
                                    "average_rating": "4.22"
                                },
                                {
                                    "title": "Selected Poems",
                                    "original_title": "Selected Poems",
                                    "average_rating": "4.22"
                                },
                                {
                                    "title": "Stellaluna",
                                    "original_title": "Stellaluna",
                                    "average_rating": "4.22"
                                },
                                {
                                    "title": "Stephen King's N.",
                                    "original_title": "Stephen King's N.",
                                    "average_rating": "4.22"
                                },
                                {
                                    "title": "Strega Nona",
                                    "original_title": "Strega Nona",
                                    "average_rating": "4.22"
                                },
                                {
                                    "title": "The BFG",
                                    "original_title": "The BFG",
                                    "average_rating": "4.22"
                                },
                                {
                                    "title": "The Crossover",
                                    "original_title": "The Crossover",
                                    "average_rating": "4.22"
                                },
                                {
                                    "title": "The Gift of Therapy: An Open Letter to a New Generation of Therapists and Their Patients",
                                    "original_title": "The Gift of Therapy: An Open Letter to a New Generation of Therapists and Their Patients",
                                    "average_rating": "4.22"
                                },
                                {
                                    "title": "The Going-To-Bed Book",
                                    "original_title": "The Going-To-Bed Book",
                                    "average_rating": "4.22"
                                },
                                {
                                    "title": "The Lions of Little Rock",
                                    "original_title": "The Lions of Little Rock",
                                    "average_rating": "4.22"
                                },
                                {
                                    "title": "The Phantom Tollbooth",
                                    "original_title": "The Phantom Tollbooth",
                                    "average_rating": "4.22"
                                },
                                {
                                    "title": "The Prince of Tides",
                                    "original_title": "The Prince of Tides",
                                    "average_rating": "4.22"
                                },
                                {
                                    "title": "The Prize",
                                    "original_title": "The Prize",
                                    "average_rating": "4.22"
                                },
                                {
                                    "title": "The Prophet",
                                    "original_title": "The Prophet",
                                    "average_rating": "4.22"
                                },
                                {
                                    "title": "The Recruit (Cherub, #1)",
                                    "original_title": "The Recruit (Cherub, #1)",
                                    "average_rating": "4.22"
                                },
                                {
                                    "title": "The Shock Doctrine: The Rise of Disaster Capitalism",
                                    "original_title": "The Shock Doctrine: The Rise of Disaster Capitalism",
                                    "average_rating": "4.22"
                                },
                                {
                                    "title": "The Tell-Tale Heart",
                                    "original_title": "The Tell-Tale Heart",
                                    "average_rating": "4.22"
                                },
                                {
                                    "title": "The Thorn Birds",
                                    "original_title": "The Thorn Birds",
                                    "average_rating": "4.22"
                                },
                                {
                                    "title": "The Tibetan Book of Living and Dying",
                                    "original_title": "The Tibetan Book of Living and Dying",
                                    "average_rating": "4.22"
                                },
                                {
                                    "title": "The Unlikely Spy",
                                    "original_title": "The Unlikely Spy",
                                    "average_rating": "4.22"
                                },
                                {
                                    "title": "Wait for It",
                                    "original_title": "Wait for It",
                                    "average_rating": "4.22"
                                },
                                {
                                    "title": "War",
                                    "original_title": "WAR",
                                    "average_rating": "4.22"
                                },
                                {
                                    "title": "Wemberly Worried",
                                    "original_title": "Wemberly Worried",
                                    "average_rating": "4.22"
                                },
                                {
                                    "title": "Where Is God When It Hurts?",
                                    "original_title": "Where Is God When It Hurts?",
                                    "average_rating": "4.22"
                                },
                                {
                                    "title": "Where the Wild Things Are",
                                    "original_title": "Where the Wild Things Are",
                                    "average_rating": "4.22"
                                },
                                {
                                    "title": "Wild Seed (Patternmaster, #1)",
                                    "original_title": "Wild Seed (Patternmaster, #1)",
                                    "average_rating": "4.22"
                                },
                                {
                                    "title": "A Fish Out of Water",
                                    "original_title": "A Fish Out of Water",
                                    "average_rating": "4.21"
                                },
                                {
                                    "title": "Bury My Heart at Wounded Knee: An Indian History of the American West",
                                    "original_title": "Bury My Heart at Wounded Knee: An Indian History of the American West",
                                    "average_rating": "4.21"
                                },
                                {
                                    "title": "Calling Me Home",
                                    "original_title": "Calling Me Home",
                                    "average_rating": "4.21"
                                },
                                {
                                    "title": "Centennial",
                                    "original_title": "Centennial",
                                    "average_rating": "4.21"
                                },
                                {
                                    "title": "Chicka Chicka Boom Boom",
                                    "original_title": "Chicka Chicka Boom Boom",
                                    "average_rating": "4.21"
                                },
                                {
                                    "title": "Disappearing Acts",
                                    "original_title": "Disappearing Acts",
                                    "average_rating": "4.21"
                                },
                                {
                                    "title": "Envy (Fallen Angels, #3)",
                                    "original_title": "Envy (Fallen Angels, #3)",
                                    "average_rating": "4.21"
                                },
                                {
                                    "title": "Follow the River",
                                    "original_title": "Follow the River",
                                    "average_rating": "4.21"
                                },
                                {
                                    "title": "Friends and Lovers",
                                    "original_title": "Friends and Lovers",
                                    "average_rating": "4.21"
                                },
                                {
                                    "title": "Gifted Hands: The Ben Carson Story",
                                    "original_title": "Gifted Hands: The Ben Carson Story",
                                    "average_rating": "4.21"
                                },
                                {
                                    "title": "Giovanni's Room",
                                    "original_title": "Giovanni's Room",
                                    "average_rating": "4.21"
                                },
                                {
                                    "title": "Go Away, Big Green Monster!",
                                    "original_title": "Go Away, Big Green Monster!",
                                    "average_rating": "4.21"
                                },
                                {
                                    "title": "I'm Just Here for the Food: Food + Heat = Cooking",
                                    "original_title": "I'm Just Here for the Food: Food + Heat = Cooking",
                                    "average_rating": "4.21"
                                },
                                {
                                    "title": "Make Way for Ducklings",
                                    "original_title": "Make Way for Ducklings",
                                    "average_rating": "4.21"
                                },
                                {
                                    "title": "Marvels",
                                    "original_title": "Marvels",
                                    "average_rating": "4.21"
                                },
                                {
                                    "title": "Mother Night",
                                    "original_title": "Mother Night",
                                    "average_rating": "4.21"
                                },
                                {
                                    "title": "Mountains Beyond Mountains: The Quest of Dr. Paul Farmer, A Man Who Would Cure the World",
                                    "original_title": "Mountains Beyond Mountains: The Quest of Dr. Paul Farmer, a Man Who Would Cure the World",
                                    "average_rating": "4.21"
                                },
                                {
                                    "title": "Panda Bear, Panda Bear, What Do You See?",
                                    "original_title": "Panda Bear, Panda Bear, What Do You See?",
                                    "average_rating": "4.21"
                                },
                                {
                                    "title": "Planetary, Volume 1: All Over the World and Other Stories",
                                    "original_title": "Planetary, Volume 1: All Over the World and Other Stories",
                                    "average_rating": "4.21"
                                },
                                {
                                    "title": "Run Baby Run",
                                    "original_title": "Run Baby Run",
                                    "average_rating": "4.21"
                                },
                                {
                                    "title": "Same Kind of Different as Me",
                                    "original_title": "Same Kind of Different as Me",
                                    "average_rating": "4.21"
                                },
                                {
                                    "title": "The Barefoot Contessa Cookbook",
                                    "original_title": "The Barefoot Contessa Cookbook",
                                    "average_rating": "4.21"
                                },
                                {
                                    "title": "The Complete Poems of Emily Dickinson",
                                    "original_title": "The Complete Poems of Emily Dickinson",
                                    "average_rating": "4.21"
                                },
                                {
                                    "title": "The End of Eternity",
                                    "original_title": "The End of Eternity",
                                    "average_rating": "4.21"
                                },
                                {
                                    "title": "The Five Love Languages of Children",
                                    "original_title": "The Five Love Languages of Children",
                                    "average_rating": "4.21"
                                },
                                {
                                    "title": "The Heretic Queen",
                                    "original_title": "The Heretic Queen",
                                    "average_rating": "4.21"
                                },
                                {
                                    "title": "The Little Red Caboose (Little Golden Book)",
                                    "original_title": "The Little Red Caboose (Little Golden Book)",
                                    "average_rating": "4.21"
                                },
                                {
                                    "title": "The Miracle Worker",
                                    "original_title": "The Miracle Worker",
                                    "average_rating": "4.21"
                                },
                                {
                                    "title": "The Mixed-Up Chameleon",
                                    "original_title": "The Mixed-Up Chameleon",
                                    "average_rating": "4.21"
                                },
                                {
                                    "title": "The Perks of Being a Wallflower",
                                    "original_title": "The Perks of Being a Wallflower",
                                    "average_rating": "4.21"
                                },
                                {
                                    "title": "The Wishing Spell (The Land of Stories, #1)",
                                    "original_title": "The Wishing Spell (The Land of Stories, #1)",
                                    "average_rating": "4.21"
                                },
                                {
                                    "title": "Tikki Tikki Tembo",
                                    "original_title": "Tikki Tikki Tembo",
                                    "average_rating": "4.21"
                                },
                                {
                                    "title": "Unlimited Power : The New Science Of Personal Achievement",
                                    "original_title": "Unlimited Power : The New Science Of Personal Achievement",
                                    "average_rating": "4.21"
                                },
                                {
                                    "title": "What's So Amazing About Grace?",
                                    "original_title": "What's So Amazing About Grace?",
                                    "average_rating": "4.21"
                                },
                                {
                                    "title": "Wolf-Speaker (Immortals, #2)",
                                    "original_title": "Wolf-Speaker (Immortals, #2)",
                                    "average_rating": "4.21"
                                },
                                {
                                    "title": "استمتع بحياتك",
                                    "original_title": "استمتع بحياتك",
                                    "average_rating": "4.21"
                                },
                                {
                                    "title": "المانيفستو",
                                    "original_title": "المانيفستو",
                                    "average_rating": "4.21"
                                },
                                {
                                    "title": "2666",
                                    "original_title": "2666",
                                    "average_rating": "4.2"
                                },
                                {
                                    "title": "A House in the Sky",
                                    "original_title": "A House in the Sky",
                                    "average_rating": "4.2"
                                },
                                {
                                    "title": "A Little Princess",
                                    "original_title": "A Little Princess",
                                    "average_rating": "4.2"
                                },
                                {
                                    "title": "ABNKKBSNPLAKo?! (Mga Kwentong Chalk ni Bob Ong)",
                                    "original_title": "ABNKKBSNPLAKo?! (Mga Kwentong Chalk ni Bob Ong)",
                                    "average_rating": "4.2"
                                },
                                {
                                    "title": "Amadeus",
                                    "original_title": "Amadeus",
                                    "average_rating": "4.2"
                                },
                                {
                                    "title": "August: Osage County",
                                    "original_title": "August: Osage County",
                                    "average_rating": "4.2"
                                },
                                {
                                    "title": "Big Little Lies",
                                    "original_title": "Big Little Lies",
                                    "average_rating": "4.2"
                                },
                                {
                                    "title": "Bread and Jam for Frances",
                                    "original_title": "Bread and Jam for Frances",
                                    "average_rating": "4.2"
                                },
                                {
                                    "title": "Christy",
                                    "original_title": "Christy",
                                    "average_rating": "4.2"
                                },
                                {
                                    "title": "Collected Poems",
                                    "original_title": "Collected Poems",
                                    "average_rating": "4.2"
                                },
                                {
                                    "title": "Eragon, Eldest & Brisingr (Inheritance, #1-3)",
                                    "original_title": "Eragon, Eldest & Brisingr (Inheritance, #1-3)",
                                    "average_rating": "4.2"
                                },
                                {
                                    "title": "Every Last Word",
                                    "original_title": "Every Last Word",
                                    "average_rating": "4.2"
                                },
                                {
                                    "title": "Fight Club",
                                    "original_title": "Fight Club",
                                    "average_rating": "4.2"
                                },
                                {
                                    "title": "Good Night, Gorilla",
                                    "original_title": "Good Night, Gorilla",
                                    "average_rating": "4.2"
                                },
                                {
                                    "title": "Hafalan Shalat Delisa",
                                    "original_title": "Hafalan Shalat Delisa",
                                    "average_rating": "4.2"
                                },
                                {
                                    "title": "If You Give a Cat a Cupcake",
                                    "original_title": "If You Give a Cat a Cupcake",
                                    "average_rating": "4.2"
                                },
                                {
                                    "title": "Infidel",
                                    "original_title": "Infidel",
                                    "average_rating": "4.2"
                                },
                                {
                                    "title": "Jaya: An Illustrated Retelling of the Mahabharata",
                                    "original_title": "Jaya: An Illustrated Retelling of the Mahabharata",
                                    "average_rating": "4.2"
                                },
                                {
                                    "title": "Lilly's Purple Plastic Purse",
                                    "original_title": "Lilly's Purple Plastic Purse",
                                    "average_rating": "4.2"
                                },
                                {
                                    "title": "Malcolm X: A Life of Reinvention",
                                    "original_title": "Malcolm X: A Life of Reinvention",
                                    "average_rating": "4.2"
                                },
                                {
                                    "title": "Malgudi Days",
                                    "original_title": "Malgudi Days",
                                    "average_rating": "4.2"
                                },
                                {
                                    "title": "Mike Mulligan and His Steam Shovel",
                                    "original_title": "Mike Mulligan and His Steam Shovel",
                                    "average_rating": "4.2"
                                },
                                {
                                    "title": "Nimona",
                                    "original_title": "Nimona",
                                    "average_rating": "4.2"
                                },
                                {
                                    "title": "No Ordinary Time: Franklin and Eleanor Roosevelt: The Home Front in World War II",
                                    "original_title": "No Ordinary Time: Franklin and Eleanor Roosevelt: The Home Front in World War II",
                                    "average_rating": "4.2"
                                },
                                {
                                    "title": "Oscar et la dame rose",
                                    "original_title": "Oscar et la dame rose",
                                    "average_rating": "4.2"
                                },
                                {
                                    "title": "Our Band Could Be Your Life: Scenes from the American Indie Underground 1981-1991",
                                    "original_title": "Our Band Could Be Your Life: Scenes from the American Indie Underground 1981-1991",
                                    "average_rating": "4.2"
                                },
                                {
                                    "title": "Owl Moon",
                                    "original_title": "Owl Moon",
                                    "average_rating": "4.2"
                                },
                                {
                                    "title": "Palestine",
                                    "original_title": "Palestine",
                                    "average_rating": "4.2"
                                },
                                {
                                    "title": "Rebecca",
                                    "original_title": "Rebecca",
                                    "average_rating": "4.2"
                                },
                                {
                                    "title": "Romancing Mister Bridgerton (Bridgertons, #4)",
                                    "original_title": "Romancing Mister Bridgerton (Bridgertons, #4)",
                                    "average_rating": "4.2"
                                },
                                {
                                    "title": "Small Sacrifices: A True Story of Passion and Murder",
                                    "original_title": "Small Sacrifices: A True Story of Passion and Murder",
                                    "average_rating": "4.2"
                                },
                                {
                                    "title": "The Bane Chronicles",
                                    "original_title": "The Bane Chronicles",
                                    "average_rating": "4.2"
                                },
                                {
                                    "title": "The Brain That Changes Itself: Stories of Personal Triumph from the Frontiers of Brain Science",
                                    "original_title": "The Brain That Changes Itself: Stories of Personal Triumph from the Frontiers of Brain Science",
                                    "average_rating": "4.2"
                                },
                                {
                                    "title": "The Cake Bible",
                                    "original_title": "The Cake Bible",
                                    "average_rating": "4.2"
                                },
                                {
                                    "title": "The Case of Charles Dexter Ward",
                                    "original_title": "The Case of Charles Dexter Ward",
                                    "average_rating": "4.2"
                                },
                                {
                                    "title": "The Case-Book of Sherlock Holmes",
                                    "original_title": "The Case-Book of Sherlock Holmes",
                                    "average_rating": "4.2"
                                },
                                {
                                    "title": "The Collected Poems",
                                    "original_title": "The Collected Poems",
                                    "average_rating": "4.2"
                                },
                                {
                                    "title": "The Cross and the Switchblade",
                                    "original_title": "The Cross and the Switchblade",
                                    "average_rating": "4.2"
                                },
                                {
                                    "title": "The Far Pavilions",
                                    "original_title": "The Far Pavilions",
                                    "average_rating": "4.2"
                                },
                                {
                                    "title": "The Hard Thing About Hard Things: Building a Business When There Are No Easy Answers",
                                    "original_title": "The Hard Thing about Hard Things: Building A Business When There Are No Easy Answers",
                                    "average_rating": "4.2"
                                },
                                {
                                    "title": "The Little Red Hen (Little Golden Book)",
                                    "original_title": "The Little Red Hen (Little Golden Book)",
                                    "average_rating": "4.2"
                                },
                                {
                                    "title": "The Lost Wife",
                                    "original_title": "The Lost Wife",
                                    "average_rating": "4.2"
                                },
                                {
                                    "title": "The Reason for God: Belief in an Age of Skepticism",
                                    "original_title": "The Reason for God: Belief in an Age of Skepticism",
                                    "average_rating": "4.2"
                                },
                                {
                                    "title": "The Relatives Came",
                                    "original_title": "The Relatives Came",
                                    "average_rating": "4.2"
                                },
                                {
                                    "title": "The Robe",
                                    "original_title": "The Robe",
                                    "average_rating": "4.2"
                                },
                                {
                                    "title": "The Stinky Cheese Man and Other Fairly Stupid Tales",
                                    "original_title": "The Stinky Cheese Man and Other Fairly Stupid Tales",
                                    "average_rating": "4.2"
                                },
                                {
                                    "title": "There Was an Old Lady Who Swallowed a Fly",
                                    "original_title": "There Was an Old Lady Who Swallowed a Fly",
                                    "average_rating": "4.2"
                                },
                                {
                                    "title": "Tilt",
                                    "original_title": "Tilt",
                                    "average_rating": "4.2"
                                },
                                {
                                    "title": "Touching the Void: The True Story of One Man's Miraculous Survival",
                                    "original_title": "Touching the Void: The True Story of One Man's Miraculous Survival",
                                    "average_rating": "4.2"
                                },
                                {
                                    "title": "Zami: A New Spelling of My Name",
                                    "original_title": "Zami: A New Spelling of My Name",
                                    "average_rating": "4.2"
                                }
                            ]
                        },
                        "text/html": [
                            "<table>",
                            "<tr><th>title</th><th>original_title</th><th>average_rating</th></tr>",
                            "<tr><td>The Complete Calvin and Hobbes</td><td>The Complete Calvin and Hobbes</td><td>4.82</td></tr>",
                            "<tr><td>Mark of the Lion Trilogy</td><td>Mark of the Lion Trilogy</td><td>4.76</td></tr>",
                            "<tr><td>It&#39;s a Magical World: A Calvin and Hobbes Collection</td><td>It&#39;s a Magical World: A Calvin and Hobbes Collection</td><td>4.75</td></tr>",
                            "<tr><td>There&#39;s Treasure Everywhere: A Calvin and Hobbes Collection</td><td>There&#39;s Treasure Everywhere: A Calvin and Hobbes Collection</td><td>4.74</td></tr>",
                            "<tr><td>Harry Potter Collection (Harry Potter, #1-6)</td><td>Harry Potter Collection (Harry Potter, #1-6)</td><td>4.73</td></tr>",
                            "<tr><td>Homicidal Psycho Jungle Cat: A Calvin and Hobbes Collection</td><td>Homicidal Psycho Jungle Cat: A Calvin and Hobbes Collection</td><td>4.71</td></tr>",
                            "<tr><td>The Days Are Just Packed: A Calvin and Hobbes Collection</td><td>The Days Are Just Packed: A Calvin and Hobbes Collection</td><td>4.68</td></tr>",
                            "<tr><td>The Calvin and Hobbes Lazy Sunday Book</td><td>The Calvin and Hobbes Lazy Sunday Book</td><td>4.66</td></tr>",
                            "<tr><td>The Absolute Sandman, Volume One</td><td>The Absolute Sandman, Volume One</td><td>4.65</td></tr>",
                            "<tr><td>The Essential Calvin and Hobbes: A Calvin and Hobbes Treasury</td><td>The Essential Calvin and Hobbes: A Calvin and Hobbes Treasury</td><td>4.65</td></tr>",
                            "<tr><td>The Calvin and Hobbes Tenth Anniversary Book</td><td>The Calvin and Hobbes Tenth Anniversary Book</td><td>4.63</td></tr>",
                            "<tr><td>The Hate U Give</td><td>The Hate U Give</td><td>4.62</td></tr>",
                            "<tr><td>Calvin and Hobbes</td><td>Calvin and Hobbes</td><td>4.61</td></tr>",
                            "<tr><td>Harry Potter and the Chamber of Secrets: Sheet Music for Flute with C.D</td><td>Harry Potter and the Chamber of Secrets: Sheet Music for Flute with C.D</td><td>4.61</td></tr>",
                            "<tr><td>Holy Bible: New International Version</td><td>Holy Bible: New International Version</td><td>4.61</td></tr>",
                            "<tr><td>Standing for Something: 10 Neglected Virtues That Will Heal Our Hearts and Homes</td><td>Standing for Something: 10 Neglected Virtues That Will Heal Our Hearts and Homes</td><td>4.61</td></tr>",
                            "<tr><td>The Sandman: King of Dreams</td><td>The Sandman: King of Dreams</td><td>4.61</td></tr>",
                            "<tr><td>An Echo in the Darkness (Mark of the Lion, #2)</td><td>An Echo in the Darkness (Mark of the Lion, #2)</td><td>4.6</td></tr>",
                            "<tr><td>The Lord of the Rings: The Art of The Fellowship of the Ring</td><td>The Lord of the Rings: The Art of The Fellowship of the Ring</td><td>4.59</td></tr>",
                            "<tr><td>Just Mercy: A Story of Justice and Redemption</td><td>Just Mercy: A Story of Justice and Redemption</td><td>4.58</td></tr>",
                            "<tr><td>Harry Potter Page to Screen: The Complete Filmmaking Journey</td><td>Harry Potter Page to Screen: The Complete Filmmaking Journey</td><td>4.56</td></tr>",
                            "<tr><td>The Green Mile, Part 6: Coffey on the Mile</td><td>The Green Mile, Part 6: Coffey on the Mile</td><td>4.55</td></tr>",
                            "<tr><td>The Constitution of the United States of America</td><td>The Constitution of the United States of America</td><td>4.54</td></tr>",
                            "<tr><td>The Nightingale</td><td>The Nightingale</td><td>4.54</td></tr>",
                            "<tr><td>Courageous</td><td>Courageous</td><td>4.53</td></tr>",
                            "<tr><td>The Lord of the Rings: Weapons and Warfare</td><td>The Lord of the Rings: Weapons and Warfare</td><td>4.53</td></tr>",
                            "<tr><td>Thank You, Mr. Falker</td><td>Thank You, Mr. Falker</td><td>4.52</td></tr>",
                            "<tr><td>The Green Mile, Part 4: The Bad Death of Eduard Delacroix</td><td>The Green Mile, Part 4: The Bad Death of Eduard Delacroix</td><td>4.52</td></tr>",
                            "<tr><td>Believing Christ: The Parable of the Bicycle and Other Good News</td><td>Believing Christ: The Parable of the Bicycle and Other Good News</td><td>4.51</td></tr>",
                            "<tr><td>The Green Mile, Part 5: Night Journey</td><td>The Green Mile, Part 5: Night Journey</td><td>4.51</td></tr>",
                            "<tr><td>Humans of New York: Stories</td><td>Humans of New York: Stories</td><td>4.5</td></tr>",
                            "<tr><td>Locke &amp; Key, Vol. 6: Alpha &amp; Omega</td><td>Locke &amp; Key, Vol. 6: Alpha &amp; Omega</td><td>4.5</td></tr>",
                            "<tr><td>The Complete Sherlock Holmes</td><td>The Complete Sherlock Holmes</td><td>4.5</td></tr>",
                            "<tr><td>The Green Mile, Part 3: Coffey&#39;s Hands</td><td>The Green Mile, Part 3: Coffey&#39;s Hands</td><td>4.5</td></tr>",
                            "<tr><td>Kürk Mantolu Madonna</td><td>Kürk Mantolu Madonna</td><td>4.49</td></tr>",
                            "<tr><td>The Complete Works</td><td>The Complete Works</td><td>4.49</td></tr>",
                            "<tr><td>The Green Mile, Part 1: The Two Dead Girls</td><td>The Green Mile, Part 1: The Two Dead Girls</td><td>4.49</td></tr>",
                            "<tr><td>The New Jim Crow: Mass Incarceration in the Age of Colorblindness</td><td>The New Jim Crow: Mass Incarceration in the Age of Colorblindness</td><td>4.49</td></tr>",
                            "<tr><td>Assata: An Autobiography</td><td>Assata: An Autobiography</td><td>4.48</td></tr>",
                            "<tr><td>Evicted: Poverty and Profit in the American City</td><td>Evicted: Poverty and Profit in the American City</td><td>4.48</td></tr>",
                            "<tr><td>Harry Potter: Film Wizardry</td><td>Harry Potter: Film Wizardry</td><td>4.48</td></tr>",
                            "<tr><td>On Food and Cooking: The Science and Lore of the Kitchen</td><td>On Food and Cooking: The Science and Lore of the Kitchen</td><td>4.48</td></tr>",
                            "<tr><td>The Chronicles of Narnia - The Lion, the Witch, and the Wardrobe Official Illustrated Movie Companion</td><td>The Chronicles of Narnia - The Lion, the Witch, and the Wardrobe Official Illustrated Movie Companion</td><td>4.48</td></tr>",
                            "<tr><td>Darkest Powers Trilogy (Darkest Powers, #1-3)</td><td>Darkest Powers Trilogy (Darkest Powers, #1-3)</td><td>4.47</td></tr>",
                            "<tr><td>Ficciones</td><td>Ficciones</td><td>4.47</td></tr>",
                            "<tr><td>Finding Nemo</td><td>Finding Nemo</td><td>4.47</td></tr>",
                            "<tr><td>Fireproof</td><td>Fireproof</td><td>4.47</td></tr>",
                            "<tr><td>Hamilton: The Revolution</td><td>Hamilton: The Revolution</td><td>4.47</td></tr>",
                            "<tr><td>Lonesome Dove</td><td>Lonesome Dove</td><td>4.47</td></tr>",
                            "<tr><td>The Coldest Winter Ever</td><td>The Coldest Winter Ever</td><td>4.47</td></tr>",
                            "<tr><td>The Green Mile, Part 2: The Mouse on the Mile</td><td>The Green Mile, Part 2: The Mouse on the Mile</td><td>4.47</td></tr>",
                            "<tr><td>The Gruffalo</td><td>The Gruffalo</td><td>4.47</td></tr>",
                            "<tr><td>Tramp for the Lord</td><td>Tramp for the Lord</td><td>4.47</td></tr>",
                            "<tr><td>We Should All Be Feminists</td><td>We Should All Be Feminists</td><td>4.47</td></tr>",
                            "<tr><td>Shoe Dog: A Memoir by the Creator of NIKE</td><td>Shoe Dog: A Memoir by the Creator of Nike</td><td>4.46</td></tr>",
                            "<tr><td>The Complete Adventures of Peter Rabbit</td><td>The Complete Adventures of Peter Rabbit</td><td>4.46</td></tr>",
                            "<tr><td>Archer&#39;s Voice</td><td>Archer&#39;s Voice</td><td>4.45</td></tr>",
                            "<tr><td>Harry Potter and Philosophy: If Aristotle Ran Hogwarts</td><td>Harry Potter and Philosophy: If Aristotle Ran Hogwarts</td><td>4.45</td></tr>",
                            "<tr><td>Lover Awakened (Black Dagger Brotherhood, #3)</td><td>Lover Awakened (Black Dagger Brotherhood, #3)</td><td>4.45</td></tr>",
                            "<tr><td>Miss Rumphius</td><td>Miss Rumphius</td><td>4.45</td></tr>",
                            "<tr><td>Praying God&#39;s Word: Breaking Free From Spiritual Strongholds</td><td>Praying God&#39;s Word: Breaking Free From Spiritual Strongholds</td><td>4.45</td></tr>",
                            "<tr><td>Sherlock Holmes: The Complete Novels and Stories, Volume I</td><td>Sherlock Holmes: The Complete Novels and Stories, Volume I</td><td>4.45</td></tr>",
                            "<tr><td>The Far Side Gallery 3</td><td>The Far Side Gallery 3</td><td>4.45</td></tr>",
                            "<tr><td>The Fire Next Time</td><td>The Fire Next Time</td><td>4.45</td></tr>",
                            "<tr><td>The Help</td><td>The Help</td><td>4.45</td></tr>",
                            "<tr><td>The Monster at the End of this Book</td><td>The Monster at the End of This Book</td><td>4.45</td></tr>",
                            "<tr><td>Wicked - Piano/Vocal Arrangement</td><td>Wicked - Piano/Vocal Arrangement</td><td>4.45</td></tr>",
                            "<tr><td>Ignite Me (Shatter Me, #3)</td><td>Ignite Me (Shatter Me, #3)</td><td>4.44</td></tr>",
                            "<tr><td>It Ends with Us</td><td>It Ends with Us</td><td>4.44</td></tr>",
                            "<tr><td>Locke &amp; Key, Vol. 4: Keys to the Kingdom</td><td>Locke &amp; Key, Vol. 4: Keys to the Kingdom</td><td>4.44</td></tr>",
                            "<tr><td>The Complete Stories</td><td>The Complete Stories</td><td>4.44</td></tr>",
                            "<tr><td>The Poetry of Pablo Neruda</td><td>The Poetry of Pablo Neruda</td><td>4.44</td></tr>",
                            "<tr><td>Left to Tell: Discovering God Amidst the Rwandan Holocaust</td><td>Left to Tell: Discovering God Amidst the Rwandan Holocaust</td><td>4.43</td></tr>",
                            "<tr><td>The Wheel of Time: Boxed Set #1 (Wheel of Time, #1-3)</td><td>The Wheel of Time: Boxed Set #1 (Wheel of Time, #1-3)</td><td>4.43</td></tr>",
                            "<tr><td>Wonder</td><td>Wonder</td><td>4.43</td></tr>",
                            "<tr><td>رباعيات صلاح جاهين</td><td>رباعيات صلاح جاهين</td><td>4.43</td></tr>",
                            "<tr><td>Band of Brothers: E Company, 506th Regiment, 101st Airborne from Normandy to Hitler&#39;s Eagle&#39;s Nest</td><td>Band of Brothers: E Company, 506th Regiment, 101st Airborne from Normandy to Hitler&#39;s Eagle&#39;s Nest</td><td>4.42</td></tr>",
                            "<tr><td>Ina May&#39;s Guide to Childbirth</td><td>Ina May&#39;s Guide to Childbirth</td><td>4.42</td></tr>",
                            "<tr><td>Nothing to Envy: Ordinary Lives in North Korea</td><td>Nothing to Envy: Ordinary Lives in North Korea</td><td>4.42</td></tr>",
                            "<tr><td>The Far Side Gallery</td><td>The Far Side Gallery</td><td>4.42</td></tr>",
                            "<tr><td>The Green Mile</td><td>The Green Mile</td><td>4.42</td></tr>",
                            "<tr><td>Fantastic Beasts and Where to Find Them: The Original Screenplay</td><td>Fantastic Beasts and Where to Find Them: The Original Screenplay</td><td>4.41</td></tr>",
                            "<tr><td>Homegoing</td><td>Homegoing</td><td>4.41</td></tr>",
                            "<tr><td>November 9</td><td>November 9</td><td>4.41</td></tr>",
                            "<tr><td>Scott Pilgrim, Volume 6: Scott Pilgrim&#39;s Finest Hour</td><td>Scott Pilgrim, Volume 6: Scott Pilgrim&#39;s Finest Hour</td><td>4.41</td></tr>",
                            "<tr><td>The Cat in the Hat and Other Dr. Seuss Favorites</td><td>The Cat in the Hat and Other Dr. Seuss Favorites</td><td>4.41</td></tr>",
                            "<tr><td>The Day the Crayons Quit</td><td>The Day the Crayons Quit</td><td>4.41</td></tr>",
                            "<tr><td>The Kissing Hand</td><td>The Kissing Hand</td><td>4.41</td></tr>",
                            "<tr><td>The Peacegiver: How Christ Offers to Heal Our Hearts and Homes</td><td>The Peacegiver: How Christ Offers to Heal Our Hearts and Homes</td><td>4.41</td></tr>",
                            "<tr><td>The Story of Ruby Bridges</td><td>The Story of Ruby Bridges</td><td>4.41</td></tr>",
                            "<tr><td>The Weight of Glory</td><td>The Weight of Glory</td><td>4.41</td></tr>",
                            "<tr><td>Being Mortal: Medicine and What Matters in the End</td><td>Being Mortal: Medicine and What Matters in the End</td><td>4.4</td></tr>",
                            "<tr><td>Between the World and Me</td><td>Between the World and Me</td><td>4.4</td></tr>",
                            "<tr><td>Gates of Fire: An Epic Novel of the Battle of Thermopylae</td><td>Gates of Fire: An Epic Novel of the Battle of Thermopylae</td><td>4.4</td></tr>",
                            "<tr><td>The Exploits of Sherlock Holmes</td><td>The Exploits of Sherlock Holmes</td><td>4.4</td></tr>",
                            "<tr><td>The Royal Ranger (Ranger&#39;s Apprentice, #12)</td><td>The Royal Ranger (Ranger&#39;s Apprentice, #12)</td><td>4.4</td></tr>",
                            "<tr><td>The Sunne in Splendour</td><td>The Sunne in Splendour</td><td>4.4</td></tr>",
                            "<tr><td>Unbroken: A World War II Story of Survival, Resilience, and Redemption</td><td>Unbroken: A World War II Story of Survival, Resilience, and Redemption</td><td>4.4</td></tr>",
                            "<tr><td>With the Old Breed: At Peleliu and Okinawa</td><td>With The Old Breed: At Peleliu And Okinawa</td><td>4.4</td></tr>",
                            "<tr><td>As Sure as the Dawn (Mark of the Lion, #3)</td><td>As Sure as the Dawn (Mark of the Lion, #3)</td><td>4.39</td></tr>",
                            "<tr><td>Beauty and the Beast</td><td>Beauty and the Beast</td><td>4.39</td></tr>",
                            "<tr><td>Every Thing on It</td><td>Every Thing On It</td><td>4.39</td></tr>",
                            "<tr><td>I Love You Through and Through</td><td>I Love You Through And Through</td><td>4.39</td></tr>",
                            "<tr><td>I Want My Hat Back</td><td>I Want My Hat Back</td><td>4.39</td></tr>",
                            "<tr><td>Martin Eden</td><td>Martin Eden</td><td>4.39</td></tr>",
                            "<tr><td>My Utmost for His Highest</td><td>My Utmost for His Highest</td><td>4.39</td></tr>",
                            "<tr><td>Red Notice: A True Story of High Finance, Murder, and One Man’s Fight for Justice</td><td>Red Notice: A True Story of High Finance, Murder, and One Man’s Fight for Justice</td><td>4.39</td></tr>",
                            "<tr><td>Stand Tall, Molly Lou Melon</td><td>Stand Tall, Molly Lou Melon</td><td>4.39</td></tr>",
                            "<tr><td>Streams in the Desert</td><td>Streams in the Desert</td><td>4.39</td></tr>",
                            "<tr><td>The Brothers K</td><td>The Brothers K</td><td>4.39</td></tr>",
                            "<tr><td>The Lord God Made Them All</td><td>The Lord God Made Them All</td><td>4.39</td></tr>",
                            "<tr><td>The Martian</td><td>The Martian</td><td>4.39</td></tr>",
                            "<tr><td>The Truth Seeker (O&#39;Malley #3)</td><td>The Truth Seeker (O&#39;Malley #3)</td><td>4.39</td></tr>",
                            "<tr><td>Homicide: A Year on the Killing Streets</td><td>Homicide: A Year on the Killing Streets</td><td>4.38</td></tr>",
                            "<tr><td>Love You to Death: The Unofficial Companion to the Vampire Diaries</td><td>Love You to Death: The Unofficial Companion to The Vampire Diaries</td><td>4.38</td></tr>",
                            "<tr><td>Survivor In Death (In Death, #20)</td><td>Survivor in Death (In Death, #20)</td><td>4.38</td></tr>",
                            "<tr><td>The Beatles Anthology</td><td>The Beatles Anthology</td><td>4.38</td></tr>",
                            "<tr><td>The Giving Tree</td><td>The Giving Tree</td><td>4.38</td></tr>",
                            "<tr><td>The Looming Tower: Al-Qaeda and the Road to 9/11</td><td>The Looming Tower: Al-Qaeda and the Road to 9/11</td><td>4.38</td></tr>",
                            "<tr><td>The Power of a Praying Woman</td><td>The Power of a Praying Woman</td><td>4.38</td></tr>",
                            "<tr><td>The Return of the Prodigal Son: A Story of Homecoming</td><td>The Return of the Prodigal Son: A Story of Homecoming</td><td>4.38</td></tr>",
                            "<tr><td>The Sandman: The Dream Hunters</td><td>The Sandman: The Dream Hunters</td><td>4.38</td></tr>",
                            "<tr><td>Through Gates of Splendor</td><td>Through Gates of Splendor</td><td>4.38</td></tr>",
                            "<tr><td>Twilight and History</td><td>Twilight and History</td><td>4.38</td></tr>",
                            "<tr><td>A Gentleman in Moscow</td><td>A Gentleman in Moscow</td><td>4.37</td></tr>",
                            "<tr><td>And the Band Played On: Politics, People, and the AIDS Epidemic</td><td>And the Band Played On: Politics, People, and the AIDS Epidemic</td><td>4.37</td></tr>",
                            "<tr><td>Bumi Manusia</td><td>Bumi Manusia</td><td>4.37</td></tr>",
                            "<tr><td>Out of My Mind</td><td>Out of My Mind</td><td>4.37</td></tr>",
                            "<tr><td>The Improbable Adventures of Sherlock Holmes</td><td>The Improbable Adventures of Sherlock Holmes</td><td>4.37</td></tr>",
                            "<tr><td>The Miracle of Forgiveness</td><td>The Miracle of Forgiveness</td><td>4.37</td></tr>",
                            "<tr><td>The Pigeon Wants a Puppy!</td><td>The Pigeon Wants a Puppy!</td><td>4.37</td></tr>",
                            "<tr><td>The Wheel of Time: Boxed Set  (Wheel of Time, #1-8)</td><td>The Wheel of Time: Boxed Set  (Wheel of Time, #1-8)</td><td>4.37</td></tr>",
                            "<tr><td>Wicked Deeds on a Winter&#39;s Night (Immortals After Dark #4)</td><td>Wicked Deeds on a Winter&#39;s Night (Immortals After Dark #4)</td><td>4.37</td></tr>",
                            "<tr><td>A Work in Progress</td><td>A Work in Progress</td><td>4.36</td></tr>",
                            "<tr><td>Between Shades of Gray</td><td>Between Shades of Gray</td><td>4.36</td></tr>",
                            "<tr><td>Echo</td><td>Echo</td><td>4.36</td></tr>",
                            "<tr><td>Endurance: Shackleton&#39;s Incredible Voyage</td><td>Endurance: Shackleton&#39;s incredible voyage</td><td>4.36</td></tr>",
                            "<tr><td>Guess How Much I Love You</td><td>Guess How Much I Love You</td><td>4.36</td></tr>",
                            "<tr><td>How the Grinch Stole Christmas!</td><td>How the Grinch Stole Christmas!</td><td>4.36</td></tr>",
                            "<tr><td>Innocent in Death (In Death, #24)</td><td>Innocent in Death (In Death, #24)</td><td>4.36</td></tr>",
                            "<tr><td>Making Faces</td><td>Making Faces</td><td>4.36</td></tr>",
                            "<tr><td>Salt to the Sea</td><td>Salt to the Sea</td><td>4.36</td></tr>",
                            "<tr><td>The Book Thief</td><td>The Book Thief</td><td>4.36</td></tr>",
                            "<tr><td>The Godfather</td><td>The Godfather</td><td>4.36</td></tr>",
                            "<tr><td>The Power of the Dog</td><td>The Power of the Dog</td><td>4.36</td></tr>",
                            "<tr><td>Y: The Last Man - The Deluxe Edition Book One</td><td>Y: The Last Man - The Deluxe Edition Book One</td><td>4.36</td></tr>",
                            "<tr><td>Chasing the Prophecy (Beyonders, #3)</td><td>Chasing the Prophecy (Beyonders, #3)</td><td>4.35</td></tr>",
                            "<tr><td>Cosmos</td><td>Cosmos</td><td>4.35</td></tr>",
                            "<tr><td>Don&#39;t Let the Pigeon Stay Up Late!</td><td>Don&#39;t Let the Pigeon Stay Up Late!</td><td>4.35</td></tr>",
                            "<tr><td>Lover Eternal (Black Dagger Brotherhood, #2)</td><td>Lover Eternal (Black Dagger Brotherhood, #2)</td><td>4.35</td></tr>",
                            "<tr><td>On the Night You Were Born</td><td>On the Night You Were Born</td><td>4.35</td></tr>",
                            "<tr><td>The Holiness of God</td><td>The Holiness of God</td><td>4.35</td></tr>",
                            "<tr><td>The Lorax</td><td>The Lorax</td><td>4.35</td></tr>",
                            "<tr><td>The Mauritius Command</td><td>The Mauritius Command</td><td>4.35</td></tr>",
                            "<tr><td>The Pigeon Finds a Hot Dog!</td><td>The Pigeon Finds a Hot Dog!</td><td>4.35</td></tr>",
                            "<tr><td>The Story of Ferdinand</td><td>The Story of Ferdinand</td><td>4.35</td></tr>",
                            "<tr><td>Watchmen</td><td>Watchmen</td><td>4.35</td></tr>",
                            "<tr><td>A Fine Balance</td><td>A Fine Balance</td><td>4.34</td></tr>",
                            "<tr><td>A Light in the Attic</td><td>A Light in the Attic</td><td>4.34</td></tr>",
                            "<tr><td>A Thousand Splendid Suns</td><td>A Thousand Splendid Suns</td><td>4.34</td></tr>",
                            "<tr><td>Different Seasons</td><td>Different Seasons</td><td>4.34</td></tr>",
                            "<tr><td>Drums of Autumn (Outlander, #4)</td><td>Drums of Autumn (Outlander, #4)</td><td>4.34</td></tr>",
                            "<tr><td>Identical</td><td>Identical</td><td>4.34</td></tr>",
                            "<tr><td>India After Gandhi: The History of the World&#39;s Largest Democracy</td><td>India After Gandhi: The History of the World&#39;s Largest Democracy</td><td>4.34</td></tr>",
                            "<tr><td>Janet Evanovich Three and Four Two-Book Set (Stephanie Plum, #3-4)</td><td>Janet Evanovich Three and Four Two-Book Set (Stephanie Plum, #3-4)</td><td>4.34</td></tr>",
                            "<tr><td>Lone Survivor: The Eyewitness Account of Operation Redwing and the Lost Heroes of SEAL Team 10</td><td>Lone Survivor: The Eyewitness Account of Operation Redwing and the Lost Heroes of SEAL Team 10</td><td>4.34</td></tr>",
                            "<tr><td>Love You Forever</td><td>Love You Forever</td><td>4.34</td></tr>",
                            "<tr><td>Oh, The Places You&#39;ll Go!</td><td>Oh, the Places You&#39;ll Go!</td><td>4.34</td></tr>",
                            "<tr><td>Peace Is Every Step: The Path of Mindfulness in Everyday Life</td><td>Peace Is Every Step: The Path of Mindfulness in Everyday Life</td><td>4.34</td></tr>",
                            "<tr><td>The Book with No Pictures</td><td>The Book with No Pictures</td><td>4.34</td></tr>",
                            "<tr><td>The Last Seven Months of Anne Frank</td><td>The Last Seven Months of Anne Frank</td><td>4.34</td></tr>",
                            "<tr><td>The Miraculous Journey of Edward Tulane</td><td>The Miraculous Journey of Edward Tulane</td><td>4.34</td></tr>",
                            "<tr><td>The Sandman: Endless Nights</td><td>The Sandman: Endless Nights</td><td>4.34</td></tr>",
                            "<tr><td>The Sea of Tranquility</td><td>The Sea of Tranquility</td><td>4.34</td></tr>",
                            "<tr><td>The Stand</td><td>The Stand</td><td>4.34</td></tr>",
                            "<tr><td>The Wall of Winnipeg and Me</td><td>The Wall of Winnipeg and Me</td><td>4.34</td></tr>",
                            "<tr><td>All-Star Superman, Vol. 2</td><td>All-Star Superman, Vol. 2</td><td>4.33</td></tr>",
                            "<tr><td>Amazing Grace</td><td>Amazing Grace</td><td>4.33</td></tr>",
                            "<tr><td>Batman, Volume 3: Death of the Family</td><td>Batman, Volume 3: Death of the Family</td><td>4.33</td></tr>",
                            "<tr><td>Battlefield of the Mind: Winning the Battle in Your Mind</td><td>Battlefield of the Mind: Winning the Battle in Your Mind</td><td>4.33</td></tr>",
                            "<tr><td>Born in Death (In Death, #23)</td><td>Born in Death (In Death, #23)</td><td>4.33</td></tr>",
                            "<tr><td>Crush</td><td>Crush</td><td>4.33</td></tr>",
                            "<tr><td>Exodus</td><td>Exodus</td><td>4.33</td></tr>",
                            "<tr><td>Falling Up</td><td>Falling Up</td><td>4.33</td></tr>",
                            "<tr><td>Last Chance to See</td><td>Last Chance to See</td><td>4.33</td></tr>",
                            "<tr><td>Mastering the Art of French Cooking</td><td>Mastering the Art of French Cooking</td><td>4.33</td></tr>",
                            "<tr><td>Preacher, Volume 8: All Hell&#39;s a-Coming</td><td>Preacher, Volume 8: All Hell&#39;s a-Coming</td><td>4.33</td></tr>",
                            "<tr><td>SantaLand Diaries</td><td>SantaLand Diaries</td><td>4.33</td></tr>",
                            "<tr><td>Scott Pilgrim, Volume 5: Scott Pilgrim Vs. the Universe</td><td>Scott Pilgrim, Volume 5: Scott Pilgrim Vs. the Universe</td><td>4.33</td></tr>",
                            "<tr><td>Taken at Dusk (Shadow Falls, #3)</td><td>Taken at Dusk (Shadow Falls, #3)</td><td>4.33</td></tr>",
                            "<tr><td>The Arrival</td><td>The Arrival</td><td>4.33</td></tr>",
                            "<tr><td>The Dragonslayer (Bone, #4)</td><td>The Dragonslayer (Bone, #4)</td><td>4.33</td></tr>",
                            "<tr><td>The Emperor&#39;s Soul</td><td>The Emperor&#39;s Soul</td><td>4.33</td></tr>",
                            "<tr><td>The Heavenly Man: The Remarkable True Story of Chinese Christian Brother Yun</td><td>The Heavenly Man: The Remarkable True Story of Chinese Christian Brother Yun</td><td>4.33</td></tr>",
                            "<tr><td>The Real Mother Goose</td><td>The Real Mother Goose</td><td>4.33</td></tr>",
                            "<tr><td>Visions in Death (In Death, #19)</td><td>Visions in Death (In Death, #19)</td><td>4.33</td></tr>",
                            "<tr><td>A Higher Call: An Incredible True Story of Combat and Chivalry in the War-Torn Skies of World War II</td><td>A Higher Call: An Incredible True Story of Combat and Chivalry in the War-Torn Skies of World War II</td><td>4.32</td></tr>",
                            "<tr><td>Battle Cry of Freedom</td><td>Battle Cry of Freedom</td><td>4.32</td></tr>",
                            "<tr><td>Black Lies</td><td>Black Lies</td><td>4.32</td></tr>",
                            "<tr><td>Boy&#39;s Life</td><td>Boy&#39;s Life</td><td>4.32</td></tr>",
                            "<tr><td>Counterfeit Gods: The Empty Promises of Money, Sex, and Power, and the Only Hope that Matters</td><td>Counterfeit Gods: The Empty Promises of Money, Sex, and Power, and the Only Hope That Matters</td><td>4.32</td></tr>",
                            "<tr><td>Divided in Death (In Death, #18)</td><td>Divided in Death (In Death, #18)</td><td>4.32</td></tr>",
                            "<tr><td>God&#39;s Smuggler</td><td>God&#39;s Smuggler</td><td>4.32</td></tr>",
                            "<tr><td>If I Die (Soul Screamers, #5)</td><td>If I Die (Soul Screamers, #5)</td><td>4.32</td></tr>",
                            "<tr><td>Mufaro&#39;s Beautiful Daughters: An African Tale</td><td>Mufaro&#39;s Beautiful Daughters: An African Tale</td><td>4.32</td></tr>",
                            "<tr><td>Out of Breath (Breathing, #3)</td><td>Out of Breath (Breathing, #3)</td><td>4.32</td></tr>",
                            "<tr><td>Pale Blue Dot: A Vision of the Human Future in Space</td><td>Pale Blue Dot: A Vision of the Human Future in Space</td><td>4.32</td></tr>",
                            "<tr><td>Plenty</td><td>Plenty</td><td>4.32</td></tr>",
                            "<tr><td>Scott Pilgrim, Volume 4: Scott Pilgrim Gets It Together</td><td>Scott Pilgrim, Volume 4: Scott Pilgrim Gets It Together</td><td>4.32</td></tr>",
                            "<tr><td>The Auschwitz Escape</td><td>The Auschwitz Escape</td><td>4.32</td></tr>",
                            "<tr><td>The Battle for Skandia (Ranger&#39;s Apprentice, #4)</td><td>The Battle for Skandia (Ranger&#39;s Apprentice, #4)</td><td>4.32</td></tr>",
                            "<tr><td>The Black Dagger Brotherhood: An Insider&#39;s Guide</td><td>The Black Dagger Brotherhood: An Insider&#39;s Guide</td><td>4.32</td></tr>",
                            "<tr><td>The Boys in the Boat: Nine Americans and Their Epic Quest for Gold at the 1936 Berlin Olympics</td><td>The Boys in the Boat: Nine Americans and Their Epic Quest for Gold at the 1936 Berlin Olympics</td><td>4.32</td></tr>",
                            "<tr><td>The Darkest Lie (Lords of the Underworld #6)</td><td>The Darkest Lie (Lords of the Underworld #6)</td><td>4.32</td></tr>",
                            "<tr><td>The Everafter War (The Sisters Grimm, #7)</td><td>The Everafter War (The Sisters Grimm, #7)</td><td>4.32</td></tr>",
                            "<tr><td>The Love Song of J. Alfred Prufrock and Other Poems</td><td>The Love Song of J. Alfred Prufrock and Other Poems</td><td>4.32</td></tr>",
                            "<tr><td>The Magic Strings of Frankie Presto</td><td>The Magic Strings of Frankie Presto</td><td>4.32</td></tr>",
                            "<tr><td>The Making of the Atomic Bomb</td><td>The Making of the Atomic Bomb</td><td>4.32</td></tr>",
                            "<tr><td>The Memoirs of Sherlock Holmes</td><td>The Memoirs of Sherlock Holmes</td><td>4.32</td></tr>",
                            "<tr><td>The Paper Bag Princess</td><td>The Paper Bag Princess</td><td>4.32</td></tr>",
                            "<tr><td>The Practice of the Presence of God</td><td>The Practice of the Presence of God</td><td>4.32</td></tr>",
                            "<tr><td>The Realms of the Gods (Immortals, #4)</td><td>The Realms of the Gods (Immortals, #4)</td><td>4.32</td></tr>",
                            "<tr><td>The Secret Race: Inside the Hidden World of the Tour de France: Doping, Cover-ups, and Winning at All Costs</td><td>The Secret Race: Inside the Hidden World of the Tour de France: Doping, Cover-ups, and Winning at All Costs</td><td>4.32</td></tr>",
                            "<tr><td>When Breath Becomes Air</td><td>When Breath Becomes Air</td><td>4.32</td></tr>",
                            "<tr><td>Wild Magic (Immortals, #1)</td><td>Wild Magic (Immortals, #1)</td><td>4.32</td></tr>",
                            "<tr><td>Women&#39;s Bodies, Women&#39;s Wisdom: Creating Physical and Emotional Health and Healing</td><td>Women&#39;s Bodies, Women&#39;s Wisdom: Creating Physical and Emotional Health and Healing</td><td>4.32</td></tr>",
                            "<tr><td>عائد إلى حيفا</td><td>عائد إلى حيفا</td><td>4.32</td></tr>",
                            "<tr><td>Anne Frank : The Biography</td><td>Anne Frank : The Biography</td><td>4.31</td></tr>",
                            "<tr><td>Chrysanthemum</td><td>Chrysanthemum</td><td>4.31</td></tr>",
                            "<tr><td>Daytripper</td><td>Daytripper</td><td>4.31</td></tr>",
                            "<tr><td>Financial Peace Revisited</td><td>Financial Peace Revisited</td><td>4.31</td></tr>",
                            "<tr><td>Half the Sky: Turning Oppression into Opportunity for Women Worldwide</td><td>Half the Sky: Turning Oppression into Opportunity for Women Worldwide</td><td>4.31</td></tr>",
                            "<tr><td>Infinite Jest</td><td>Infinite Jest</td><td>4.31</td></tr>",
                            "<tr><td>Knowing God</td><td>Knowing God</td><td>4.31</td></tr>",
                            "<tr><td>Lilac Girls</td><td>Lilac Girls</td><td>4.31</td></tr>",
                            "<tr><td>Mere Christianity</td><td>Mere Christianity</td><td>4.31</td></tr>",
                            "<tr><td>On Writing: A Memoir of the Craft</td><td>On Writing: A Memoir of the Craft</td><td>4.31</td></tr>",
                            "<tr><td>The America&#39;s Test Kitchen Family Cookbook</td><td>The America&#39;s Test Kitchen Family Cookbook</td><td>4.31</td></tr>",
                            "<tr><td>The Autobiography of Martin Luther King, Jr.</td><td>The Autobiography of Martin Luther King, Jr.</td><td>4.31</td></tr>",
                            "<tr><td>The Endurance: Shackleton&#39;s Legendary Antarctic Expedition</td><td>The Endurance: Shackleton&#39;s legendary Antarctic expedition</td><td>4.31</td></tr>",
                            "<tr><td>The Little Mouse, the Red Ripe Strawberry, and the Big Hungry Bear</td><td>The Little Mouse, the Red Ripe Strawberry, and the Big Hungry Bear</td><td>4.31</td></tr>",
                            "<tr><td>The Longest Day</td><td>The Longest Day</td><td>4.31</td></tr>",
                            "<tr><td>The Power of a Praying Wife</td><td>The Power of a Praying Wife</td><td>4.31</td></tr>",
                            "<tr><td>The Pragmatic Programmer: From Journeyman to Master</td><td>The Pragmatic Programmer: From Journeyman to Master</td><td>4.31</td></tr>",
                            "<tr><td>The Sneetches and Other Stories</td><td>The Sneetches and Other Stories</td><td>4.31</td></tr>",
                            "<tr><td>The Way to Cook</td><td>The Way to Cook</td><td>4.31</td></tr>",
                            "<tr><td>Three Day Road</td><td>Three Day Road</td><td>4.31</td></tr>",
                            "<tr><td>A Child&#39;s Garden of Verses</td><td>A Child&#39;s Garden of Verses</td><td>4.3</td></tr>",
                            "<tr><td>Batman, Volume 1: The Court of Owls</td><td>Batman, Volume 1: The Court of Owls</td><td>4.3</td></tr>",
                            "<tr><td>Binge</td><td>Binge</td><td>4.3</td></tr>",
                            "<tr><td>Cathedral</td><td>Cathedral</td><td>4.3</td></tr>",
                            "<tr><td>Citizen: An American Lyric</td><td>Citizen: An American Lyric</td><td>4.3</td></tr>",
                            "<tr><td>Copper Sun</td><td>Copper Sun</td><td>4.3</td></tr>",
                            "<tr><td>Emperor Mage (Immortals, #3)</td><td>Emperor Mage (Immortals, #3)</td><td>4.3</td></tr>",
                            "<tr><td>Gödel, Escher, Bach: An Eternal Golden Braid</td><td>Gödel, Escher, Bach: An Eternal Golden Braid</td><td>4.3</td></tr>",
                            "<tr><td>Hinds&#39; Feet on High Places</td><td>Hinds&#39; Feet on High Places</td><td>4.3</td></tr>",
                            "<tr><td>Judas Unchained</td><td>Judas Unchained</td><td>4.3</td></tr>",
                            "<tr><td>Little Bear&#39;s Friend</td><td>Little Bear&#39;s Friend</td><td>4.3</td></tr>",
                            "<tr><td>Rudolph the Red-Nosed Reindeer</td><td>Rudolph the Red-Nosed Reindeer</td><td>4.3</td></tr>",
                            "<tr><td>Still Alice</td><td>Still Alice</td><td>4.3</td></tr>",
                            "<tr><td>Tatiana and Alexander (The Bronze Horseman, #2)</td><td>Tatiana and Alexander (The Bronze Horseman, #2)</td><td>4.3</td></tr>",
                            "<tr><td>Team of Rivals: The Political Genius of Abraham Lincoln</td><td>Team of Rivals: The Political Genius of Abraham Lincoln</td><td>4.3</td></tr>",
                            "<tr><td>Term Limits</td><td>Term Limits</td><td>4.3</td></tr>",
                            "<tr><td>The Places That Scare You: A Guide to Fearlessness in Difficult Times</td><td>The Places That Scare You: A Guide to Fearlessness in Difficult Times</td><td>4.3</td></tr>",
                            "<tr><td>The Power of Myth</td><td>The Power of Myth</td><td>4.3</td></tr>",
                            "<tr><td>The Raven and other poems</td><td>The Raven and Other Poems</td><td>4.3</td></tr>",
                            "<tr><td>The Return of Sherlock Holmes</td><td>The Return of Sherlock Holmes</td><td>4.3</td></tr>",
                            "<tr><td>The Source</td><td>The Source</td><td>4.3</td></tr>",
                            "<tr><td>The Sweet Gum Tree</td><td>The Sweet Gum Tree</td><td>4.3</td></tr>",
                            "<tr><td>Ugly Love</td><td>Ugly Love</td><td>4.3</td></tr>",
                            "<tr><td>We Wish to Inform You That Tomorrow We Will Be Killed with Our Families</td><td>We Wish to Inform You That Tomorrow We Will Be Killed with Our Families</td><td>4.3</td></tr>",
                            "<tr><td>11/22/63</td><td>11/22/63</td><td>4.29</td></tr>",
                            "<tr><td>A Pocket for Corduroy</td><td>A Pocket for Corduroy</td><td>4.29</td></tr>",
                            "<tr><td>A Return to Love: Reflections on the Principles of &quot;A Course in Miracles&quot;</td><td>A Return to Love: Reflections on the Principles of &quot;A Course in Miracles&quot;</td><td>4.29</td></tr>",
                            "<tr><td>A Thousand Boy Kisses</td><td>A Thousand Boy Kisses</td><td>4.29</td></tr>",
                            "<tr><td>A Woman After God&#39;s Own Heart</td><td>A Woman After God&#39;s Own Heart</td><td>4.29</td></tr>",
                            "<tr><td>Batman: The Black Mirror</td><td>Batman: The Black Mirror</td><td>4.29</td></tr>",
                            "<tr><td>Batman: The Long Halloween</td><td>Batman: The Long Halloween</td><td>4.29</td></tr>",
                            "<tr><td>Fallout (Crank, #3)</td><td>Fallout (Crank, #3)</td><td>4.29</td></tr>",
                            "<tr><td>Green Eggs and Ham</td><td>Green Eggs and Ham</td><td>4.29</td></tr>",
                            "<tr><td>Matilda</td><td>Matilda</td><td>4.29</td></tr>",
                            "<tr><td>Mistress of the Empire (The Empire Trilogy, #3)</td><td>Mistress of the Empire (The Empire Trilogy, #3)</td><td>4.29</td></tr>",
                            "<tr><td>Momo</td><td>Momo</td><td>4.29</td></tr>",
                            "<tr><td>Scott Pilgrim, Volume 3: Scott Pilgrim &amp; The Infinite Sadness</td><td>Scott Pilgrim, Volume 3: Scott Pilgrim &amp; The Infinite Sadness</td><td>4.29</td></tr>",
                            "<tr><td>Sisters</td><td>Sisters</td><td>4.29</td></tr>",
                            "<tr><td>Stalingrad: The Fateful Siege, 1942–1943</td><td>Stalingrad: The Fateful Siege, 1942–1943</td><td>4.29</td></tr>",
                            "<tr><td>The Adventures of Sherlock Holmes</td><td>The Adventures of Sherlock Holmes</td><td>4.29</td></tr>",
                            "<tr><td>The Autobiography of Malcolm X</td><td>The Autobiography of Malcolm X</td><td>4.29</td></tr>",
                            "<tr><td>The Complete Phantom of the Opera</td><td>The Complete Phantom of the Opera</td><td>4.29</td></tr>",
                            "<tr><td>The Emperor of All Maladies: A Biography of Cancer</td><td>The Emperor of All Maladies: A Biography of Cancer</td><td>4.29</td></tr>",
                            "<tr><td>The Little House</td><td>The Little House</td><td>4.29</td></tr>",
                            "<tr><td>The Polar Express</td><td>The Polar Express</td><td>4.29</td></tr>",
                            "<tr><td>The Road to the Dark Tower: Exploring Stephen King&#39;s Magnum Opus</td><td>The Road to the Dark Tower: Exploring Stephen King&#39;s Magnum Opus</td><td>4.29</td></tr>",
                            "<tr><td>The Total Money Makeover: A Proven Plan for Financial Fitness</td><td>The Total Money Makeover: A Proven Plan for Financial Fitness</td><td>4.29</td></tr>",
                            "<tr><td>The Velveteen Rabbit</td><td>The Velveteen Rabbit</td><td>4.29</td></tr>",
                            "<tr><td>The Walking Dead, Vol. 10: What We Become</td><td>The Walking Dead, Vol. 10: What We Become</td><td>4.29</td></tr>",
                            "<tr><td>Tiny Beautiful Things: Advice on Love and Life from Dear Sugar</td><td>Tiny Beautiful Things: Advice on Love and Life from Dear Sugar</td><td>4.29</td></tr>",
                            "<tr><td>We Were Soldiers Once... and Young: Ia Drang - The Battle that Changed the War in Vietnam</td><td>We Were Soldiers Once... and Young: Ia Drang - the Battle That Changed the War in Vietnam</td><td>4.29</td></tr>",
                            "<tr><td>When Things Fall Apart: Heart Advice for Difficult Times</td><td>When Things Fall Apart: Heart Advice for Difficult Times</td><td>4.29</td></tr>",
                            "<tr><td>Will You Please Be Quiet, Please?</td><td>Will You Please Be Quiet, Please?</td><td>4.29</td></tr>",
                            "<tr><td>ثلاثية غرناطة</td><td>ثلاثية غرناطة</td><td>4.29</td></tr>",
                            "<tr><td>Animalia</td><td>Animalia</td><td>4.28</td></tr>",
                            "<tr><td>Black Hawk Down</td><td>Black Hawk Down</td><td>4.28</td></tr>",
                            "<tr><td>City of Thieves</td><td>City of Thieves</td><td>4.28</td></tr>",
                            "<tr><td>Corduroy</td><td>Corduroy</td><td>4.28</td></tr>",
                            "<tr><td>Curious George Takes a Job</td><td>Curious George Takes a Job</td><td>4.28</td></tr>",
                            "<tr><td>Cutting for Stone</td><td>Cutting for Stone</td><td>4.28</td></tr>",
                            "<tr><td>Fish in a Tree</td><td>Fish In A Tree</td><td>4.28</td></tr>",
                            "<tr><td>Flotsam</td><td>Flotsam</td><td>4.28</td></tr>",
                            "<tr><td>Glass (Crank, #2)</td><td>Glass (Crank, #2)</td><td>4.28</td></tr>",
                            "<tr><td>Gone with the Wind</td><td>Gone with the Wind</td><td>4.28</td></tr>",
                            "<tr><td>Good Night, Mr. Tom</td><td>Good Night, Mr. Tom</td><td>4.28</td></tr>",
                            "<tr><td>Hairy Maclary from Donaldson&#39;s Dairy</td><td>Hairy Maclary from Donaldson&#39;s Dairy</td><td>4.28</td></tr>",
                            "<tr><td>Half of a Yellow Sun</td><td>Half of a Yellow Sun</td><td>4.28</td></tr>",
                            "<tr><td>Her Mother&#39;s Hope (Marta&#39;s Legacy, #1)</td><td>Her Mother&#39;s Hope (Marta&#39;s Legacy, #1)</td><td>4.28</td></tr>",
                            "<tr><td>Llama Llama Mad at Mama</td><td>Llama Llama Mad at Mama</td><td>4.28</td></tr>",
                            "<tr><td>Loving Mr. Daniels</td><td>Loving Mr. Daniels</td><td>4.28</td></tr>",
                            "<tr><td>Once We Were Brothers</td><td>Once We Were Brothers</td><td>4.28</td></tr>",
                            "<tr><td>Starlight (Warriors: The New Prophecy, #4)</td><td>Starlight (Warriors: The New Prophecy, #4)</td><td>4.28</td></tr>",
                            "<tr><td>Stone Soup</td><td>Stone Soup</td><td>4.28</td></tr>",
                            "<tr><td>Stoner</td><td>Stoner</td><td>4.28</td></tr>",
                            "<tr><td>Swan Song</td><td>Swan Song</td><td>4.28</td></tr>",
                            "<tr><td>The Book on the Taboo Against Knowing Who You Are</td><td>The Book on the Taboo Against Knowing Who You Are</td><td>4.28</td></tr>",
                            "<tr><td>The Cartel</td><td>The Cartel</td><td>4.28</td></tr>",
                            "<tr><td>The Great Divorce</td><td>The Great Divorce</td><td>4.28</td></tr>",
                            "<tr><td>The Lords of Discipline</td><td>The Lords of Discipline</td><td>4.28</td></tr>",
                            "<tr><td>The Pursuit of Holiness</td><td>The Pursuit of Holiness</td><td>4.28</td></tr>",
                            "<tr><td>The Raven</td><td>The Raven</td><td>4.28</td></tr>",
                            "<tr><td>The Snowman</td><td>The Snowman</td><td>4.28</td></tr>",
                            "<tr><td>This Side of the Grave (Night Huntress, #5)</td><td>This Side of the Grave (Night Huntress, #5)</td><td>4.28</td></tr>",
                            "<tr><td>Unravel Me (Shatter Me, #2)</td><td>Unravel Me (Shatter Me, #2)</td><td>4.28</td></tr>",
                            "<tr><td>A Little Life</td><td>A Little Life</td><td>4.27</td></tr>",
                            "<tr><td>Amelia Bedelia and the Surprise Shower</td><td>Amelia Bedelia and the Surprise Shower</td><td>4.27</td></tr>",
                            "<tr><td>Angle of Repose</td><td>Angle of Repose</td><td>4.27</td></tr>",
                            "<tr><td>Be Here Now</td><td>Be Here Now</td><td>4.27</td></tr>",
                            "<tr><td>Born to Run: A Hidden Tribe, Superathletes, and the Greatest Race the World Has Never Seen</td><td>Born to Run: A Hidden Tribe, Superathletes, and the Greatest Race the World Has Never Seen</td><td>4.27</td></tr>",
                            "<tr><td>Coming Home</td><td>Coming Home</td><td>4.27</td></tr>",
                            "<tr><td>Eragon &amp; Eldest (Inheritance, #1-2)</td><td>Eragon &amp; Eldest (Inheritance, #1-2)</td><td>4.27</td></tr>",
                            "<tr><td>Hark! A Vagrant</td><td>Hark! A Vagrant</td><td>4.27</td></tr>",
                            "<tr><td>Hawkeye, Volume 2: Little Hits</td><td>Hawkeye, Volume 2: Little Hits</td><td>4.27</td></tr>",
                            "<tr><td>Madeline and the Bad Hat</td><td>Madeline and the Bad Hat</td><td>4.27</td></tr>",
                            "<tr><td>Mastery</td><td>Mastery</td><td>4.27</td></tr>",
                            "<tr><td>Mila 18</td><td>Mila 18</td><td>4.27</td></tr>",
                            "<tr><td>Milk and Honey</td><td>milk and honey</td><td>4.27</td></tr>",
                            "<tr><td>Roller Girl</td><td>Roller Girl</td><td>4.27</td></tr>",
                            "<tr><td>Servant of the Empire (The Empire Trilogy, #2)</td><td>Servant of the Empire (The Empire Trilogy, #2)</td><td>4.27</td></tr>",
                            "<tr><td>Stone Butch Blues</td><td>Stone Butch Blues</td><td>4.27</td></tr>",
                            "<tr><td>Taken by Midnight (Midnight Breed, #8)</td><td>Taken by Midnight (Midnight Breed, #8)</td><td>4.27</td></tr>",
                            "<tr><td>The Demon-Haunted World: Science as a Candle in the Dark</td><td>The Demon-Haunted World: Science as a Candle in the Dark</td><td>4.27</td></tr>",
                            "<tr><td>The Hidden Messages in Water</td><td>The Hidden Messages in Water</td><td>4.27</td></tr>",
                            "<tr><td>The Lions of Al-Rassan</td><td>The Lions of Al-Rassan</td><td>4.27</td></tr>",
                            "<tr><td>The Missing Piece</td><td>The Missing Piece</td><td>4.27</td></tr>",
                            "<tr><td>The Napping House</td><td>The Napping House</td><td>4.27</td></tr>",
                            "<tr><td>The Song of Achilles</td><td>The Song of Achilles</td><td>4.27</td></tr>",
                            "<tr><td>The Stories of John Cheever</td><td>The Stories of John Cheever</td><td>4.27</td></tr>",
                            "<tr><td>We&#39;re Going on a Bear Hunt</td><td>We&#39;re Going on a Bear Hunt</td><td>4.27</td></tr>",
                            "<tr><td>13 Hours: The Inside Account of What Really Happened In Benghazi</td><td>13 Hours: The Inside Account of What Really Happened In Benghazi</td><td>4.26</td></tr>",
                            "<tr><td>A Grief Observed</td><td>A Grief Observed</td><td>4.26</td></tr>",
                            "<tr><td>Addicted</td><td>Addicted</td><td>4.26</td></tr>",
                            "<tr><td>Alexander Hamilton</td><td>Alexander Hamilton</td><td>4.26</td></tr>",
                            "<tr><td>Americanah</td><td>Americanah</td><td>4.26</td></tr>",
                            "<tr><td>Any Human Heart</td><td>Any Human Heart</td><td>4.26</td></tr>",
                            "<tr><td>Barefoot Contessa Family Style: Easy Ideas and Recipes That Make Everyone Feel Like Family</td><td>Barefoot Contessa Family Style: Easy Ideas and Recipes That Make Everyone Feel Like Family</td><td>4.26</td></tr>",
                            "<tr><td>Batman, Volume 2: The City of Owls</td><td>Batman, Volume 2: The City of Owls</td><td>4.26</td></tr>",
                            "<tr><td>Bloodhound (Beka Cooper, #2)</td><td>Bloodhound (Beka Cooper, #2)</td><td>4.26</td></tr>",
                            "<tr><td>Columbine</td><td>Columbine</td><td>4.26</td></tr>",
                            "<tr><td>Essentials of Classic Italian Cooking</td><td>Essentials of Classic Italian Cooking</td><td>4.26</td></tr>",
                            "<tr><td>Far from the Tree: Parents, Children, and the Search for Identity</td><td>Far from the Tree: Parents, Children, and the Search for Identity</td><td>4.26</td></tr>",
                            "<tr><td>Fried Green Tomatoes at the Whistle Stop Cafe</td><td>Fried Green Tomatoes at the Whistle Stop Cafe</td><td>4.26</td></tr>",
                            "<tr><td>Go the Fuck to Sleep</td><td>Go the Fuck to Sleep</td><td>4.26</td></tr>",
                            "<tr><td>Lamb: The Gospel According to Biff, Christ&#39;s Childhood Pal</td><td>Lamb: The Gospel According to Biff, Christ&#39;s Childhood Pal</td><td>4.26</td></tr>",
                            "<tr><td>Les Fleurs du Mal</td><td>Les Fleurs du mal</td><td>4.26</td></tr>",
                            "<tr><td>Shantaram</td><td>Shantaram</td><td>4.26</td></tr>",
                            "<tr><td>Simon vs. the Homo Sapiens Agenda</td><td>Simon vs. the Homo Sapiens Agenda</td><td>4.26</td></tr>",
                            "<tr><td>The Atonement Child</td><td>The Atonement Child</td><td>4.26</td></tr>",
                            "<tr><td>The Big Short: Inside the Doomsday Machine</td><td>The Big Short: Inside the Doomsday Machine</td><td>4.26</td></tr>",
                            "<tr><td>The Charm School</td><td>The Charm School</td><td>4.26</td></tr>",
                            "<tr><td>The Dot</td><td>The Dot</td><td>4.26</td></tr>",
                            "<tr><td>The Fault in Our Stars</td><td>The Fault in Our Stars</td><td>4.26</td></tr>",
                            "<tr><td>The Field of Swords (Emperor, #3)</td><td>The Field of Swords (Emperor, #3)</td><td>4.26</td></tr>",
                            "<tr><td>The Lord of the Rings Sketchbook</td><td>The Lord of the Rings Sketchbook</td><td>4.26</td></tr>",
                            "<tr><td>The Storyteller</td><td>The Storyteller</td><td>4.26</td></tr>",
                            "<tr><td>Unveiled: Tamar (Lineage of Grace #1)</td><td>Unveiled: Tamar (Lineage of Grace #1)</td><td>4.26</td></tr>",
                            "<tr><td>Very Good Lives: The Fringe Benefits of Failure and the Importance of Imagination</td><td>Very Good Lives: The Fringe Benefits of Failure and the Importance of Imagination</td><td>4.26</td></tr>",
                            "<tr><td>A Bargain for Frances</td><td>A Bargain for Frances</td><td>4.25</td></tr>",
                            "<tr><td>A Color of His Own</td><td>A Color of His Own</td><td>4.25</td></tr>",
                            "<tr><td>A Sick Day for Amos McGee</td><td>A Sick Day for Amos McGee</td><td>4.25</td></tr>",
                            "<tr><td>Anne Frank: Beyond the Diary - A Photographic Remembrance</td><td>Anne Frank: Beyond the Diary - A Photographic Remembrance</td><td>4.25</td></tr>",
                            "<tr><td>Barnyard Dance</td><td>Barnyard Dance</td><td>4.25</td></tr>",
                            "<tr><td>Bear Snores On</td><td>Bear Snores On</td><td>4.25</td></tr>",
                            "<tr><td>Betty Crocker&#39;s Cookbook</td><td>Betty Crocker&#39;s Cookbook</td><td>4.25</td></tr>",
                            "<tr><td>Come Back, Amelia Bedelia</td><td>Come Back, Amelia Bedelia</td><td>4.25</td></tr>",
                            "<tr><td>Cryptonomicon</td><td>Cryptonomicon</td><td>4.25</td></tr>",
                            "<tr><td>Curious George Visits the Library</td><td>Curious George Visits the Library</td><td>4.25</td></tr>",
                            "<tr><td>Foxe&#39;s Book of Martyrs</td><td>Foxe&#39;s Book of Martyrs</td><td>4.25</td></tr>",
                            "<tr><td>Frosty the Snow Man</td><td>Frosty the Snow Man</td><td>4.25</td></tr>",
                            "<tr><td>Good Omens: The Nice and Accurate Prophecies of Agnes Nutter, Witch</td><td>Good Omens: The Nice and Accurate Prophecies of Agnes Nutter, Witch</td><td>4.25</td></tr>",
                            "<tr><td>How I Raised Myself from Failure to Success in Selling</td><td>How I Raised Myself from Failure to Success in Selling</td><td>4.25</td></tr>",
                            "<tr><td>In Harm&#39;s Way: The Sinking of the U.S.S. Indianapolis and the Extraordinary Story of Its Survivors</td><td>In Harm&#39;s Way: The Sinking of the U.S.S. Indianapolis and the Extraordinary Story of Its Survivors</td><td>4.25</td></tr>",
                            "<tr><td>Justice: What&#39;s the Right Thing to Do?</td><td>Justice: What&#39;s the Right Thing to Do?</td><td>4.25</td></tr>",
                            "<tr><td>Little Princes: One Man&#39;s Promise to Bring Home the Lost Children of Nepal</td><td>Little Princes: One Man&#39;s Promise to Bring Home the Lost Children of Nepal</td><td>4.25</td></tr>",
                            "<tr><td>Magician: Master (The Riftwar Saga, #2)</td><td>Magician: Master (The Riftwar Saga, #2)</td><td>4.25</td></tr>",
                            "<tr><td>Mystery Man (Dream Man, #1)</td><td>Mystery Man (Dream Man, #1)</td><td>4.25</td></tr>",
                            "<tr><td>Nicholas and Alexandra</td><td>Nicholas and Alexandra</td><td>4.25</td></tr>",
                            "<tr><td>One Grave at a Time (Night Huntress, #6)</td><td>One Grave at a Time (Night Huntress, #6)</td><td>4.25</td></tr>",
                            "<tr><td>Owen</td><td>Owen</td><td>4.25</td></tr>",
                            "<tr><td>Phantoms in the Brain: Probing the Mysteries of the Human Mind</td><td>Phantoms in the Brain: Probing the Mysteries of the Human Mind</td><td>4.25</td></tr>",
                            "<tr><td>Practicing the Power of Now: Essential Teachings, Meditations, and Exercises from the Power of Now</td><td>Practicing the Power of Now: Essential Teachings, Meditations, and Exercises from The Power of Now</td><td>4.25</td></tr>",
                            "<tr><td>Saving Grace</td><td>Saving Grace</td><td>4.25</td></tr>",
                            "<tr><td>Seeds of Rebellion (Beyonders, #2)</td><td>Seeds of Rebellion (Beyonders, #2)</td><td>4.25</td></tr>",
                            "<tr><td>Skippyjon Jones</td><td>Skippyjon Jones</td><td>4.25</td></tr>",
                            "<tr><td>The Call of Cthulhu and Other Weird Stories</td><td>The Call of Cthulhu and Other Weird Stories</td><td>4.25</td></tr>",
                            "<tr><td>The Collected Poems of W.B. Yeats</td><td>The Collected Poems of W.B. Yeats</td><td>4.25</td></tr>",
                            "<tr><td>The Day of the Jackal</td><td>The Day of the Jackal</td><td>4.25</td></tr>",
                            "<tr><td>The Death of Kings (Emperor, #2)</td><td>The Death of Kings (Emperor, #2)</td><td>4.25</td></tr>",
                            "<tr><td>The Earthsea Trilogy</td><td>The Earthsea Trilogy</td><td>4.25</td></tr>",
                            "<tr><td>The Evolutionary Void</td><td>The Evolutionary Void</td><td>4.25</td></tr>",
                            "<tr><td>The Hat</td><td>The Hat</td><td>4.25</td></tr>",
                            "<tr><td>The Last Lecture</td><td>The Last Lecture</td><td>4.25</td></tr>",
                            "<tr><td>The Little Old Lady Who Was Not Afraid of Anything</td><td>The Little Old Lady Who Was Not Afraid of Anything</td><td>4.25</td></tr>",
                            "<tr><td>The Taste of Home Cookbook</td><td>The Taste of Home Cookbook</td><td>4.25</td></tr>",
                            "<tr><td>There are No Children Here: The Story of Two Boys Growing Up in the Other America</td><td>There Are No Children Here: The Story of Two Boys Growing Up in the Other America</td><td>4.25</td></tr>",
                            "<tr><td>To Kill a Mockingbird</td><td>To Kill a Mockingbird</td><td>4.25</td></tr>",
                            "<tr><td>V for Vendetta</td><td>V for Vendetta</td><td>4.25</td></tr>",
                            "<tr><td>What the Bleep Do We Know!?: Discovering the Endless Possibilities for Altering Your Everyday Reality</td><td>What the Bleep Do We Know!?: Discovering the Endless Possibilities for Altering Your Everyday Reality</td><td>4.25</td></tr>",
                            "<tr><td>A Bad Case of Stripes</td><td>A Bad Case of Stripes</td><td>4.24</td></tr>",
                            "<tr><td>A Bridge Too Far</td><td>A Bridge Too Far</td><td>4.24</td></tr>",
                            "<tr><td>A Leaf on the Wind of All Hallows (Outlander, #8.5)</td><td>A Leaf on the Wind of All Hallows (Outlander, #8.5)</td><td>4.24</td></tr>",
                            "<tr><td>All My Friends Are Dead</td><td>All My Friends Are Dead</td><td>4.24</td></tr>",
                            "<tr><td>Beyond Band of Brothers: The War Memoirs of Major Dick Winters</td><td>Beyond Band of Brothers: The War Memoirs of Major Dick Winters</td><td>4.24</td></tr>",
                            "<tr><td>Change Your Thoughts - Change Your Life: Living the Wisdom of the Tao</td><td>Change Your Thoughts - Change Your Life: Living the Wisdom of the Tao</td><td>4.24</td></tr>",
                            "<tr><td>Creativity, Inc.: Overcoming the Unseen Forces That Stand in the Way of True Inspiration</td><td>Creativity, Inc.: Overcoming the Unseen Forces That Stand in the Way of True Inspiration</td><td>4.24</td></tr>",
                            "<tr><td>Curious George Rides a Bike</td><td>Curious George Rides a Bike</td><td>4.24</td></tr>",
                            "<tr><td>Dispatches</td><td>Dispatches</td><td>4.24</td></tr>",
                            "<tr><td>Dom Casmurro</td><td>Dom Casmurro</td><td>4.24</td></tr>",
                            "<tr><td>Driving Miss Daisy</td><td>Driving Miss Daisy</td><td>4.24</td></tr>",
                            "<tr><td>Each Peach Pear Plum</td><td>Each Peach Pear Plum</td><td>4.24</td></tr>",
                            "<tr><td>Glory over Everything: Beyond The Kitchen House</td><td>Glory over Everything: Beyond The Kitchen House</td><td>4.24</td></tr>",
                            "<tr><td>Harold and the Purple Crayon</td><td>Harold and the Purple Crayon</td><td>4.24</td></tr>",
                            "<tr><td>If You Give a Mouse a Cookie</td><td>If You Give a Mouse a Cookie</td><td>4.24</td></tr>",
                            "<tr><td>Jitterbug Perfume</td><td>Jitterbug Perfume</td><td>4.24</td></tr>",
                            "<tr><td>Just Me in the Tub (Mercer Mayer&#39;s Little Critter)</td><td>Just Me in the Tub (Mercer Mayer&#39;s Little Critter)</td><td>4.24</td></tr>",
                            "<tr><td>Kingdom Come</td><td>Kingdom Come</td><td>4.24</td></tr>",
                            "<tr><td>Madeline&#39;s Rescue</td><td>Madeline&#39;s Rescue</td><td>4.24</td></tr>",
                            "<tr><td>Money, and the Law of Attraction: Learning to Attract Wealth, Health, and Happiness</td><td>Money, and the Law of Attraction: Learning to Attract Wealth, Health, and Happiness</td><td>4.24</td></tr>",
                            "<tr><td>Moneyball: The Art of Winning an Unfair Game</td><td>Moneyball: The Art of Winning an Unfair Game</td><td>4.24</td></tr>",
                            "<tr><td>Once Burned (Night Prince, #1)</td><td>Once Burned (Night Prince, #1)</td><td>4.24</td></tr>",
                            "<tr><td>Pandora&#39;s Star</td><td>Pandora&#39;s Star</td><td>4.24</td></tr>",
                            "<tr><td>Pride and Prejudice</td><td>Pride and Prejudice</td><td>4.24</td></tr>",
                            "<tr><td>Sailing Alone Around the Room: New and Selected Poems</td><td>Sailing Alone Around the Room: New and Selected Poems</td><td>4.24</td></tr>",
                            "<tr><td>Scott Pilgrim, Volume 2: Scott Pilgrim vs. The World</td><td>Scott Pilgrim, Volume 2: Scott Pilgrim vs. The World</td><td>4.24</td></tr>",
                            "<tr><td>Smiley&#39;s People</td><td>Smiley&#39;s People</td><td>4.24</td></tr>",
                            "<tr><td>Sometimes a Great Notion</td><td>Sometimes a Great Notion</td><td>4.24</td></tr>",
                            "<tr><td>The Glass Castle</td><td>The Glass Castle</td><td>4.24</td></tr>",
                            "<tr><td>The Hating Game</td><td>The Hating Game</td><td>4.24</td></tr>",
                            "<tr><td>The Hero With a Thousand Faces</td><td>The Hero with a Thousand Faces</td><td>4.24</td></tr>",
                            "<tr><td>The One and Only Ivan</td><td>The One and Only Ivan</td><td>4.24</td></tr>",
                            "<tr><td>The Orenda</td><td>The Orenda</td><td>4.24</td></tr>",
                            "<tr><td>The River Why</td><td>The River Why</td><td>4.24</td></tr>",
                            "<tr><td>The Souls of Black Folk</td><td>The Souls of Black Folk</td><td>4.24</td></tr>",
                            "<tr><td>The Temporal Void</td><td>The Temporal Void</td><td>4.24</td></tr>",
                            "<tr><td>Where the Mountain Meets the Moon</td><td>Where the Mountain Meets the Moon</td><td>4.24</td></tr>",
                            "<tr><td>A Knight in Shining Armor</td><td>A Knight in Shining Armor</td><td>4.23</td></tr>",
                            "<tr><td>Ariel</td><td>Ariel</td><td>4.23</td></tr>",
                            "<tr><td>Barefoot Contessa Back to Basics</td><td>Barefoot Contessa Back to Basics</td><td>4.23</td></tr>",
                            "<tr><td>Batman: Year One</td><td>Batman: Year One</td><td>4.23</td></tr>",
                            "<tr><td>Bonhoeffer: Pastor, Martyr, Prophet, Spy</td><td>Bonhoeffer: Pastor, Martyr, Prophet, Spy</td><td>4.23</td></tr>",
                            "<tr><td>Click, Clack, Moo: Cows That Type</td><td>Click, Clack, Moo: Cows That Type</td><td>4.23</td></tr>",
                            "<tr><td>Complications: A Surgeon&#39;s Notes on an Imperfect Science</td><td>Complications: A Surgeon&#39;s Notes on an Imperfect Science</td><td>4.23</td></tr>",
                            "<tr><td>If You Give a Pig a Pancake </td><td>If You Give a Pig a Pancake </td><td>4.23</td></tr>",
                            "<tr><td>Memórias Póstumas de Brás Cubas</td><td>Memórias Póstumas de Brás Cubas</td><td>4.23</td></tr>",
                            "<tr><td>On Writing Well: The Classic Guide to Writing Nonfiction</td><td>On Writing Well: The Classic Guide to Writing Nonfiction</td><td>4.23</td></tr>",
                            "<tr><td>Orthodoxy</td><td>Orthodoxy</td><td>4.23</td></tr>",
                            "<tr><td>QED: The Strange Theory of Light and Matter</td><td>QED: The Strange Theory of Light and Matter</td><td>4.23</td></tr>",
                            "<tr><td>Random Family: Love, Drugs, Trouble, and Coming of Age in the Bronx</td><td>Random Family: Love, Drugs, Trouble, and Coming of Age in the Bronx</td><td>4.23</td></tr>",
                            "<tr><td>Savage Inequalities: Children in America&#39;s Schools</td><td>Savage Inequalities: Children in America&#39;s Schools</td><td>4.23</td></tr>",
                            "<tr><td>Snowmen at Night</td><td>Snowmen at Night</td><td>4.23</td></tr>",
                            "<tr><td>Systematic Theology: An Introduction to Biblical Doctrine</td><td>Systematic Theology: An Introduction to Biblical Doctrine</td><td>4.23</td></tr>",
                            "<tr><td>The Caine Mutiny</td><td>The Caine Mutiny</td><td>4.23</td></tr>",
                            "<tr><td>The Complete Adventures of Curious George</td><td>The Complete Adventures of Curious George</td><td>4.23</td></tr>",
                            "<tr><td>The Five Love Languages: How to Express Heartfelt Commitment to Your Mate</td><td>The Five Love Languages: How to Express Heartfelt Commitment to Your Mate</td><td>4.23</td></tr>",
                            "<tr><td>The Invention of Hugo Cabret</td><td>The Invention of Hugo Cabret</td><td>4.23</td></tr>",
                            "<tr><td>The Invention of Wings</td><td>The Invention of Wings</td><td>4.23</td></tr>",
                            "<tr><td>The Jordan Rules</td><td>The Jordan Rules</td><td>4.23</td></tr>",
                            "<tr><td>The Ragamuffin Gospel: Good News for the Bedraggled, Beat-Up, and Burnt Out</td><td>The Ragamuffin Gospel: Good News for the Bedraggled, Beat-Up, and Burnt Out</td><td>4.23</td></tr>",
                            "<tr><td>The Right Stuff</td><td>The Right Stuff</td><td>4.23</td></tr>",
                            "<tr><td>The Tiger Who Came to Tea</td><td>The Tiger Who Came to Tea</td><td>4.23</td></tr>",
                            "<tr><td>The Vampire Prince (Cirque Du Freak, #6)</td><td>The Vampire Prince (Cirque Du Freak, #6)</td><td>4.23</td></tr>",
                            "<tr><td>The Walking Dead, Vol. 13: Too Far Gone</td><td>The Walking Dead, Vol. 13: Too Far Gone</td><td>4.23</td></tr>",
                            "<tr><td>The Waste Land and Other Poems</td><td>The Waste Land and Other Poems</td><td>4.23</td></tr>",
                            "<tr><td>This is Not My Hat</td><td>This is Not My Hat</td><td>4.23</td></tr>",
                            "<tr><td>Twilight: The Complete Illustrated Movie Companion</td><td>Twilight: The Complete Illustrated Movie Companion</td><td>4.23</td></tr>",
                            "<tr><td>When Crickets Cry</td><td>When Crickets Cry</td><td>4.23</td></tr>",
                            "<tr><td>Wild Swans: Three Daughters of China</td><td>Wild Swans: Three Daughters of China</td><td>4.23</td></tr>",
                            "<tr><td>A Different Blue</td><td>A Different Blue</td><td>4.22</td></tr>",
                            "<tr><td>A Mango-Shaped Space</td><td>A Mango-Shaped Space</td><td>4.22</td></tr>",
                            "<tr><td>A Prayer for Owen Meany</td><td>A Prayer for Owen Meany</td><td>4.22</td></tr>",
                            "<tr><td>Alexander and the Terrible, Horrible, No Good, Very Bad Day</td><td>Alexander and the Terrible, Horrible, No Good, Very Bad Day</td><td>4.22</td></tr>",
                            "<tr><td>America&#39;s First Daughter</td><td>America&#39;s First Daughter</td><td>4.22</td></tr>",
                            "<tr><td>Autobiography of a Yogi</td><td>Autobiography of a Yogi</td><td>4.22</td></tr>",
                            "<tr><td>Barbarians at the Gate: The Fall of RJR Nabisco</td><td>Barbarians at the Gate: The Fall of RJR Nabisco</td><td>4.22</td></tr>",
                            "<tr><td>Bird by Bird: Some Instructions on Writing and Life</td><td>Bird by Bird: Some Instructions on Writing and Life</td><td>4.22</td></tr>",
                            "<tr><td>Cinderella</td><td>Cinderella</td><td>4.22</td></tr>",
                            "<tr><td>CivilWarLand in Bad Decline</td><td>CivilWarLand in Bad Decline</td><td>4.22</td></tr>",
                            "<tr><td>Curious George Goes to the Hospital</td><td>Curious George Goes to the Hospital</td><td>4.22</td></tr>",
                            "<tr><td>David Gets In Trouble</td><td>David Gets in Trouble</td><td>4.22</td></tr>",
                            "<tr><td>Desert Solitaire</td><td>Desert Solitaire</td><td>4.22</td></tr>",
                            "<tr><td>Do No Harm: Stories of Life, Death and Brain Surgery</td><td>Do No Harm: Stories of Life, Death and Brain Surgery</td><td>4.22</td></tr>",
                            "<tr><td>Dragon Slippers (Dragon Slippers, #1)</td><td>Dragon Slippers (Dragon Slippers, #1)</td><td>4.22</td></tr>",
                            "<tr><td>Fermat&#39;s Enigma: The Epic Quest to Solve the World&#39;s Greatest Mathematical Problem</td><td>Fermat&#39;s Enigma: The Epic Quest to Solve the World&#39;s Greatest Mathematical Problem</td><td>4.22</td></tr>",
                            "<tr><td>Hand, Hand, Fingers, Thumb</td><td>Hand, Hand, Fingers, Thumb</td><td>4.22</td></tr>",
                            "<tr><td>Honor&#39;s Splendour</td><td>Honor&#39;s Splendour</td><td>4.22</td></tr>",
                            "<tr><td>Just Go to Bed</td><td>Just Go to Bed</td><td>4.22</td></tr>",
                            "<tr><td>Killers of the Dawn (Cirque Du Freak, #9)</td><td>Killers of the Dawn (Cirque Du Freak, #9)</td><td>4.22</td></tr>",
                            "<tr><td>Little Bear</td><td>Little Bear</td><td>4.22</td></tr>",
                            "<tr><td>Lord of the Shadows (Cirque Du Freak, #11)</td><td>Lord of the Shadows (Cirque Du Freak, #11)</td><td>4.22</td></tr>",
                            "<tr><td>Love Comes Softly (Love Comes Softly, #1)</td><td>Love Comes Softly (Love Comes Softly, #1)</td><td>4.22</td></tr>",
                            "<tr><td>Manufacturing Consent: The Political Economy of the Mass Media</td><td>Manufacturing Consent: The Political Economy of the Mass Media</td><td>4.22</td></tr>",
                            "<tr><td>Marching Powder: A True Story of Friendship, Cocaine, and South America&#39;s Strangest Jail</td><td>Marching Powder: A True Story of Friendship, Cocaine, and South America&#39;s Strangest Jail</td><td>4.22</td></tr>",
                            "<tr><td>Punk 57</td><td>Punk 57</td><td>4.22</td></tr>",
                            "<tr><td>Rome (Marked Men, #3)</td><td>Rome (Marked Men, #3)</td><td>4.22</td></tr>",
                            "<tr><td>Selected Poems</td><td>Selected Poems</td><td>4.22</td></tr>",
                            "<tr><td>Stellaluna</td><td>Stellaluna</td><td>4.22</td></tr>",
                            "<tr><td>Stephen King&#39;s N.</td><td>Stephen King&#39;s N.</td><td>4.22</td></tr>",
                            "<tr><td>Strega Nona</td><td>Strega Nona</td><td>4.22</td></tr>",
                            "<tr><td>The BFG</td><td>The BFG</td><td>4.22</td></tr>",
                            "<tr><td>The Crossover</td><td>The Crossover</td><td>4.22</td></tr>",
                            "<tr><td>The Gift of Therapy: An Open Letter to a New Generation of Therapists and Their Patients</td><td>The Gift of Therapy: An Open Letter to a New Generation of Therapists and Their Patients</td><td>4.22</td></tr>",
                            "<tr><td>The Going-To-Bed Book</td><td>The Going-To-Bed Book</td><td>4.22</td></tr>",
                            "<tr><td>The Lions of Little Rock</td><td>The Lions of Little Rock</td><td>4.22</td></tr>",
                            "<tr><td>The Phantom Tollbooth</td><td>The Phantom Tollbooth</td><td>4.22</td></tr>",
                            "<tr><td>The Prince of Tides</td><td>The Prince of Tides</td><td>4.22</td></tr>",
                            "<tr><td>The Prize</td><td>The Prize</td><td>4.22</td></tr>",
                            "<tr><td>The Prophet</td><td>The Prophet</td><td>4.22</td></tr>",
                            "<tr><td>The Recruit (Cherub, #1)</td><td>The Recruit (Cherub, #1)</td><td>4.22</td></tr>",
                            "<tr><td>The Shock Doctrine: The Rise of Disaster Capitalism</td><td>The Shock Doctrine: The Rise of Disaster Capitalism</td><td>4.22</td></tr>",
                            "<tr><td>The Tell-Tale Heart</td><td>The Tell-Tale Heart</td><td>4.22</td></tr>",
                            "<tr><td>The Thorn Birds</td><td>The Thorn Birds</td><td>4.22</td></tr>",
                            "<tr><td>The Tibetan Book of Living and Dying</td><td>The Tibetan Book of Living and Dying</td><td>4.22</td></tr>",
                            "<tr><td>The Unlikely Spy</td><td>The Unlikely Spy</td><td>4.22</td></tr>",
                            "<tr><td>Wait for It</td><td>Wait for It</td><td>4.22</td></tr>",
                            "<tr><td>War</td><td>WAR</td><td>4.22</td></tr>",
                            "<tr><td>Wemberly Worried</td><td>Wemberly Worried</td><td>4.22</td></tr>",
                            "<tr><td>Where Is God When It Hurts?</td><td>Where Is God When It Hurts?</td><td>4.22</td></tr>",
                            "<tr><td>Where the Wild Things Are</td><td>Where the Wild Things Are</td><td>4.22</td></tr>",
                            "<tr><td>Wild Seed (Patternmaster, #1)</td><td>Wild Seed (Patternmaster, #1)</td><td>4.22</td></tr>",
                            "<tr><td>A Fish Out of Water</td><td>A Fish Out of Water</td><td>4.21</td></tr>",
                            "<tr><td>Bury My Heart at Wounded Knee: An Indian History of the American West</td><td>Bury My Heart at Wounded Knee: An Indian History of the American West</td><td>4.21</td></tr>",
                            "<tr><td>Calling Me Home</td><td>Calling Me Home</td><td>4.21</td></tr>",
                            "<tr><td>Centennial</td><td>Centennial</td><td>4.21</td></tr>",
                            "<tr><td>Chicka Chicka Boom Boom</td><td>Chicka Chicka Boom Boom</td><td>4.21</td></tr>",
                            "<tr><td>Disappearing Acts</td><td>Disappearing Acts</td><td>4.21</td></tr>",
                            "<tr><td>Envy (Fallen Angels, #3)</td><td>Envy (Fallen Angels, #3)</td><td>4.21</td></tr>",
                            "<tr><td>Follow the River</td><td>Follow the River</td><td>4.21</td></tr>",
                            "<tr><td>Friends and Lovers</td><td>Friends and Lovers</td><td>4.21</td></tr>",
                            "<tr><td>Gifted Hands: The Ben Carson Story</td><td>Gifted Hands: The Ben Carson Story</td><td>4.21</td></tr>",
                            "<tr><td>Giovanni&#39;s Room</td><td>Giovanni&#39;s Room</td><td>4.21</td></tr>",
                            "<tr><td>Go Away, Big Green Monster!</td><td>Go Away, Big Green Monster!</td><td>4.21</td></tr>",
                            "<tr><td>I&#39;m Just Here for the Food: Food + Heat = Cooking</td><td>I&#39;m Just Here for the Food: Food + Heat = Cooking</td><td>4.21</td></tr>",
                            "<tr><td>Make Way for Ducklings</td><td>Make Way for Ducklings</td><td>4.21</td></tr>",
                            "<tr><td>Marvels</td><td>Marvels</td><td>4.21</td></tr>",
                            "<tr><td>Mother Night</td><td>Mother Night</td><td>4.21</td></tr>",
                            "<tr><td>Mountains Beyond Mountains: The Quest of Dr. Paul Farmer, A Man Who Would Cure the World</td><td>Mountains Beyond Mountains: The Quest of Dr. Paul Farmer, a Man Who Would Cure the World</td><td>4.21</td></tr>",
                            "<tr><td>Panda Bear, Panda Bear, What Do You See?</td><td>Panda Bear, Panda Bear, What Do You See?</td><td>4.21</td></tr>",
                            "<tr><td>Planetary, Volume 1: All Over the World and Other Stories</td><td>Planetary, Volume 1: All Over the World and Other Stories</td><td>4.21</td></tr>",
                            "<tr><td>Run Baby Run</td><td>Run Baby Run</td><td>4.21</td></tr>",
                            "<tr><td>Same Kind of Different as Me</td><td>Same Kind of Different as Me</td><td>4.21</td></tr>",
                            "<tr><td>The Barefoot Contessa Cookbook</td><td>The Barefoot Contessa Cookbook</td><td>4.21</td></tr>",
                            "<tr><td>The Complete Poems of Emily Dickinson</td><td>The Complete Poems of Emily Dickinson</td><td>4.21</td></tr>",
                            "<tr><td>The End of Eternity</td><td>The End of Eternity</td><td>4.21</td></tr>",
                            "<tr><td>The Five Love Languages of Children</td><td>The Five Love Languages of Children</td><td>4.21</td></tr>",
                            "<tr><td>The Heretic Queen</td><td>The Heretic Queen</td><td>4.21</td></tr>",
                            "<tr><td>The Little Red Caboose (Little Golden Book)</td><td>The Little Red Caboose (Little Golden Book)</td><td>4.21</td></tr>",
                            "<tr><td>The Miracle Worker</td><td>The Miracle Worker</td><td>4.21</td></tr>",
                            "<tr><td>The Mixed-Up Chameleon</td><td>The Mixed-Up Chameleon</td><td>4.21</td></tr>",
                            "<tr><td>The Perks of Being a Wallflower</td><td>The Perks of Being a Wallflower</td><td>4.21</td></tr>",
                            "<tr><td>The Wishing Spell (The Land of Stories, #1)</td><td>The Wishing Spell (The Land of Stories, #1)</td><td>4.21</td></tr>",
                            "<tr><td>Tikki Tikki Tembo</td><td>Tikki Tikki Tembo</td><td>4.21</td></tr>",
                            "<tr><td>Unlimited Power : The New Science Of Personal Achievement</td><td>Unlimited Power : The New Science Of Personal Achievement</td><td>4.21</td></tr>",
                            "<tr><td>What&#39;s So Amazing About Grace?</td><td>What&#39;s So Amazing About Grace?</td><td>4.21</td></tr>",
                            "<tr><td>Wolf-Speaker (Immortals, #2)</td><td>Wolf-Speaker (Immortals, #2)</td><td>4.21</td></tr>",
                            "<tr><td>استمتع بحياتك</td><td>استمتع بحياتك</td><td>4.21</td></tr>",
                            "<tr><td>المانيفستو</td><td>المانيفستو</td><td>4.21</td></tr>",
                            "<tr><td>2666</td><td>2666</td><td>4.2</td></tr>",
                            "<tr><td>A House in the Sky</td><td>A House in the Sky</td><td>4.2</td></tr>",
                            "<tr><td>A Little Princess</td><td>A Little Princess</td><td>4.2</td></tr>",
                            "<tr><td>ABNKKBSNPLAKo?! (Mga Kwentong Chalk ni Bob Ong)</td><td>ABNKKBSNPLAKo?! (Mga Kwentong Chalk ni Bob Ong)</td><td>4.2</td></tr>",
                            "<tr><td>Amadeus</td><td>Amadeus</td><td>4.2</td></tr>",
                            "<tr><td>August: Osage County</td><td>August: Osage County</td><td>4.2</td></tr>",
                            "<tr><td>Big Little Lies</td><td>Big Little Lies</td><td>4.2</td></tr>",
                            "<tr><td>Bread and Jam for Frances</td><td>Bread and Jam for Frances</td><td>4.2</td></tr>",
                            "<tr><td>Christy</td><td>Christy</td><td>4.2</td></tr>",
                            "<tr><td>Collected Poems</td><td>Collected Poems</td><td>4.2</td></tr>",
                            "<tr><td>Eragon, Eldest &amp; Brisingr (Inheritance, #1-3)</td><td>Eragon, Eldest &amp; Brisingr (Inheritance, #1-3)</td><td>4.2</td></tr>",
                            "<tr><td>Every Last Word</td><td>Every Last Word</td><td>4.2</td></tr>",
                            "<tr><td>Fight Club</td><td>Fight Club</td><td>4.2</td></tr>",
                            "<tr><td>Good Night, Gorilla</td><td>Good Night, Gorilla</td><td>4.2</td></tr>",
                            "<tr><td>Hafalan Shalat Delisa</td><td>Hafalan Shalat Delisa</td><td>4.2</td></tr>",
                            "<tr><td>If You Give a Cat a Cupcake</td><td>If You Give a Cat a Cupcake</td><td>4.2</td></tr>",
                            "<tr><td>Infidel</td><td>Infidel</td><td>4.2</td></tr>",
                            "<tr><td>Jaya: An Illustrated Retelling of the Mahabharata</td><td>Jaya: An Illustrated Retelling of the Mahabharata</td><td>4.2</td></tr>",
                            "<tr><td>Lilly&#39;s Purple Plastic Purse</td><td>Lilly&#39;s Purple Plastic Purse</td><td>4.2</td></tr>",
                            "<tr><td>Malcolm X: A Life of Reinvention</td><td>Malcolm X: A Life of Reinvention</td><td>4.2</td></tr>",
                            "<tr><td>Malgudi Days</td><td>Malgudi Days</td><td>4.2</td></tr>",
                            "<tr><td>Mike Mulligan and His Steam Shovel</td><td>Mike Mulligan and His Steam Shovel</td><td>4.2</td></tr>",
                            "<tr><td>Nimona</td><td>Nimona</td><td>4.2</td></tr>",
                            "<tr><td>No Ordinary Time: Franklin and Eleanor Roosevelt: The Home Front in World War II</td><td>No Ordinary Time: Franklin and Eleanor Roosevelt: The Home Front in World War II</td><td>4.2</td></tr>",
                            "<tr><td>Oscar et la dame rose</td><td>Oscar et la dame rose</td><td>4.2</td></tr>",
                            "<tr><td>Our Band Could Be Your Life: Scenes from the American Indie Underground 1981-1991</td><td>Our Band Could Be Your Life: Scenes from the American Indie Underground 1981-1991</td><td>4.2</td></tr>",
                            "<tr><td>Owl Moon</td><td>Owl Moon</td><td>4.2</td></tr>",
                            "<tr><td>Palestine</td><td>Palestine</td><td>4.2</td></tr>",
                            "<tr><td>Rebecca</td><td>Rebecca</td><td>4.2</td></tr>",
                            "<tr><td>Romancing Mister Bridgerton (Bridgertons, #4)</td><td>Romancing Mister Bridgerton (Bridgertons, #4)</td><td>4.2</td></tr>",
                            "<tr><td>Small Sacrifices: A True Story of Passion and Murder</td><td>Small Sacrifices: A True Story of Passion and Murder</td><td>4.2</td></tr>",
                            "<tr><td>The Bane Chronicles</td><td>The Bane Chronicles</td><td>4.2</td></tr>",
                            "<tr><td>The Brain That Changes Itself: Stories of Personal Triumph from the Frontiers of Brain Science</td><td>The Brain That Changes Itself: Stories of Personal Triumph from the Frontiers of Brain Science</td><td>4.2</td></tr>",
                            "<tr><td>The Cake Bible</td><td>The Cake Bible</td><td>4.2</td></tr>",
                            "<tr><td>The Case of Charles Dexter Ward</td><td>The Case of Charles Dexter Ward</td><td>4.2</td></tr>",
                            "<tr><td>The Case-Book of Sherlock Holmes</td><td>The Case-Book of Sherlock Holmes</td><td>4.2</td></tr>",
                            "<tr><td>The Collected Poems</td><td>The Collected Poems</td><td>4.2</td></tr>",
                            "<tr><td>The Cross and the Switchblade</td><td>The Cross and the Switchblade</td><td>4.2</td></tr>",
                            "<tr><td>The Far Pavilions</td><td>The Far Pavilions</td><td>4.2</td></tr>",
                            "<tr><td>The Hard Thing About Hard Things: Building a Business When There Are No Easy Answers</td><td>The Hard Thing about Hard Things: Building A Business When There Are No Easy Answers</td><td>4.2</td></tr>",
                            "<tr><td>The Little Red Hen (Little Golden Book)</td><td>The Little Red Hen (Little Golden Book)</td><td>4.2</td></tr>",
                            "<tr><td>The Lost Wife</td><td>The Lost Wife</td><td>4.2</td></tr>",
                            "<tr><td>The Reason for God: Belief in an Age of Skepticism</td><td>The Reason for God: Belief in an Age of Skepticism</td><td>4.2</td></tr>",
                            "<tr><td>The Relatives Came</td><td>The Relatives Came</td><td>4.2</td></tr>",
                            "<tr><td>The Robe</td><td>The Robe</td><td>4.2</td></tr>",
                            "<tr><td>The Stinky Cheese Man and Other Fairly Stupid Tales</td><td>The Stinky Cheese Man and Other Fairly Stupid Tales</td><td>4.2</td></tr>",
                            "<tr><td>There Was an Old Lady Who Swallowed a Fly</td><td>There Was an Old Lady Who Swallowed a Fly</td><td>4.2</td></tr>",
                            "<tr><td>Tilt</td><td>Tilt</td><td>4.2</td></tr>",
                            "<tr><td>Touching the Void: The True Story of One Man&#39;s Miraculous Survival</td><td>Touching the Void: The True Story of One Man&#39;s Miraculous Survival</td><td>4.2</td></tr>",
                            "<tr><td>Zami: A New Spelling of My Name</td><td>Zami: A New Spelling of My Name</td><td>4.2</td></tr>",
                            "</table>"
                        ]
                    }
                }
            ],
            "execution_count": 8
        },
        {
            "cell_type": "markdown",
            "source": [
                "## QUESTION 4:  Thisbe\n",
                "\n",
                "Thisbe is planning to make a long-term display of popular books that she will update monthly, reflecting different time periods.  She wants to make it reader-centric by including titles that readers have averagely rated higher than the book's actual average rating. \n",
                "\n",
                "**Part A:**   Write a query that compares the publication time with average reader ratings.\n",
                "\n",
                "**Part B:**  She wants the list ordered by year, then the book title"
            ],
            "metadata": {
                "azdata_cell_guid": "c3cb4fa8-802c-4130-8740-2adf20ec6a15"
            },
            "attachments": {}
        },
        {
            "cell_type": "code",
            "source": [
                "-- Code here:\n",
                "SELECT original_publication_year, average_rating, title FROM BooksDB.dbo.books AS b \n",
                "WHERE average_rating < (SELECT AVG(rating) FROM BooksDB.dbo.ratings AS r WHERE r.book_id=b.book_id)\n",
                "ORDER BY original_publication_year, title"
            ],
            "metadata": {
                "azdata_cell_guid": "164e0a22-349f-45ed-afe8-0753d5a8c6fc",
                "tags": [],
                "language": "sql"
            },
            "outputs": [
                {
                    "output_type": "display_data",
                    "data": {
                        "text/html": "(178 rows affected)"
                    },
                    "metadata": {}
                },
                {
                    "output_type": "display_data",
                    "data": {
                        "text/html": "Total execution time: 00:00:00.986"
                    },
                    "metadata": {}
                },
                {
                    "output_type": "execute_result",
                    "metadata": {},
                    "execution_count": 12,
                    "data": {
                        "application/vnd.dataresource+json": {
                            "schema": {
                                "fields": [
                                    {
                                        "name": "original_publication_year"
                                    },
                                    {
                                        "name": "average_rating"
                                    },
                                    {
                                        "name": "title"
                                    }
                                ]
                            },
                            "data": [
                                {
                                    "original_publication_year": "-750",
                                    "average_rating": "3.83",
                                    "title": "The Iliad"
                                },
                                {
                                    "original_publication_year": "-458",
                                    "average_rating": "3.99",
                                    "title": "The Oresteia  (Ορέστεια, #1-3)"
                                },
                                {
                                    "original_publication_year": "-441",
                                    "average_rating": "3.6",
                                    "title": "Antigone (The Theban Plays, #3)"
                                },
                                {
                                    "original_publication_year": "-430",
                                    "average_rating": "3.67",
                                    "title": "Oedipus Rex  (The Theban Plays, #1)"
                                },
                                {
                                    "original_publication_year": "-411",
                                    "average_rating": "3.84",
                                    "title": "Lysistrata"
                                },
                                {
                                    "original_publication_year": "1390",
                                    "average_rating": "3.48",
                                    "title": "The Canterbury Tales"
                                },
                                {
                                    "original_publication_year": "1605",
                                    "average_rating": "3.85",
                                    "title": "Don Quixote"
                                },
                                {
                                    "original_publication_year": "1606",
                                    "average_rating": "3.88",
                                    "title": "Macbeth"
                                },
                                {
                                    "original_publication_year": "1726",
                                    "average_rating": "3.55",
                                    "title": "Gulliver's Travels"
                                },
                                {
                                    "original_publication_year": "1847",
                                    "average_rating": "3.82",
                                    "title": "Wuthering Heights"
                                },
                                {
                                    "original_publication_year": "1848",
                                    "average_rating": "3.97",
                                    "title": "La Dame aux Camélias"
                                },
                                {
                                    "original_publication_year": "1854",
                                    "average_rating": "3.5",
                                    "title": "Hard Times"
                                },
                                {
                                    "original_publication_year": "1856",
                                    "average_rating": "3.64",
                                    "title": "Madame Bovary"
                                },
                                {
                                    "original_publication_year": "1860",
                                    "average_rating": "3.75",
                                    "title": "Great Expectations"
                                },
                                {
                                    "original_publication_year": "1880",
                                    "average_rating": "3.97",
                                    "title": "Heidi"
                                },
                                {
                                    "original_publication_year": "1882",
                                    "average_rating": "3.82",
                                    "title": "Treasure Island"
                                },
                                {
                                    "original_publication_year": "1884",
                                    "average_rating": "3.8",
                                    "title": "The Adventures of Huckleberry Finn"
                                },
                                {
                                    "original_publication_year": "1889",
                                    "average_rating": "3.9",
                                    "title": "Three Men in a Boat (Three Men, #1)"
                                },
                                {
                                    "original_publication_year": "1895",
                                    "average_rating": "3.87",
                                    "title": "The Time Machine"
                                },
                                {
                                    "original_publication_year": "1897",
                                    "average_rating": "3.8",
                                    "title": "The War of the Worlds"
                                },
                                {
                                    "original_publication_year": "1908",
                                    "average_rating": "3.98",
                                    "title": "The Wind in the Willows"
                                },
                                {
                                    "original_publication_year": "1912",
                                    "average_rating": "3.9",
                                    "title": "Pygmalion"
                                },
                                {
                                    "original_publication_year": "1912",
                                    "average_rating": "3.93",
                                    "title": "The Broken Wings"
                                },
                                {
                                    "original_publication_year": "1920",
                                    "average_rating": "3.66",
                                    "title": "Women in Love (Brangwen Family, #2)"
                                },
                                {
                                    "original_publication_year": "1922",
                                    "average_rating": "3.75",
                                    "title": "The Beautiful and Damned"
                                },
                                {
                                    "original_publication_year": "1932",
                                    "average_rating": "3.97",
                                    "title": "Brave New World"
                                },
                                {
                                    "original_publication_year": "1933",
                                    "average_rating": "3.9",
                                    "title": "Lost Horizon"
                                },
                                {
                                    "original_publication_year": "1933",
                                    "average_rating": "3.42",
                                    "title": "The Red Pony"
                                },
                                {
                                    "original_publication_year": "1934",
                                    "average_rating": "3.84",
                                    "title": "Burmese Days"
                                },
                                {
                                    "original_publication_year": "1937",
                                    "average_rating": "3.84",
                                    "title": "Of Mice and Men"
                                },
                                {
                                    "original_publication_year": "1938",
                                    "average_rating": "3.85",
                                    "title": "Tropic of Capricorn"
                                },
                                {
                                    "original_publication_year": "1940",
                                    "average_rating": "3.99",
                                    "title": "The Power and the Glory"
                                },
                                {
                                    "original_publication_year": "1945",
                                    "average_rating": "3.87",
                                    "title": "Animal Farm"
                                },
                                {
                                    "original_publication_year": "1948",
                                    "average_rating": "3.98",
                                    "title": "The Heart of the Matter"
                                },
                                {
                                    "original_publication_year": "1952",
                                    "average_rating": "3.85",
                                    "title": "Player Piano"
                                },
                                {
                                    "original_publication_year": "1953",
                                    "average_rating": "3.97",
                                    "title": "Fahrenheit 451"
                                },
                                {
                                    "original_publication_year": "1953",
                                    "average_rating": "3.88",
                                    "title": "The First Four Years  (Little House, #9)"
                                },
                                {
                                    "original_publication_year": "1955",
                                    "average_rating": "3.96",
                                    "title": "The Quiet American"
                                },
                                {
                                    "original_publication_year": "1957",
                                    "average_rating": "3.68",
                                    "title": "Atlas Shrugged"
                                },
                                {
                                    "original_publication_year": "1958",
                                    "average_rating": "3.93",
                                    "title": "Brave New World Revisited "
                                },
                                {
                                    "original_publication_year": "1959",
                                    "average_rating": "3.8",
                                    "title": "Goldfinger (James Bond, #7)"
                                },
                                {
                                    "original_publication_year": "1961",
                                    "average_rating": "3.82",
                                    "title": "A House for Mr Biswas"
                                },
                                {
                                    "original_publication_year": "1961",
                                    "average_rating": "3.98",
                                    "title": "Franny and Zooey"
                                },
                                {
                                    "original_publication_year": "1961",
                                    "average_rating": "3.99",
                                    "title": "James and the Giant Peach"
                                },
                                {
                                    "original_publication_year": "1961",
                                    "average_rating": "3.47",
                                    "title": "The Virtue of Selfishness: A New Concept of Egoism"
                                },
                                {
                                    "original_publication_year": "1961",
                                    "average_rating": "3.99",
                                    "title": "The Winter of Our Discontent"
                                },
                                {
                                    "original_publication_year": "1962",
                                    "average_rating": "3.91",
                                    "title": "The Woman in the Dunes"
                                },
                                {
                                    "original_publication_year": "1963",
                                    "average_rating": "3.98",
                                    "title": "The Bell Jar"
                                },
                                {
                                    "original_publication_year": "1966",
                                    "average_rating": "3.7",
                                    "title": "The Crying of Lot 49"
                                },
                                {
                                    "original_publication_year": "1971",
                                    "average_rating": "3.97",
                                    "title": "Another Roadside Attraction"
                                },
                                {
                                    "original_publication_year": "1972",
                                    "average_rating": "3.34",
                                    "title": "The Terminal Man"
                                },
                                {
                                    "original_publication_year": "1974",
                                    "average_rating": "3.22",
                                    "title": "The 158-Pound Marriage"
                                },
                                {
                                    "original_publication_year": "1975",
                                    "average_rating": "3.85",
                                    "title": "A History of God: The 4,000-Year Quest of Judaism, Christianity, and Islam"
                                },
                                {
                                    "original_publication_year": "1976",
                                    "average_rating": "3.9",
                                    "title": "Children of Dune (Dune Chronicles #3)"
                                },
                                {
                                    "original_publication_year": "1980",
                                    "average_rating": "3.55",
                                    "title": "Congo"
                                },
                                {
                                    "original_publication_year": "1982",
                                    "average_rating": "3.8",
                                    "title": "Deadeye Dick"
                                },
                                {
                                    "original_publication_year": "1983",
                                    "average_rating": "3.85",
                                    "title": "Life and Times of Michael K"
                                },
                                {
                                    "original_publication_year": "1984",
                                    "average_rating": "3.83",
                                    "title": "Heretics of Dune (Dune Chronicles #5)"
                                },
                                {
                                    "original_publication_year": "1985",
                                    "average_rating": "3.81",
                                    "title": "City of Glass (The New York Trilogy, #1)"
                                },
                                {
                                    "original_publication_year": "1985",
                                    "average_rating": "3.89",
                                    "title": "Love in the Time of Cholera"
                                },
                                {
                                    "original_publication_year": "1986",
                                    "average_rating": "3.68",
                                    "title": "Hatchet (Brian's Saga, #1)"
                                },
                                {
                                    "original_publication_year": "1987",
                                    "average_rating": "3.77",
                                    "title": "Beloved"
                                },
                                {
                                    "original_publication_year": "1987",
                                    "average_rating": "3.97",
                                    "title": "Dirk Gently's Holistic Detective Agency (Dirk Gently #1)"
                                },
                                {
                                    "original_publication_year": "1987",
                                    "average_rating": "3.88",
                                    "title": "In the Skin of a Lion"
                                },
                                {
                                    "original_publication_year": "1987",
                                    "average_rating": "3.64",
                                    "title": "The Pilgrimage"
                                },
                                {
                                    "original_publication_year": "1987",
                                    "average_rating": "3.71",
                                    "title": "The Rules of Attraction"
                                },
                                {
                                    "original_publication_year": "1988",
                                    "average_rating": "3.82",
                                    "title": "The Book of Ruth"
                                },
                                {
                                    "original_publication_year": "1988",
                                    "average_rating": "3.3",
                                    "title": "The Valkyries"
                                },
                                {
                                    "original_publication_year": "1989",
                                    "average_rating": "3.86",
                                    "title": "What to Expect the First Year (What to Expect)"
                                },
                                {
                                    "original_publication_year": "1990",
                                    "average_rating": "3.81",
                                    "title": "Hocus Pocus"
                                },
                                {
                                    "original_publication_year": "1990",
                                    "average_rating": "3.96",
                                    "title": "Jurassic Park (Jurassic Park, #1)"
                                },
                                {
                                    "original_publication_year": "1990",
                                    "average_rating": "3.95",
                                    "title": "The Mother Tongue: English and How It Got That Way"
                                },
                                {
                                    "original_publication_year": "1991",
                                    "average_rating": "3.73",
                                    "title": "Generation X: Tales for an Accelerated Culture"
                                },
                                {
                                    "original_publication_year": "1991",
                                    "average_rating": "3.64",
                                    "title": "Jewel"
                                },
                                {
                                    "original_publication_year": "1991",
                                    "average_rating": "3.96",
                                    "title": "Mariel of Redwall (Redwall, #4)"
                                },
                                {
                                    "original_publication_year": "1991",
                                    "average_rating": "3.88",
                                    "title": "Neither Here nor There: Travels in Europe"
                                },
                                {
                                    "original_publication_year": "1991",
                                    "average_rating": "3.78",
                                    "title": "Night Over Water"
                                },
                                {
                                    "original_publication_year": "1991",
                                    "average_rating": "3.77",
                                    "title": "Xenocide (Ender's Saga, #3)"
                                },
                                {
                                    "original_publication_year": "1992",
                                    "average_rating": "3.78",
                                    "title": "A Map of the World"
                                },
                                {
                                    "original_publication_year": "1992",
                                    "average_rating": "3.95",
                                    "title": "Leviathan"
                                },
                                {
                                    "original_publication_year": "1992",
                                    "average_rating": "3.55",
                                    "title": "Little Altars Everywhere"
                                },
                                {
                                    "original_publication_year": "1992",
                                    "average_rating": "3.92",
                                    "title": "Prophet"
                                },
                                {
                                    "original_publication_year": "1993",
                                    "average_rating": "3.88",
                                    "title": "Deerskin"
                                },
                                {
                                    "original_publication_year": "1993",
                                    "average_rating": "3.97",
                                    "title": "The Client"
                                },
                                {
                                    "original_publication_year": "1994",
                                    "average_rating": "3.61",
                                    "title": "A Son of the Circus"
                                },
                                {
                                    "original_publication_year": "1994",
                                    "average_rating": "3.98",
                                    "title": "Built to Last: Successful Habits of Visionary Companies"
                                },
                                {
                                    "original_publication_year": "1994",
                                    "average_rating": "3.78",
                                    "title": "In the Lake of the Woods"
                                },
                                {
                                    "original_publication_year": "1994",
                                    "average_rating": "3.95",
                                    "title": "The Bellmaker (Redwall, #7)"
                                },
                                {
                                    "original_publication_year": "1995",
                                    "average_rating": "3.95",
                                    "title": "Longitude: The True Story of a Lone Genius Who Solved the Greatest Scientific Problem of His Time"
                                },
                                {
                                    "original_publication_year": "1995",
                                    "average_rating": "3.98",
                                    "title": "Reservation Blues"
                                },
                                {
                                    "original_publication_year": "1995",
                                    "average_rating": "3.68",
                                    "title": "Songs in Ordinary Time"
                                },
                                {
                                    "original_publication_year": "1995",
                                    "average_rating": "3.72",
                                    "title": "The Lost World (Jurassic Park, #2)"
                                },
                                {
                                    "original_publication_year": "1995",
                                    "average_rating": "3.92",
                                    "title": "The Moor's Last Sigh"
                                },
                                {
                                    "original_publication_year": "1995",
                                    "average_rating": "3.8",
                                    "title": "The Rapture of Canaan"
                                },
                                {
                                    "original_publication_year": "1996",
                                    "average_rating": "3.93",
                                    "title": "Cause of Death (Kay Scarpetta, #7)"
                                },
                                {
                                    "original_publication_year": "1996",
                                    "average_rating": "3.68",
                                    "title": "Last Orders"
                                },
                                {
                                    "original_publication_year": "1996",
                                    "average_rating": "3.74",
                                    "title": "Lucy Sullivan Is Getting Married"
                                },
                                {
                                    "original_publication_year": "1996",
                                    "average_rating": "3.37",
                                    "title": "Sex and the City"
                                },
                                {
                                    "original_publication_year": "1996",
                                    "average_rating": "3.7",
                                    "title": "We Were the Mulvaneys"
                                },
                                {
                                    "original_publication_year": "1997",
                                    "average_rating": "3.68",
                                    "title": "Here on Earth"
                                },
                                {
                                    "original_publication_year": "1997",
                                    "average_rating": "3.93",
                                    "title": "Rachel's Holiday (Walsh Family, #2)"
                                },
                                {
                                    "original_publication_year": "1997",
                                    "average_rating": "3.77",
                                    "title": "Rose Daughter"
                                },
                                {
                                    "original_publication_year": "1998",
                                    "average_rating": "3.79",
                                    "title": "About a Boy"
                                },
                                {
                                    "original_publication_year": "1998",
                                    "average_rating": "3.41",
                                    "title": "Amsterdam"
                                },
                                {
                                    "original_publication_year": "1998",
                                    "average_rating": "3.61",
                                    "title": "Girlfriend in a Coma"
                                },
                                {
                                    "original_publication_year": "1998",
                                    "average_rating": "3.47",
                                    "title": "Glamorama"
                                },
                                {
                                    "original_publication_year": "1998",
                                    "average_rating": "3.89",
                                    "title": "I'm a Stranger Here Myself: Notes on Returning to America after Twenty Years Away"
                                },
                                {
                                    "original_publication_year": "1998",
                                    "average_rating": "3.99",
                                    "title": "Marlfox (Redwall, #11)"
                                },
                                {
                                    "original_publication_year": "1998",
                                    "average_rating": "3.52",
                                    "title": "Men Are from Mars, Women Are from Venus"
                                },
                                {
                                    "original_publication_year": "1998",
                                    "average_rating": "3.95",
                                    "title": "Message in a Bottle"
                                },
                                {
                                    "original_publication_year": "1998",
                                    "average_rating": "3.75",
                                    "title": "The No. 1 Ladies' Detective Agency  (No. 1 Ladies' Detective Agency, #1)"
                                },
                                {
                                    "original_publication_year": "1998",
                                    "average_rating": "3.81",
                                    "title": "The Street Lawyer"
                                },
                                {
                                    "original_publication_year": "1998",
                                    "average_rating": "3.74",
                                    "title": "Who Moved My Cheese?"
                                },
                                {
                                    "original_publication_year": "1999",
                                    "average_rating": "3.72",
                                    "title": "Bagombo Snuff Box"
                                },
                                {
                                    "original_publication_year": "1999",
                                    "average_rating": "3.85",
                                    "title": "Girl with a Pearl Earring"
                                },
                                {
                                    "original_publication_year": "1999",
                                    "average_rating": "3.78",
                                    "title": "Last Chance Saloon"
                                },
                                {
                                    "original_publication_year": "1999",
                                    "average_rating": "3.82",
                                    "title": "Sputnik Sweetheart"
                                },
                                {
                                    "original_publication_year": "1999",
                                    "average_rating": "3.99",
                                    "title": "The Legend of Luke (Redwall, #12)"
                                },
                                {
                                    "original_publication_year": "1999",
                                    "average_rating": "3.83",
                                    "title": "Timeline"
                                },
                                {
                                    "original_publication_year": "2000",
                                    "average_rating": "3.68",
                                    "title": "A Heartbreaking Work of Staggering Genius"
                                },
                                {
                                    "original_publication_year": "2000",
                                    "average_rating": "3.85",
                                    "title": "Angels & Demons  (Robert Langdon, #1)"
                                },
                                {
                                    "original_publication_year": "2000",
                                    "average_rating": "3.64",
                                    "title": "Code to Zero"
                                },
                                {
                                    "original_publication_year": "2000",
                                    "average_rating": "3.91",
                                    "title": "Dreamland"
                                },
                                {
                                    "original_publication_year": "2000",
                                    "average_rating": "3.73",
                                    "title": "Drowning Ruth"
                                },
                                {
                                    "original_publication_year": "2000",
                                    "average_rating": "2.8",
                                    "title": "Four Blondes"
                                },
                                {
                                    "original_publication_year": "2000",
                                    "average_rating": "3.93",
                                    "title": "Shadow of the Hegemon (Ender's Shadow, #2)"
                                },
                                {
                                    "original_publication_year": "2000",
                                    "average_rating": "3.95",
                                    "title": "Tears of the Giraffe (No. 1 Ladies' Detective Agency, #2)"
                                },
                                {
                                    "original_publication_year": "2000",
                                    "average_rating": "3.71",
                                    "title": "The Brethren"
                                },
                                {
                                    "original_publication_year": "2001",
                                    "average_rating": "3.67",
                                    "title": "A Painted House"
                                },
                                {
                                    "original_publication_year": "2001",
                                    "average_rating": "3.88",
                                    "title": "Atonement"
                                },
                                {
                                    "original_publication_year": "2001",
                                    "average_rating": "3.67",
                                    "title": "Deception Point"
                                },
                                {
                                    "original_publication_year": "2001",
                                    "average_rating": "3.55",
                                    "title": "Falling Angels"
                                },
                                {
                                    "original_publication_year": "2001",
                                    "average_rating": "3.97",
                                    "title": "Morality for Beautiful Girls (No. 1 Ladies' Detective Agency, #3)"
                                },
                                {
                                    "original_publication_year": "2001",
                                    "average_rating": "3.6",
                                    "title": "Nickel and Dimed: On (Not) Getting By in America"
                                },
                                {
                                    "original_publication_year": "2001",
                                    "average_rating": "3.92",
                                    "title": "number9dream"
                                },
                                {
                                    "original_publication_year": "2001",
                                    "average_rating": "3.94",
                                    "title": "Them: Adventures with Extremists"
                                },
                                {
                                    "original_publication_year": "2002",
                                    "average_rating": "3.51",
                                    "title": "Holy Cow: An Indian Adventure"
                                },
                                {
                                    "original_publication_year": "2002",
                                    "average_rating": "3.14",
                                    "title": "The Autograph Man"
                                },
                                {
                                    "original_publication_year": "2002",
                                    "average_rating": "3.82",
                                    "title": "The Beach House"
                                },
                                {
                                    "original_publication_year": "2002",
                                    "average_rating": "3.76",
                                    "title": "The Bookseller of Kabul"
                                },
                                {
                                    "original_publication_year": "2002",
                                    "average_rating": "3.92",
                                    "title": "The Salmon of Doubt (Dirk Gently, #3)"
                                },
                                {
                                    "original_publication_year": "2002",
                                    "average_rating": "3.68",
                                    "title": "The Summons"
                                },
                                {
                                    "original_publication_year": "2003",
                                    "average_rating": "3.46",
                                    "title": "Bleachers"
                                },
                                {
                                    "original_publication_year": "2003",
                                    "average_rating": "3.72",
                                    "title": "Hey Nostradamus!"
                                },
                                {
                                    "original_publication_year": "2003",
                                    "average_rating": "3.72",
                                    "title": "Sickened: The Memoir of a Munchausen by Proxy Childhood"
                                },
                                {
                                    "original_publication_year": "2003",
                                    "average_rating": "3.56",
                                    "title": "Songbook"
                                },
                                {
                                    "original_publication_year": "2003",
                                    "average_rating": "3.83",
                                    "title": "The Amber Room"
                                },
                                {
                                    "original_publication_year": "2003",
                                    "average_rating": "3.85",
                                    "title": "The Curious Incident of the Dog in the Night-Time"
                                },
                                {
                                    "original_publication_year": "2003",
                                    "average_rating": "3.67",
                                    "title": "The King of Torts"
                                },
                                {
                                    "original_publication_year": "2003",
                                    "average_rating": "3.78",
                                    "title": "The Second Summer of the Sisterhood (Sisterhood, #2)"
                                },
                                {
                                    "original_publication_year": "2003",
                                    "average_rating": "3.65",
                                    "title": "Villa Incognito"
                                },
                                {
                                    "original_publication_year": "2004",
                                    "average_rating": "3.86",
                                    "title": "Blue Ocean Strategy: How To Create Uncontested Market Space And Make The Competition Irrelevant"
                                },
                                {
                                    "original_publication_year": "2004",
                                    "average_rating": "3.83",
                                    "title": "Confessions of an Economic Hit Man"
                                },
                                {
                                    "original_publication_year": "2004",
                                    "average_rating": "3.9",
                                    "title": "His Excellency: George Washington"
                                },
                                {
                                    "original_publication_year": "2004",
                                    "average_rating": "3.91",
                                    "title": "Maximum City: Bombay Lost and Found"
                                },
                                {
                                    "original_publication_year": "2004",
                                    "average_rating": "3.59",
                                    "title": "Memories of My Melancholy Whores"
                                },
                                {
                                    "original_publication_year": "2004",
                                    "average_rating": "3.64",
                                    "title": "Shopaholic and Sister (Shopaholic, #4)"
                                },
                                {
                                    "original_publication_year": "2004",
                                    "average_rating": "3.98",
                                    "title": "Song of Susannah (The Dark Tower, #6)"
                                },
                                {
                                    "original_publication_year": "2004",
                                    "average_rating": "3.85",
                                    "title": "The Last Juror"
                                },
                                {
                                    "original_publication_year": "2005",
                                    "average_rating": "3.98",
                                    "title": "Assassination Vacation"
                                },
                                {
                                    "original_publication_year": "2005",
                                    "average_rating": "3.97",
                                    "title": "Everyday Italian: 125 Simple and Delicious Recipes"
                                },
                                {
                                    "original_publication_year": "2005",
                                    "average_rating": "3.39",
                                    "title": "Lipstick Jungle"
                                },
                                {
                                    "original_publication_year": "2005",
                                    "average_rating": "3.93",
                                    "title": "Olympos (Ilium, #2)"
                                },
                                {
                                    "original_publication_year": "2005",
                                    "average_rating": "3.68",
                                    "title": "On Beauty"
                                },
                                {
                                    "original_publication_year": "2005",
                                    "average_rating": "3.61",
                                    "title": "Saturday"
                                },
                                {
                                    "original_publication_year": "2005",
                                    "average_rating": "3.98",
                                    "title": "Shadow of the Giant (Ender's Shadow, #4)"
                                },
                                {
                                    "original_publication_year": "2005",
                                    "average_rating": "3.81",
                                    "title": "The Brooklyn Follies"
                                },
                                {
                                    "original_publication_year": "2005",
                                    "average_rating": "3.73",
                                    "title": "The Game: Penetrating the Secret Society of Pickup Artists"
                                },
                                {
                                    "original_publication_year": "2006",
                                    "average_rating": "3.51",
                                    "title": "I Hope They Serve Beer in Hell (Tucker Max, #1)"
                                },
                                {
                                    "original_publication_year": "2006",
                                    "average_rating": "3.66",
                                    "title": "Motor Mouth (Alex Barnaby #2)"
                                },
                                {
                                    "original_publication_year": "2006",
                                    "average_rating": "3.48",
                                    "title": "Next"
                                },
                                {
                                    "original_publication_year": "2006",
                                    "average_rating": "3.7",
                                    "title": "Special Topics in Calamity Physics"
                                },
                                {
                                    "original_publication_year": "2006",
                                    "average_rating": "3.97",
                                    "title": "The Android's Dream"
                                },
                                {
                                    "original_publication_year": "2006",
                                    "average_rating": "2.93",
                                    "title": "The Emperor's Children"
                                },
                                {
                                    "original_publication_year": "2007",
                                    "average_rating": "3.8",
                                    "title": "Forever in Blue: The Fourth Summer of the Sisterhood (Sisterhood, #4)"
                                },
                                {
                                    "original_publication_year": "2007",
                                    "average_rating": "3.7",
                                    "title": "Plum Lovin' (Stephanie Plum, #12.5)"
                                },
                                {
                                    "original_publication_year": "2007",
                                    "average_rating": "3.77",
                                    "title": "Shopaholic & Baby (Shopaholic, #5)"
                                },
                                {
                                    "original_publication_year": "2009",
                                    "average_rating": "3.83",
                                    "title": "Execution: The Discipline of Getting Things Done"
                                }
                            ]
                        },
                        "text/html": [
                            "<table>",
                            "<tr><th>original_publication_year</th><th>average_rating</th><th>title</th></tr>",
                            "<tr><td>-750</td><td>3.83</td><td>The Iliad</td></tr>",
                            "<tr><td>-458</td><td>3.99</td><td>The Oresteia  (Ορέστεια, #1-3)</td></tr>",
                            "<tr><td>-441</td><td>3.6</td><td>Antigone (The Theban Plays, #3)</td></tr>",
                            "<tr><td>-430</td><td>3.67</td><td>Oedipus Rex  (The Theban Plays, #1)</td></tr>",
                            "<tr><td>-411</td><td>3.84</td><td>Lysistrata</td></tr>",
                            "<tr><td>1390</td><td>3.48</td><td>The Canterbury Tales</td></tr>",
                            "<tr><td>1605</td><td>3.85</td><td>Don Quixote</td></tr>",
                            "<tr><td>1606</td><td>3.88</td><td>Macbeth</td></tr>",
                            "<tr><td>1726</td><td>3.55</td><td>Gulliver&#39;s Travels</td></tr>",
                            "<tr><td>1847</td><td>3.82</td><td>Wuthering Heights</td></tr>",
                            "<tr><td>1848</td><td>3.97</td><td>La Dame aux Camélias</td></tr>",
                            "<tr><td>1854</td><td>3.5</td><td>Hard Times</td></tr>",
                            "<tr><td>1856</td><td>3.64</td><td>Madame Bovary</td></tr>",
                            "<tr><td>1860</td><td>3.75</td><td>Great Expectations</td></tr>",
                            "<tr><td>1880</td><td>3.97</td><td>Heidi</td></tr>",
                            "<tr><td>1882</td><td>3.82</td><td>Treasure Island</td></tr>",
                            "<tr><td>1884</td><td>3.8</td><td>The Adventures of Huckleberry Finn</td></tr>",
                            "<tr><td>1889</td><td>3.9</td><td>Three Men in a Boat (Three Men, #1)</td></tr>",
                            "<tr><td>1895</td><td>3.87</td><td>The Time Machine</td></tr>",
                            "<tr><td>1897</td><td>3.8</td><td>The War of the Worlds</td></tr>",
                            "<tr><td>1908</td><td>3.98</td><td>The Wind in the Willows</td></tr>",
                            "<tr><td>1912</td><td>3.9</td><td>Pygmalion</td></tr>",
                            "<tr><td>1912</td><td>3.93</td><td>The Broken Wings</td></tr>",
                            "<tr><td>1920</td><td>3.66</td><td>Women in Love (Brangwen Family, #2)</td></tr>",
                            "<tr><td>1922</td><td>3.75</td><td>The Beautiful and Damned</td></tr>",
                            "<tr><td>1932</td><td>3.97</td><td>Brave New World</td></tr>",
                            "<tr><td>1933</td><td>3.9</td><td>Lost Horizon</td></tr>",
                            "<tr><td>1933</td><td>3.42</td><td>The Red Pony</td></tr>",
                            "<tr><td>1934</td><td>3.84</td><td>Burmese Days</td></tr>",
                            "<tr><td>1937</td><td>3.84</td><td>Of Mice and Men</td></tr>",
                            "<tr><td>1938</td><td>3.85</td><td>Tropic of Capricorn</td></tr>",
                            "<tr><td>1940</td><td>3.99</td><td>The Power and the Glory</td></tr>",
                            "<tr><td>1945</td><td>3.87</td><td>Animal Farm</td></tr>",
                            "<tr><td>1948</td><td>3.98</td><td>The Heart of the Matter</td></tr>",
                            "<tr><td>1952</td><td>3.85</td><td>Player Piano</td></tr>",
                            "<tr><td>1953</td><td>3.97</td><td>Fahrenheit 451</td></tr>",
                            "<tr><td>1953</td><td>3.88</td><td>The First Four Years  (Little House, #9)</td></tr>",
                            "<tr><td>1955</td><td>3.96</td><td>The Quiet American</td></tr>",
                            "<tr><td>1957</td><td>3.68</td><td>Atlas Shrugged</td></tr>",
                            "<tr><td>1958</td><td>3.93</td><td>Brave New World Revisited </td></tr>",
                            "<tr><td>1959</td><td>3.8</td><td>Goldfinger (James Bond, #7)</td></tr>",
                            "<tr><td>1961</td><td>3.82</td><td>A House for Mr Biswas</td></tr>",
                            "<tr><td>1961</td><td>3.98</td><td>Franny and Zooey</td></tr>",
                            "<tr><td>1961</td><td>3.99</td><td>James and the Giant Peach</td></tr>",
                            "<tr><td>1961</td><td>3.47</td><td>The Virtue of Selfishness: A New Concept of Egoism</td></tr>",
                            "<tr><td>1961</td><td>3.99</td><td>The Winter of Our Discontent</td></tr>",
                            "<tr><td>1962</td><td>3.91</td><td>The Woman in the Dunes</td></tr>",
                            "<tr><td>1963</td><td>3.98</td><td>The Bell Jar</td></tr>",
                            "<tr><td>1966</td><td>3.7</td><td>The Crying of Lot 49</td></tr>",
                            "<tr><td>1971</td><td>3.97</td><td>Another Roadside Attraction</td></tr>",
                            "<tr><td>1972</td><td>3.34</td><td>The Terminal Man</td></tr>",
                            "<tr><td>1974</td><td>3.22</td><td>The 158-Pound Marriage</td></tr>",
                            "<tr><td>1975</td><td>3.85</td><td>A History of God: The 4,000-Year Quest of Judaism, Christianity, and Islam</td></tr>",
                            "<tr><td>1976</td><td>3.9</td><td>Children of Dune (Dune Chronicles #3)</td></tr>",
                            "<tr><td>1980</td><td>3.55</td><td>Congo</td></tr>",
                            "<tr><td>1982</td><td>3.8</td><td>Deadeye Dick</td></tr>",
                            "<tr><td>1983</td><td>3.85</td><td>Life and Times of Michael K</td></tr>",
                            "<tr><td>1984</td><td>3.83</td><td>Heretics of Dune (Dune Chronicles #5)</td></tr>",
                            "<tr><td>1985</td><td>3.81</td><td>City of Glass (The New York Trilogy, #1)</td></tr>",
                            "<tr><td>1985</td><td>3.89</td><td>Love in the Time of Cholera</td></tr>",
                            "<tr><td>1986</td><td>3.68</td><td>Hatchet (Brian&#39;s Saga, #1)</td></tr>",
                            "<tr><td>1987</td><td>3.77</td><td>Beloved</td></tr>",
                            "<tr><td>1987</td><td>3.97</td><td>Dirk Gently&#39;s Holistic Detective Agency (Dirk Gently #1)</td></tr>",
                            "<tr><td>1987</td><td>3.88</td><td>In the Skin of a Lion</td></tr>",
                            "<tr><td>1987</td><td>3.64</td><td>The Pilgrimage</td></tr>",
                            "<tr><td>1987</td><td>3.71</td><td>The Rules of Attraction</td></tr>",
                            "<tr><td>1988</td><td>3.82</td><td>The Book of Ruth</td></tr>",
                            "<tr><td>1988</td><td>3.3</td><td>The Valkyries</td></tr>",
                            "<tr><td>1989</td><td>3.86</td><td>What to Expect the First Year (What to Expect)</td></tr>",
                            "<tr><td>1990</td><td>3.81</td><td>Hocus Pocus</td></tr>",
                            "<tr><td>1990</td><td>3.96</td><td>Jurassic Park (Jurassic Park, #1)</td></tr>",
                            "<tr><td>1990</td><td>3.95</td><td>The Mother Tongue: English and How It Got That Way</td></tr>",
                            "<tr><td>1991</td><td>3.73</td><td>Generation X: Tales for an Accelerated Culture</td></tr>",
                            "<tr><td>1991</td><td>3.64</td><td>Jewel</td></tr>",
                            "<tr><td>1991</td><td>3.96</td><td>Mariel of Redwall (Redwall, #4)</td></tr>",
                            "<tr><td>1991</td><td>3.88</td><td>Neither Here nor There: Travels in Europe</td></tr>",
                            "<tr><td>1991</td><td>3.78</td><td>Night Over Water</td></tr>",
                            "<tr><td>1991</td><td>3.77</td><td>Xenocide (Ender&#39;s Saga, #3)</td></tr>",
                            "<tr><td>1992</td><td>3.78</td><td>A Map of the World</td></tr>",
                            "<tr><td>1992</td><td>3.95</td><td>Leviathan</td></tr>",
                            "<tr><td>1992</td><td>3.55</td><td>Little Altars Everywhere</td></tr>",
                            "<tr><td>1992</td><td>3.92</td><td>Prophet</td></tr>",
                            "<tr><td>1993</td><td>3.88</td><td>Deerskin</td></tr>",
                            "<tr><td>1993</td><td>3.97</td><td>The Client</td></tr>",
                            "<tr><td>1994</td><td>3.61</td><td>A Son of the Circus</td></tr>",
                            "<tr><td>1994</td><td>3.98</td><td>Built to Last: Successful Habits of Visionary Companies</td></tr>",
                            "<tr><td>1994</td><td>3.78</td><td>In the Lake of the Woods</td></tr>",
                            "<tr><td>1994</td><td>3.95</td><td>The Bellmaker (Redwall, #7)</td></tr>",
                            "<tr><td>1995</td><td>3.95</td><td>Longitude: The True Story of a Lone Genius Who Solved the Greatest Scientific Problem of His Time</td></tr>",
                            "<tr><td>1995</td><td>3.98</td><td>Reservation Blues</td></tr>",
                            "<tr><td>1995</td><td>3.68</td><td>Songs in Ordinary Time</td></tr>",
                            "<tr><td>1995</td><td>3.72</td><td>The Lost World (Jurassic Park, #2)</td></tr>",
                            "<tr><td>1995</td><td>3.92</td><td>The Moor&#39;s Last Sigh</td></tr>",
                            "<tr><td>1995</td><td>3.8</td><td>The Rapture of Canaan</td></tr>",
                            "<tr><td>1996</td><td>3.93</td><td>Cause of Death (Kay Scarpetta, #7)</td></tr>",
                            "<tr><td>1996</td><td>3.68</td><td>Last Orders</td></tr>",
                            "<tr><td>1996</td><td>3.74</td><td>Lucy Sullivan Is Getting Married</td></tr>",
                            "<tr><td>1996</td><td>3.37</td><td>Sex and the City</td></tr>",
                            "<tr><td>1996</td><td>3.7</td><td>We Were the Mulvaneys</td></tr>",
                            "<tr><td>1997</td><td>3.68</td><td>Here on Earth</td></tr>",
                            "<tr><td>1997</td><td>3.93</td><td>Rachel&#39;s Holiday (Walsh Family, #2)</td></tr>",
                            "<tr><td>1997</td><td>3.77</td><td>Rose Daughter</td></tr>",
                            "<tr><td>1998</td><td>3.79</td><td>About a Boy</td></tr>",
                            "<tr><td>1998</td><td>3.41</td><td>Amsterdam</td></tr>",
                            "<tr><td>1998</td><td>3.61</td><td>Girlfriend in a Coma</td></tr>",
                            "<tr><td>1998</td><td>3.47</td><td>Glamorama</td></tr>",
                            "<tr><td>1998</td><td>3.89</td><td>I&#39;m a Stranger Here Myself: Notes on Returning to America after Twenty Years Away</td></tr>",
                            "<tr><td>1998</td><td>3.99</td><td>Marlfox (Redwall, #11)</td></tr>",
                            "<tr><td>1998</td><td>3.52</td><td>Men Are from Mars, Women Are from Venus</td></tr>",
                            "<tr><td>1998</td><td>3.95</td><td>Message in a Bottle</td></tr>",
                            "<tr><td>1998</td><td>3.75</td><td>The No. 1 Ladies&#39; Detective Agency  (No. 1 Ladies&#39; Detective Agency, #1)</td></tr>",
                            "<tr><td>1998</td><td>3.81</td><td>The Street Lawyer</td></tr>",
                            "<tr><td>1998</td><td>3.74</td><td>Who Moved My Cheese?</td></tr>",
                            "<tr><td>1999</td><td>3.72</td><td>Bagombo Snuff Box</td></tr>",
                            "<tr><td>1999</td><td>3.85</td><td>Girl with a Pearl Earring</td></tr>",
                            "<tr><td>1999</td><td>3.78</td><td>Last Chance Saloon</td></tr>",
                            "<tr><td>1999</td><td>3.82</td><td>Sputnik Sweetheart</td></tr>",
                            "<tr><td>1999</td><td>3.99</td><td>The Legend of Luke (Redwall, #12)</td></tr>",
                            "<tr><td>1999</td><td>3.83</td><td>Timeline</td></tr>",
                            "<tr><td>2000</td><td>3.68</td><td>A Heartbreaking Work of Staggering Genius</td></tr>",
                            "<tr><td>2000</td><td>3.85</td><td>Angels &amp; Demons  (Robert Langdon, #1)</td></tr>",
                            "<tr><td>2000</td><td>3.64</td><td>Code to Zero</td></tr>",
                            "<tr><td>2000</td><td>3.91</td><td>Dreamland</td></tr>",
                            "<tr><td>2000</td><td>3.73</td><td>Drowning Ruth</td></tr>",
                            "<tr><td>2000</td><td>2.8</td><td>Four Blondes</td></tr>",
                            "<tr><td>2000</td><td>3.93</td><td>Shadow of the Hegemon (Ender&#39;s Shadow, #2)</td></tr>",
                            "<tr><td>2000</td><td>3.95</td><td>Tears of the Giraffe (No. 1 Ladies&#39; Detective Agency, #2)</td></tr>",
                            "<tr><td>2000</td><td>3.71</td><td>The Brethren</td></tr>",
                            "<tr><td>2001</td><td>3.67</td><td>A Painted House</td></tr>",
                            "<tr><td>2001</td><td>3.88</td><td>Atonement</td></tr>",
                            "<tr><td>2001</td><td>3.67</td><td>Deception Point</td></tr>",
                            "<tr><td>2001</td><td>3.55</td><td>Falling Angels</td></tr>",
                            "<tr><td>2001</td><td>3.97</td><td>Morality for Beautiful Girls (No. 1 Ladies&#39; Detective Agency, #3)</td></tr>",
                            "<tr><td>2001</td><td>3.6</td><td>Nickel and Dimed: On (Not) Getting By in America</td></tr>",
                            "<tr><td>2001</td><td>3.92</td><td>number9dream</td></tr>",
                            "<tr><td>2001</td><td>3.94</td><td>Them: Adventures with Extremists</td></tr>",
                            "<tr><td>2002</td><td>3.51</td><td>Holy Cow: An Indian Adventure</td></tr>",
                            "<tr><td>2002</td><td>3.14</td><td>The Autograph Man</td></tr>",
                            "<tr><td>2002</td><td>3.82</td><td>The Beach House</td></tr>",
                            "<tr><td>2002</td><td>3.76</td><td>The Bookseller of Kabul</td></tr>",
                            "<tr><td>2002</td><td>3.92</td><td>The Salmon of Doubt (Dirk Gently, #3)</td></tr>",
                            "<tr><td>2002</td><td>3.68</td><td>The Summons</td></tr>",
                            "<tr><td>2003</td><td>3.46</td><td>Bleachers</td></tr>",
                            "<tr><td>2003</td><td>3.72</td><td>Hey Nostradamus!</td></tr>",
                            "<tr><td>2003</td><td>3.72</td><td>Sickened: The Memoir of a Munchausen by Proxy Childhood</td></tr>",
                            "<tr><td>2003</td><td>3.56</td><td>Songbook</td></tr>",
                            "<tr><td>2003</td><td>3.83</td><td>The Amber Room</td></tr>",
                            "<tr><td>2003</td><td>3.85</td><td>The Curious Incident of the Dog in the Night-Time</td></tr>",
                            "<tr><td>2003</td><td>3.67</td><td>The King of Torts</td></tr>",
                            "<tr><td>2003</td><td>3.78</td><td>The Second Summer of the Sisterhood (Sisterhood, #2)</td></tr>",
                            "<tr><td>2003</td><td>3.65</td><td>Villa Incognito</td></tr>",
                            "<tr><td>2004</td><td>3.86</td><td>Blue Ocean Strategy: How To Create Uncontested Market Space And Make The Competition Irrelevant</td></tr>",
                            "<tr><td>2004</td><td>3.83</td><td>Confessions of an Economic Hit Man</td></tr>",
                            "<tr><td>2004</td><td>3.9</td><td>His Excellency: George Washington</td></tr>",
                            "<tr><td>2004</td><td>3.91</td><td>Maximum City: Bombay Lost and Found</td></tr>",
                            "<tr><td>2004</td><td>3.59</td><td>Memories of My Melancholy Whores</td></tr>",
                            "<tr><td>2004</td><td>3.64</td><td>Shopaholic and Sister (Shopaholic, #4)</td></tr>",
                            "<tr><td>2004</td><td>3.98</td><td>Song of Susannah (The Dark Tower, #6)</td></tr>",
                            "<tr><td>2004</td><td>3.85</td><td>The Last Juror</td></tr>",
                            "<tr><td>2005</td><td>3.98</td><td>Assassination Vacation</td></tr>",
                            "<tr><td>2005</td><td>3.97</td><td>Everyday Italian: 125 Simple and Delicious Recipes</td></tr>",
                            "<tr><td>2005</td><td>3.39</td><td>Lipstick Jungle</td></tr>",
                            "<tr><td>2005</td><td>3.93</td><td>Olympos (Ilium, #2)</td></tr>",
                            "<tr><td>2005</td><td>3.68</td><td>On Beauty</td></tr>",
                            "<tr><td>2005</td><td>3.61</td><td>Saturday</td></tr>",
                            "<tr><td>2005</td><td>3.98</td><td>Shadow of the Giant (Ender&#39;s Shadow, #4)</td></tr>",
                            "<tr><td>2005</td><td>3.81</td><td>The Brooklyn Follies</td></tr>",
                            "<tr><td>2005</td><td>3.73</td><td>The Game: Penetrating the Secret Society of Pickup Artists</td></tr>",
                            "<tr><td>2006</td><td>3.51</td><td>I Hope They Serve Beer in Hell (Tucker Max, #1)</td></tr>",
                            "<tr><td>2006</td><td>3.66</td><td>Motor Mouth (Alex Barnaby #2)</td></tr>",
                            "<tr><td>2006</td><td>3.48</td><td>Next</td></tr>",
                            "<tr><td>2006</td><td>3.7</td><td>Special Topics in Calamity Physics</td></tr>",
                            "<tr><td>2006</td><td>3.97</td><td>The Android&#39;s Dream</td></tr>",
                            "<tr><td>2006</td><td>2.93</td><td>The Emperor&#39;s Children</td></tr>",
                            "<tr><td>2007</td><td>3.8</td><td>Forever in Blue: The Fourth Summer of the Sisterhood (Sisterhood, #4)</td></tr>",
                            "<tr><td>2007</td><td>3.7</td><td>Plum Lovin&#39; (Stephanie Plum, #12.5)</td></tr>",
                            "<tr><td>2007</td><td>3.77</td><td>Shopaholic &amp; Baby (Shopaholic, #5)</td></tr>",
                            "<tr><td>2009</td><td>3.83</td><td>Execution: The Discipline of Getting Things Done</td></tr>",
                            "</table>"
                        ]
                    }
                }
            ],
            "execution_count": 12
        },
        {
            "cell_type": "code",
            "source": [
                "SELECT "
            ],
            "metadata": {
                "language": "sql",
                "azdata_cell_guid": "a159c16e-875b-45ad-95fe-18829dcc2c66"
            },
            "outputs": [],
            "execution_count": null
        }
    ]
}